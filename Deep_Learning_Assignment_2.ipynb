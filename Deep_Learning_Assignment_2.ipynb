{
  "nbformat": 4,
  "nbformat_minor": 0,
  "metadata": {
    "colab": {
      "name": "A2_Task1.ipynb",
      "provenance": [],
      "collapsed_sections": [
        "_zgZPbZAAVUq",
        "ai2c5DOG74Ya",
        "RPiN2fG6_nX8",
        "83-zTnZcvO8s",
        "bJDX6Os-s8JA",
        "nvxDImbw5MNH",
        "akzUkxl7TmPC",
        "J8M5hihZy11_"
      ]
    },
    "kernelspec": {
      "display_name": "Python 3",
      "name": "python3"
    },
    "language_info": {
      "name": "python"
    },
    "accelerator": "GPU"
  },
  "cells": [
    {
      "cell_type": "markdown",
      "metadata": {
        "id": "sRkDO3D2ANdb"
      },
      "source": [
        "# Introduction to Deep Learning Assignment 2"
      ]
    },
    {
      "cell_type": "markdown",
      "metadata": {
        "id": "_zgZPbZAAVUq"
      },
      "source": [
        "## Task 1 - MNIST MLP"
      ]
    },
    {
      "cell_type": "code",
      "metadata": {
        "id": "uICOi6KZ9L-R"
      },
      "source": [
        "import tensorflow as tf\n",
        "from tensorflow import keras\n",
        "from tensorflow.keras import regularizers\n",
        "import matplotlib.pyplot as plt\n",
        "import numpy as np\n",
        "import pandas as pd\n",
        "import seaborn as sns\n",
        "import time\n",
        "import os"
      ],
      "execution_count": null,
      "outputs": []
    },
    {
      "cell_type": "code",
      "metadata": {
        "id": "dndVC0PuoYRG"
      },
      "source": [
        "#setting the seed\n",
        "\n",
        "np.random.seed(1337)"
      ],
      "execution_count": null,
      "outputs": []
    },
    {
      "cell_type": "code",
      "metadata": {
        "id": "PrX_KbNJiTC6",
        "colab": {
          "base_uri": "https://localhost:8080/"
        },
        "outputId": "35f79cde-0ecb-458a-f2d8-33876bb044a9"
      },
      "source": [
        "np.random.seed(1337)\n",
        "#First the mnist dataset\n",
        "mnist = keras.datasets.mnist\n",
        "(X_train_full, y_train_full), (X_test, y_test) = mnist.load_data()\n",
        "\n",
        "def make_mlp_datasets(X_train_full, y_train_full, X_test, y_test):\n",
        "\n",
        "  num_rows = 28\n",
        "  num_cols = 28\n",
        "\n",
        "  X_train_full = X_train_full.reshape(X_train_full.shape[0], 28*28)\n",
        "  X_test = X_test.reshape(X_test.shape[0], 28*28)\n",
        "\n",
        "  X_train_full = X_train_full.astype('float32')\n",
        "  X_test = X_test.astype('float32')\n",
        "\n",
        "  X_train_full /= 255\n",
        "  X_test /= 255\n",
        "\n",
        "  X_valid, X_train = X_train_full[:5000], X_train_full[5000:]\n",
        "  y_valid, y_train = y_train_full[:5000], y_train_full[5000:]\n",
        "\n",
        "  X_train = X_train.astype('float32')\n",
        "  X_test = X_test.astype('float32')\n",
        "  X_valid= X_valid.astype(\"float32\")\n",
        "  y_valid = y_valid.astype(\"float32\")\n",
        "\n",
        "  y_train = keras.utils.to_categorical(y_train, 10)\n",
        "  y_test = keras.utils.to_categorical(y_test, 10)\n",
        "  y_valid = keras.utils.to_categorical(y_valid, 10)\n",
        "\n",
        "  return X_train, y_train, X_valid, y_valid, X_test, y_test"
      ],
      "execution_count": null,
      "outputs": [
        {
          "output_type": "stream",
          "name": "stdout",
          "text": [
            "Downloading data from https://storage.googleapis.com/tensorflow/tf-keras-datasets/mnist.npz\n",
            "11493376/11490434 [==============================] - 0s 0us/step\n",
            "11501568/11490434 [==============================] - 0s 0us/step\n"
          ]
        }
      ]
    },
    {
      "cell_type": "code",
      "metadata": {
        "id": "s2z-z0wBl53e"
      },
      "source": [
        "np.random.seed(1337)\n",
        "X_train_mlp, y_train_mlp, X_valid_mlp, y_valid_mlp, X_test_mlp, y_test_mlp = make_mlp_datasets(X_train_full, y_train_full, X_test, y_test)"
      ],
      "execution_count": null,
      "outputs": []
    },
    {
      "cell_type": "code",
      "metadata": {
        "id": "FskD3ceSi4YJ"
      },
      "source": [
        "feature_vector_length = 784\n",
        "num_classes = 10"
      ],
      "execution_count": null,
      "outputs": []
    },
    {
      "cell_type": "code",
      "metadata": {
        "colab": {
          "base_uri": "https://localhost:8080/"
        },
        "id": "jEp4wr82QgjQ",
        "outputId": "ed6bc229-90e7-429f-91d7-cd8f4e754aa6"
      },
      "source": [
        "input_shape = (feature_vector_length,)\n",
        "print(f'Feature shape: {input_shape}')"
      ],
      "execution_count": null,
      "outputs": [
        {
          "output_type": "stream",
          "name": "stdout",
          "text": [
            "Feature shape: (784,)\n"
          ]
        }
      ]
    },
    {
      "cell_type": "markdown",
      "metadata": {
        "id": "49u79jS-q22D"
      },
      "source": [
        "First the weight initialization"
      ]
    },
    {
      "cell_type": "code",
      "metadata": {
        "colab": {
          "base_uri": "https://localhost:8080/"
        },
        "id": "t3VCeSHdq0LP",
        "outputId": "d2eac6a7-5436-42e0-8858-9a5ea8c109fa"
      },
      "source": [
        "\n",
        "# First lets select the number of hidden layers\n",
        "model = keras.models.Sequential()\n",
        "\n",
        "model.add(keras.layers.Dense(30, activation=\"relu\", input_shape = input_shape, kernel_initializer=keras.initializers.RandomNormal(stddev=0.01)))\n",
        "model.add(keras.layers.Dense(10, activation=\"softmax\", kernel_initializer=keras.initializers.RandomNormal(stddev=0.01)))\n",
        "model.compile(loss='categorical_crossentropy', optimizer='adam', metrics=['accuracy'])\n",
        "model.fit(X_train_mlp, y_train_mlp, verbose=0, epochs=3)\n",
        "\n",
        "test_results = model.evaluate(X_valid_mlp, y_valid_mlp, verbose=1)\n",
        "print(f'Test results - Loss: {test_results[0]} - Accuracy: {test_results[1] * 100}%')"
      ],
      "execution_count": null,
      "outputs": [
        {
          "output_type": "stream",
          "name": "stdout",
          "text": [
            "157/157 [==============================] - 0s 1ms/step - loss: 0.1733 - accuracy: 0.9506\n",
            "Test results - Loss: 0.17326189577579498 - Accuracy: 95.06000280380249%\n"
          ]
        }
      ]
    },
    {
      "cell_type": "code",
      "metadata": {
        "colab": {
          "base_uri": "https://localhost:8080/",
          "height": 748
        },
        "id": "Zp2FKttdrPVS",
        "outputId": "21e24550-3a51-46b1-9603-d78d2f76ca50"
      },
      "source": [
        "# Kernel Initializer - RandomNormal(0, 1)\n",
        "model = keras.models.Sequential()\n",
        "\n",
        "model.add(keras.layers.Dense(30, activation=\"relu\", input_shape = input_shape, kernel_initializer=keras.initializers.RandomNormal(mean = 0, stddev=1)))\n",
        "model.add(keras.layers.Dense(10, activation=\"softmax\", kernel_initializer=keras.initializers.RandomNormal(mean = 0, stddev=1)))\n",
        "model.compile(loss='categorical_crossentropy', optimizer='adam', metrics=['accuracy'])\n",
        "model.fit(X_train_mlp, y_train_mlp, verbose=0, epochs=3)\n",
        "\n",
        "test_results = model.evaluate(X_valid_mlp, y_valid_mlp, verbose=1)\n",
        "print(f'Test results - Loss: {test_results[0]} - Accuracy: {test_results[1] * 100}%')"
      ],
      "execution_count": null,
      "outputs": [
        {
          "name": "stdout",
          "output_type": "stream",
          "text": [
            "Epoch 1/5\n"
          ]
        },
        {
          "ename": "ValueError",
          "evalue": "ignored",
          "output_type": "error",
          "traceback": [
            "\u001b[0;31m---------------------------------------------------------------------------\u001b[0m",
            "\u001b[0;31mValueError\u001b[0m                                Traceback (most recent call last)",
            "\u001b[0;32m<ipython-input-15-298cf02b584c>\u001b[0m in \u001b[0;36m<module>\u001b[0;34m()\u001b[0m\n\u001b[1;32m      5\u001b[0m \u001b[0mmodel\u001b[0m\u001b[0;34m.\u001b[0m\u001b[0madd\u001b[0m\u001b[0;34m(\u001b[0m\u001b[0mkeras\u001b[0m\u001b[0;34m.\u001b[0m\u001b[0mlayers\u001b[0m\u001b[0;34m.\u001b[0m\u001b[0mDense\u001b[0m\u001b[0;34m(\u001b[0m\u001b[0;36m10\u001b[0m\u001b[0;34m,\u001b[0m \u001b[0mactivation\u001b[0m\u001b[0;34m=\u001b[0m\u001b[0;34m\"softmax\"\u001b[0m\u001b[0;34m,\u001b[0m \u001b[0mkernel_initializer\u001b[0m\u001b[0;34m=\u001b[0m\u001b[0mkeras\u001b[0m\u001b[0;34m.\u001b[0m\u001b[0minitializers\u001b[0m\u001b[0;34m.\u001b[0m\u001b[0mRandomNormal\u001b[0m\u001b[0;34m(\u001b[0m\u001b[0mmean\u001b[0m \u001b[0;34m=\u001b[0m \u001b[0;36m0\u001b[0m\u001b[0;34m,\u001b[0m \u001b[0mstddev\u001b[0m\u001b[0;34m=\u001b[0m\u001b[0;36m1\u001b[0m\u001b[0;34m)\u001b[0m\u001b[0;34m)\u001b[0m\u001b[0;34m)\u001b[0m\u001b[0;34m\u001b[0m\u001b[0;34m\u001b[0m\u001b[0m\n\u001b[1;32m      6\u001b[0m \u001b[0mmodel\u001b[0m\u001b[0;34m.\u001b[0m\u001b[0mcompile\u001b[0m\u001b[0;34m(\u001b[0m\u001b[0mloss\u001b[0m\u001b[0;34m=\u001b[0m\u001b[0;34m'categorical_crossentropy'\u001b[0m\u001b[0;34m,\u001b[0m \u001b[0moptimizer\u001b[0m\u001b[0;34m=\u001b[0m\u001b[0;34m'adam'\u001b[0m\u001b[0;34m,\u001b[0m \u001b[0mmetrics\u001b[0m\u001b[0;34m=\u001b[0m\u001b[0;34m[\u001b[0m\u001b[0;34m'accuracy'\u001b[0m\u001b[0;34m]\u001b[0m\u001b[0;34m)\u001b[0m\u001b[0;34m\u001b[0m\u001b[0;34m\u001b[0m\u001b[0m\n\u001b[0;32m----> 7\u001b[0;31m \u001b[0mmodel\u001b[0m\u001b[0;34m.\u001b[0m\u001b[0mfit\u001b[0m\u001b[0;34m(\u001b[0m\u001b[0mX_train_mlp\u001b[0m\u001b[0;34m,\u001b[0m \u001b[0my_train_mlp\u001b[0m\u001b[0;34m,\u001b[0m \u001b[0mverbose\u001b[0m\u001b[0;34m=\u001b[0m\u001b[0;36m1\u001b[0m\u001b[0;34m,\u001b[0m \u001b[0mepochs\u001b[0m\u001b[0;34m=\u001b[0m\u001b[0;36m5\u001b[0m\u001b[0;34m)\u001b[0m\u001b[0;34m\u001b[0m\u001b[0;34m\u001b[0m\u001b[0m\n\u001b[0m\u001b[1;32m      8\u001b[0m \u001b[0;34m\u001b[0m\u001b[0m\n\u001b[1;32m      9\u001b[0m \u001b[0mtest_results\u001b[0m \u001b[0;34m=\u001b[0m \u001b[0mmodel\u001b[0m\u001b[0;34m.\u001b[0m\u001b[0mevaluate\u001b[0m\u001b[0;34m(\u001b[0m\u001b[0mX_valid_mlp\u001b[0m\u001b[0;34m,\u001b[0m \u001b[0my_valid_mlp\u001b[0m\u001b[0;34m,\u001b[0m \u001b[0mverbose\u001b[0m\u001b[0;34m=\u001b[0m\u001b[0;36m1\u001b[0m\u001b[0;34m)\u001b[0m\u001b[0;34m\u001b[0m\u001b[0;34m\u001b[0m\u001b[0m\n",
            "\u001b[0;32m/usr/local/lib/python3.7/dist-packages/keras/engine/training.py\u001b[0m in \u001b[0;36mfit\u001b[0;34m(self, x, y, batch_size, epochs, verbose, callbacks, validation_split, validation_data, shuffle, class_weight, sample_weight, initial_epoch, steps_per_epoch, validation_steps, validation_batch_size, validation_freq, max_queue_size, workers, use_multiprocessing)\u001b[0m\n\u001b[1;32m   1182\u001b[0m                 _r=1):\n\u001b[1;32m   1183\u001b[0m               \u001b[0mcallbacks\u001b[0m\u001b[0;34m.\u001b[0m\u001b[0mon_train_batch_begin\u001b[0m\u001b[0;34m(\u001b[0m\u001b[0mstep\u001b[0m\u001b[0;34m)\u001b[0m\u001b[0;34m\u001b[0m\u001b[0;34m\u001b[0m\u001b[0m\n\u001b[0;32m-> 1184\u001b[0;31m               \u001b[0mtmp_logs\u001b[0m \u001b[0;34m=\u001b[0m \u001b[0mself\u001b[0m\u001b[0;34m.\u001b[0m\u001b[0mtrain_function\u001b[0m\u001b[0;34m(\u001b[0m\u001b[0miterator\u001b[0m\u001b[0;34m)\u001b[0m\u001b[0;34m\u001b[0m\u001b[0;34m\u001b[0m\u001b[0m\n\u001b[0m\u001b[1;32m   1185\u001b[0m               \u001b[0;32mif\u001b[0m \u001b[0mdata_handler\u001b[0m\u001b[0;34m.\u001b[0m\u001b[0mshould_sync\u001b[0m\u001b[0;34m:\u001b[0m\u001b[0;34m\u001b[0m\u001b[0;34m\u001b[0m\u001b[0m\n\u001b[1;32m   1186\u001b[0m                 \u001b[0mcontext\u001b[0m\u001b[0;34m.\u001b[0m\u001b[0masync_wait\u001b[0m\u001b[0;34m(\u001b[0m\u001b[0;34m)\u001b[0m\u001b[0;34m\u001b[0m\u001b[0;34m\u001b[0m\u001b[0m\n",
            "\u001b[0;32m/usr/local/lib/python3.7/dist-packages/tensorflow/python/eager/def_function.py\u001b[0m in \u001b[0;36m__call__\u001b[0;34m(self, *args, **kwds)\u001b[0m\n\u001b[1;32m    883\u001b[0m \u001b[0;34m\u001b[0m\u001b[0m\n\u001b[1;32m    884\u001b[0m       \u001b[0;32mwith\u001b[0m \u001b[0mOptionalXlaContext\u001b[0m\u001b[0;34m(\u001b[0m\u001b[0mself\u001b[0m\u001b[0;34m.\u001b[0m\u001b[0m_jit_compile\u001b[0m\u001b[0;34m)\u001b[0m\u001b[0;34m:\u001b[0m\u001b[0;34m\u001b[0m\u001b[0;34m\u001b[0m\u001b[0m\n\u001b[0;32m--> 885\u001b[0;31m         \u001b[0mresult\u001b[0m \u001b[0;34m=\u001b[0m \u001b[0mself\u001b[0m\u001b[0;34m.\u001b[0m\u001b[0m_call\u001b[0m\u001b[0;34m(\u001b[0m\u001b[0;34m*\u001b[0m\u001b[0margs\u001b[0m\u001b[0;34m,\u001b[0m \u001b[0;34m**\u001b[0m\u001b[0mkwds\u001b[0m\u001b[0;34m)\u001b[0m\u001b[0;34m\u001b[0m\u001b[0;34m\u001b[0m\u001b[0m\n\u001b[0m\u001b[1;32m    886\u001b[0m \u001b[0;34m\u001b[0m\u001b[0m\n\u001b[1;32m    887\u001b[0m       \u001b[0mnew_tracing_count\u001b[0m \u001b[0;34m=\u001b[0m \u001b[0mself\u001b[0m\u001b[0;34m.\u001b[0m\u001b[0mexperimental_get_tracing_count\u001b[0m\u001b[0;34m(\u001b[0m\u001b[0;34m)\u001b[0m\u001b[0;34m\u001b[0m\u001b[0;34m\u001b[0m\u001b[0m\n",
            "\u001b[0;32m/usr/local/lib/python3.7/dist-packages/tensorflow/python/eager/def_function.py\u001b[0m in \u001b[0;36m_call\u001b[0;34m(self, *args, **kwds)\u001b[0m\n\u001b[1;32m    931\u001b[0m       \u001b[0;31m# This is the first call of __call__, so we have to initialize.\u001b[0m\u001b[0;34m\u001b[0m\u001b[0;34m\u001b[0m\u001b[0;34m\u001b[0m\u001b[0m\n\u001b[1;32m    932\u001b[0m       \u001b[0minitializers\u001b[0m \u001b[0;34m=\u001b[0m \u001b[0;34m[\u001b[0m\u001b[0;34m]\u001b[0m\u001b[0;34m\u001b[0m\u001b[0;34m\u001b[0m\u001b[0m\n\u001b[0;32m--> 933\u001b[0;31m       \u001b[0mself\u001b[0m\u001b[0;34m.\u001b[0m\u001b[0m_initialize\u001b[0m\u001b[0;34m(\u001b[0m\u001b[0margs\u001b[0m\u001b[0;34m,\u001b[0m \u001b[0mkwds\u001b[0m\u001b[0;34m,\u001b[0m \u001b[0madd_initializers_to\u001b[0m\u001b[0;34m=\u001b[0m\u001b[0minitializers\u001b[0m\u001b[0;34m)\u001b[0m\u001b[0;34m\u001b[0m\u001b[0;34m\u001b[0m\u001b[0m\n\u001b[0m\u001b[1;32m    934\u001b[0m     \u001b[0;32mfinally\u001b[0m\u001b[0;34m:\u001b[0m\u001b[0;34m\u001b[0m\u001b[0;34m\u001b[0m\u001b[0m\n\u001b[1;32m    935\u001b[0m       \u001b[0;31m# At this point we know that the initialization is complete (or less\u001b[0m\u001b[0;34m\u001b[0m\u001b[0;34m\u001b[0m\u001b[0;34m\u001b[0m\u001b[0m\n",
            "\u001b[0;32m/usr/local/lib/python3.7/dist-packages/tensorflow/python/eager/def_function.py\u001b[0m in \u001b[0;36m_initialize\u001b[0;34m(self, args, kwds, add_initializers_to)\u001b[0m\n\u001b[1;32m    758\u001b[0m     self._concrete_stateful_fn = (\n\u001b[1;32m    759\u001b[0m         self._stateful_fn._get_concrete_function_internal_garbage_collected(  # pylint: disable=protected-access\n\u001b[0;32m--> 760\u001b[0;31m             *args, **kwds))\n\u001b[0m\u001b[1;32m    761\u001b[0m \u001b[0;34m\u001b[0m\u001b[0m\n\u001b[1;32m    762\u001b[0m     \u001b[0;32mdef\u001b[0m \u001b[0minvalid_creator_scope\u001b[0m\u001b[0;34m(\u001b[0m\u001b[0;34m*\u001b[0m\u001b[0munused_args\u001b[0m\u001b[0;34m,\u001b[0m \u001b[0;34m**\u001b[0m\u001b[0munused_kwds\u001b[0m\u001b[0;34m)\u001b[0m\u001b[0;34m:\u001b[0m\u001b[0;34m\u001b[0m\u001b[0;34m\u001b[0m\u001b[0m\n",
            "\u001b[0;32m/usr/local/lib/python3.7/dist-packages/tensorflow/python/eager/function.py\u001b[0m in \u001b[0;36m_get_concrete_function_internal_garbage_collected\u001b[0;34m(self, *args, **kwargs)\u001b[0m\n\u001b[1;32m   3064\u001b[0m       \u001b[0margs\u001b[0m\u001b[0;34m,\u001b[0m \u001b[0mkwargs\u001b[0m \u001b[0;34m=\u001b[0m \u001b[0;32mNone\u001b[0m\u001b[0;34m,\u001b[0m \u001b[0;32mNone\u001b[0m\u001b[0;34m\u001b[0m\u001b[0;34m\u001b[0m\u001b[0m\n\u001b[1;32m   3065\u001b[0m     \u001b[0;32mwith\u001b[0m \u001b[0mself\u001b[0m\u001b[0;34m.\u001b[0m\u001b[0m_lock\u001b[0m\u001b[0;34m:\u001b[0m\u001b[0;34m\u001b[0m\u001b[0;34m\u001b[0m\u001b[0m\n\u001b[0;32m-> 3066\u001b[0;31m       \u001b[0mgraph_function\u001b[0m\u001b[0;34m,\u001b[0m \u001b[0m_\u001b[0m \u001b[0;34m=\u001b[0m \u001b[0mself\u001b[0m\u001b[0;34m.\u001b[0m\u001b[0m_maybe_define_function\u001b[0m\u001b[0;34m(\u001b[0m\u001b[0margs\u001b[0m\u001b[0;34m,\u001b[0m \u001b[0mkwargs\u001b[0m\u001b[0;34m)\u001b[0m\u001b[0;34m\u001b[0m\u001b[0;34m\u001b[0m\u001b[0m\n\u001b[0m\u001b[1;32m   3067\u001b[0m     \u001b[0;32mreturn\u001b[0m \u001b[0mgraph_function\u001b[0m\u001b[0;34m\u001b[0m\u001b[0;34m\u001b[0m\u001b[0m\n\u001b[1;32m   3068\u001b[0m \u001b[0;34m\u001b[0m\u001b[0m\n",
            "\u001b[0;32m/usr/local/lib/python3.7/dist-packages/tensorflow/python/eager/function.py\u001b[0m in \u001b[0;36m_maybe_define_function\u001b[0;34m(self, args, kwargs)\u001b[0m\n\u001b[1;32m   3461\u001b[0m \u001b[0;34m\u001b[0m\u001b[0m\n\u001b[1;32m   3462\u001b[0m           \u001b[0mself\u001b[0m\u001b[0;34m.\u001b[0m\u001b[0m_function_cache\u001b[0m\u001b[0;34m.\u001b[0m\u001b[0mmissed\u001b[0m\u001b[0;34m.\u001b[0m\u001b[0madd\u001b[0m\u001b[0;34m(\u001b[0m\u001b[0mcall_context_key\u001b[0m\u001b[0;34m)\u001b[0m\u001b[0;34m\u001b[0m\u001b[0;34m\u001b[0m\u001b[0m\n\u001b[0;32m-> 3463\u001b[0;31m           \u001b[0mgraph_function\u001b[0m \u001b[0;34m=\u001b[0m \u001b[0mself\u001b[0m\u001b[0;34m.\u001b[0m\u001b[0m_create_graph_function\u001b[0m\u001b[0;34m(\u001b[0m\u001b[0margs\u001b[0m\u001b[0;34m,\u001b[0m \u001b[0mkwargs\u001b[0m\u001b[0;34m)\u001b[0m\u001b[0;34m\u001b[0m\u001b[0;34m\u001b[0m\u001b[0m\n\u001b[0m\u001b[1;32m   3464\u001b[0m           \u001b[0mself\u001b[0m\u001b[0;34m.\u001b[0m\u001b[0m_function_cache\u001b[0m\u001b[0;34m.\u001b[0m\u001b[0mprimary\u001b[0m\u001b[0;34m[\u001b[0m\u001b[0mcache_key\u001b[0m\u001b[0;34m]\u001b[0m \u001b[0;34m=\u001b[0m \u001b[0mgraph_function\u001b[0m\u001b[0;34m\u001b[0m\u001b[0;34m\u001b[0m\u001b[0m\n\u001b[1;32m   3465\u001b[0m \u001b[0;34m\u001b[0m\u001b[0m\n",
            "\u001b[0;32m/usr/local/lib/python3.7/dist-packages/tensorflow/python/eager/function.py\u001b[0m in \u001b[0;36m_create_graph_function\u001b[0;34m(self, args, kwargs, override_flat_arg_shapes)\u001b[0m\n\u001b[1;32m   3306\u001b[0m             \u001b[0marg_names\u001b[0m\u001b[0;34m=\u001b[0m\u001b[0marg_names\u001b[0m\u001b[0;34m,\u001b[0m\u001b[0;34m\u001b[0m\u001b[0;34m\u001b[0m\u001b[0m\n\u001b[1;32m   3307\u001b[0m             \u001b[0moverride_flat_arg_shapes\u001b[0m\u001b[0;34m=\u001b[0m\u001b[0moverride_flat_arg_shapes\u001b[0m\u001b[0;34m,\u001b[0m\u001b[0;34m\u001b[0m\u001b[0;34m\u001b[0m\u001b[0m\n\u001b[0;32m-> 3308\u001b[0;31m             capture_by_value=self._capture_by_value),\n\u001b[0m\u001b[1;32m   3309\u001b[0m         \u001b[0mself\u001b[0m\u001b[0;34m.\u001b[0m\u001b[0m_function_attributes\u001b[0m\u001b[0;34m,\u001b[0m\u001b[0;34m\u001b[0m\u001b[0;34m\u001b[0m\u001b[0m\n\u001b[1;32m   3310\u001b[0m         \u001b[0mfunction_spec\u001b[0m\u001b[0;34m=\u001b[0m\u001b[0mself\u001b[0m\u001b[0;34m.\u001b[0m\u001b[0mfunction_spec\u001b[0m\u001b[0;34m,\u001b[0m\u001b[0;34m\u001b[0m\u001b[0;34m\u001b[0m\u001b[0m\n",
            "\u001b[0;32m/usr/local/lib/python3.7/dist-packages/tensorflow/python/framework/func_graph.py\u001b[0m in \u001b[0;36mfunc_graph_from_py_func\u001b[0;34m(name, python_func, args, kwargs, signature, func_graph, autograph, autograph_options, add_control_dependencies, arg_names, op_return_value, collections, capture_by_value, override_flat_arg_shapes, acd_record_initial_resource_uses)\u001b[0m\n\u001b[1;32m   1005\u001b[0m         \u001b[0m_\u001b[0m\u001b[0;34m,\u001b[0m \u001b[0moriginal_func\u001b[0m \u001b[0;34m=\u001b[0m \u001b[0mtf_decorator\u001b[0m\u001b[0;34m.\u001b[0m\u001b[0munwrap\u001b[0m\u001b[0;34m(\u001b[0m\u001b[0mpython_func\u001b[0m\u001b[0;34m)\u001b[0m\u001b[0;34m\u001b[0m\u001b[0;34m\u001b[0m\u001b[0m\n\u001b[1;32m   1006\u001b[0m \u001b[0;34m\u001b[0m\u001b[0m\n\u001b[0;32m-> 1007\u001b[0;31m       \u001b[0mfunc_outputs\u001b[0m \u001b[0;34m=\u001b[0m \u001b[0mpython_func\u001b[0m\u001b[0;34m(\u001b[0m\u001b[0;34m*\u001b[0m\u001b[0mfunc_args\u001b[0m\u001b[0;34m,\u001b[0m \u001b[0;34m**\u001b[0m\u001b[0mfunc_kwargs\u001b[0m\u001b[0;34m)\u001b[0m\u001b[0;34m\u001b[0m\u001b[0;34m\u001b[0m\u001b[0m\n\u001b[0m\u001b[1;32m   1008\u001b[0m \u001b[0;34m\u001b[0m\u001b[0m\n\u001b[1;32m   1009\u001b[0m       \u001b[0;31m# invariant: `func_outputs` contains only Tensors, CompositeTensors,\u001b[0m\u001b[0;34m\u001b[0m\u001b[0;34m\u001b[0m\u001b[0;34m\u001b[0m\u001b[0m\n",
            "\u001b[0;32m/usr/local/lib/python3.7/dist-packages/tensorflow/python/eager/def_function.py\u001b[0m in \u001b[0;36mwrapped_fn\u001b[0;34m(*args, **kwds)\u001b[0m\n\u001b[1;32m    666\u001b[0m         \u001b[0;31m# the function a weak reference to itself to avoid a reference cycle.\u001b[0m\u001b[0;34m\u001b[0m\u001b[0;34m\u001b[0m\u001b[0;34m\u001b[0m\u001b[0m\n\u001b[1;32m    667\u001b[0m         \u001b[0;32mwith\u001b[0m \u001b[0mOptionalXlaContext\u001b[0m\u001b[0;34m(\u001b[0m\u001b[0mcompile_with_xla\u001b[0m\u001b[0;34m)\u001b[0m\u001b[0;34m:\u001b[0m\u001b[0;34m\u001b[0m\u001b[0;34m\u001b[0m\u001b[0m\n\u001b[0;32m--> 668\u001b[0;31m           \u001b[0mout\u001b[0m \u001b[0;34m=\u001b[0m \u001b[0mweak_wrapped_fn\u001b[0m\u001b[0;34m(\u001b[0m\u001b[0;34m)\u001b[0m\u001b[0;34m.\u001b[0m\u001b[0m__wrapped__\u001b[0m\u001b[0;34m(\u001b[0m\u001b[0;34m*\u001b[0m\u001b[0margs\u001b[0m\u001b[0;34m,\u001b[0m \u001b[0;34m**\u001b[0m\u001b[0mkwds\u001b[0m\u001b[0;34m)\u001b[0m\u001b[0;34m\u001b[0m\u001b[0;34m\u001b[0m\u001b[0m\n\u001b[0m\u001b[1;32m    669\u001b[0m         \u001b[0;32mreturn\u001b[0m \u001b[0mout\u001b[0m\u001b[0;34m\u001b[0m\u001b[0;34m\u001b[0m\u001b[0m\n\u001b[1;32m    670\u001b[0m \u001b[0;34m\u001b[0m\u001b[0m\n",
            "\u001b[0;32m/usr/local/lib/python3.7/dist-packages/tensorflow/python/framework/func_graph.py\u001b[0m in \u001b[0;36mwrapper\u001b[0;34m(*args, **kwargs)\u001b[0m\n\u001b[1;32m    992\u001b[0m           \u001b[0;32mexcept\u001b[0m \u001b[0mException\u001b[0m \u001b[0;32mas\u001b[0m \u001b[0me\u001b[0m\u001b[0;34m:\u001b[0m  \u001b[0;31m# pylint:disable=broad-except\u001b[0m\u001b[0;34m\u001b[0m\u001b[0;34m\u001b[0m\u001b[0m\n\u001b[1;32m    993\u001b[0m             \u001b[0;32mif\u001b[0m \u001b[0mhasattr\u001b[0m\u001b[0;34m(\u001b[0m\u001b[0me\u001b[0m\u001b[0;34m,\u001b[0m \u001b[0;34m\"ag_error_metadata\"\u001b[0m\u001b[0;34m)\u001b[0m\u001b[0;34m:\u001b[0m\u001b[0;34m\u001b[0m\u001b[0;34m\u001b[0m\u001b[0m\n\u001b[0;32m--> 994\u001b[0;31m               \u001b[0;32mraise\u001b[0m \u001b[0me\u001b[0m\u001b[0;34m.\u001b[0m\u001b[0mag_error_metadata\u001b[0m\u001b[0;34m.\u001b[0m\u001b[0mto_exception\u001b[0m\u001b[0;34m(\u001b[0m\u001b[0me\u001b[0m\u001b[0;34m)\u001b[0m\u001b[0;34m\u001b[0m\u001b[0;34m\u001b[0m\u001b[0m\n\u001b[0m\u001b[1;32m    995\u001b[0m             \u001b[0;32melse\u001b[0m\u001b[0;34m:\u001b[0m\u001b[0;34m\u001b[0m\u001b[0;34m\u001b[0m\u001b[0m\n\u001b[1;32m    996\u001b[0m               \u001b[0;32mraise\u001b[0m\u001b[0;34m\u001b[0m\u001b[0;34m\u001b[0m\u001b[0m\n",
            "\u001b[0;31mValueError\u001b[0m: in user code:\n\n    /usr/local/lib/python3.7/dist-packages/keras/engine/training.py:853 train_function  *\n        return step_function(self, iterator)\n    /usr/local/lib/python3.7/dist-packages/keras/engine/training.py:842 step_function  **\n        outputs = model.distribute_strategy.run(run_step, args=(data,))\n    /usr/local/lib/python3.7/dist-packages/tensorflow/python/distribute/distribute_lib.py:1286 run\n        return self._extended.call_for_each_replica(fn, args=args, kwargs=kwargs)\n    /usr/local/lib/python3.7/dist-packages/tensorflow/python/distribute/distribute_lib.py:2849 call_for_each_replica\n        return self._call_for_each_replica(fn, args, kwargs)\n    /usr/local/lib/python3.7/dist-packages/tensorflow/python/distribute/distribute_lib.py:3632 _call_for_each_replica\n        return fn(*args, **kwargs)\n    /usr/local/lib/python3.7/dist-packages/keras/engine/training.py:835 run_step  **\n        outputs = model.train_step(data)\n    /usr/local/lib/python3.7/dist-packages/keras/engine/training.py:787 train_step\n        y_pred = self(x, training=True)\n    /usr/local/lib/python3.7/dist-packages/keras/engine/base_layer.py:1020 __call__\n        input_spec.assert_input_compatibility(self.input_spec, inputs, self.name)\n    /usr/local/lib/python3.7/dist-packages/keras/engine/input_spec.py:254 assert_input_compatibility\n        ' but received input with shape ' + display_shape(x.shape))\n\n    ValueError: Input 0 of layer sequential_3 is incompatible with the layer: expected axis -1 of input shape to have value 28 but received input with shape (None, 784)\n"
          ]
        }
      ]
    },
    {
      "cell_type": "code",
      "metadata": {
        "colab": {
          "base_uri": "https://localhost:8080/"
        },
        "id": "FDLjY5nHrebD",
        "outputId": "7fe08d05-047d-4247-c70b-dd11744c56d2"
      },
      "source": [
        "# Kernel Initializer - RandomUniform(-0.1, 0.1)\n",
        "model = keras.models.Sequential()\n",
        "\n",
        "model.add(keras.layers.Dense(30, activation=\"relu\", input_shape = input_shape, kernel_initializer=keras.initializers.RandomUniform(minval=-0.10, maxval=0.10)))\n",
        "model.add(keras.layers.Dense(10, activation=\"softmax\", kernel_initializer=keras.initializers.RandomUniform(minval=-0.10, maxval=0.10)))\n",
        "model.compile(loss='categorical_crossentropy', optimizer='adam', metrics=['accuracy'])\n",
        "model.fit(X_train_mlp, y_train_mlp, verbose=0, epochs=3)\n",
        "\n",
        "test_results = model.evaluate(X_valid_mlp, y_valid_mlp, verbose=1)\n",
        "print(f'Test results - Loss: {test_results[0]} - Accuracy: {test_results[1] * 100}%')"
      ],
      "execution_count": null,
      "outputs": [
        {
          "name": "stdout",
          "output_type": "stream",
          "text": [
            "Test results - Loss: 0.14081484079360962 - Accuracy: 0.954800009727478%\n"
          ]
        }
      ]
    },
    {
      "cell_type": "code",
      "metadata": {
        "colab": {
          "base_uri": "https://localhost:8080/"
        },
        "id": "QrGXRmpWr0HG",
        "outputId": "e75430d3-4c2d-492c-ab13-5f613b6bd95a"
      },
      "source": [
        "# Kernel Initializer - Ones (all 1's)\n",
        "model = keras.models.Sequential()\n",
        "\n",
        "model.add(keras.layers.Dense(30, activation=\"relu\", input_shape = input_shape, kernel_initializer=keras.initializers.Ones()))\n",
        "model.add(keras.layers.Dense(10, activation=\"softmax\", kernel_initializer=keras.initializers.Ones()))\n",
        "model.compile(loss='categorical_crossentropy', optimizer='adam', metrics=['accuracy'])\n",
        "model.fit(X_train_mlp, y_train_mlp, verbose=0, epochs=3)\n",
        "\n",
        "test_results = model.evaluate(X_valid_mlp, y_valid_mlp, verbose=1)\n",
        "print(f'Test results - Loss: {test_results[0]} - Accuracy: {test_results[1] * 100}%')"
      ],
      "execution_count": null,
      "outputs": [
        {
          "name": "stdout",
          "output_type": "stream",
          "text": [
            "Test results - Loss: 0.8770677447319031 - Accuracy: 0.6837999820709229%\n"
          ]
        }
      ]
    },
    {
      "cell_type": "code",
      "metadata": {
        "colab": {
          "base_uri": "https://localhost:8080/"
        },
        "id": "8xo1JSofsOdv",
        "outputId": "c9729894-f626-477c-dd8c-367fe254c2d9"
      },
      "source": [
        "# Kernel Initializer - GlorotNormal\n",
        "model = keras.models.Sequential()\n",
        "\n",
        "model.add(keras.layers.Dense(30, activation=\"relu\", input_shape = input_shape, kernel_initializer=keras.initializers.GlorotNormal()))\n",
        "model.add(keras.layers.Dense(10, activation=\"softmax\", kernel_initializer=keras.initializers.GlorotNormal()))\n",
        "model.compile(loss='categorical_crossentropy', optimizer='adam', metrics=['accuracy'])\n",
        "model.fit(X_train_mlp, y_train_mlp, verbose=0, epochs=3)\n",
        "\n",
        "test_results = model.evaluate(X_valid_mlp, y_valid_mlp, verbose=1)\n",
        "print(f'Test results - Loss: {test_results[0]} - Accuracy: {test_results[1] * 100}%')"
      ],
      "execution_count": null,
      "outputs": [
        {
          "name": "stdout",
          "output_type": "stream",
          "text": [
            "Test results - Loss: 0.130045086145401 - Accuracy: 0.9602000117301941%\n"
          ]
        }
      ]
    },
    {
      "cell_type": "code",
      "metadata": {
        "colab": {
          "base_uri": "https://localhost:8080/"
        },
        "id": "HebTXUBusgJt",
        "outputId": "fec3d955-742a-4104-dcf4-1155db4c4ab0"
      },
      "source": [
        "# Kernel Initializer - HeNormal\n",
        "model = keras.models.Sequential()\n",
        "\n",
        "model.add(keras.layers.Dense(30, activation=\"relu\", input_shape = input_shape, kernel_initializer=keras.initializers.HeNormal()))\n",
        "model.add(keras.layers.Dense(10, activation=\"softmax\", kernel_initializer=keras.initializers.HeNormal()))\n",
        "model.compile(loss='categorical_crossentropy', optimizer='adam', metrics=['accuracy'])\n",
        "model.fit(X_train_mlp, y_train_mlp, verbose=0, epochs=3)\n",
        "\n",
        "test_results = model.evaluate(X_valid_mlp, y_valid_mlp, verbose=1)\n",
        "print(f'Test results - Loss: {test_results[0]} - Accuracy: {test_results[1] * 100}%')"
      ],
      "execution_count": null,
      "outputs": [
        {
          "name": "stdout",
          "output_type": "stream",
          "text": [
            "Test results - Loss: 0.12561647593975067 - Accuracy: 0.9624000191688538%\n"
          ]
        }
      ]
    },
    {
      "cell_type": "code",
      "metadata": {
        "colab": {
          "base_uri": "https://localhost:8080/"
        },
        "id": "In0XwcUYvu40",
        "outputId": "5a8c5195-8d64-404b-c987-1832378f79df"
      },
      "source": [
        "# First lets select the number of hidden layers\n",
        "model = keras.models.Sequential()\n",
        "\n",
        "model.add(keras.layers.Dense(30, activation=\"relu\", input_shape = input_shape))\n",
        "model.add(keras.layers.Dense(10, activation=\"softmax\"))\n",
        "model.compile(loss='categorical_crossentropy', optimizer='adam', metrics=['accuracy'])\n",
        "model.fit(X_train_mlp, y_train_mlp, verbose=0, epochs=3)\n",
        "\n",
        "test_results = model.evaluate(X_valid_mlp, y_valid_mlp, verbose=1)\n",
        "print(f'Test results - Loss: {test_results[0]} - Accuracy: {test_results[1] * 100}%')"
      ],
      "execution_count": null,
      "outputs": [
        {
          "name": "stdout",
          "output_type": "stream",
          "text": [
            "Test results - Loss: 0.12186422199010849 - Accuracy: 0.9628000259399414%\n"
          ]
        }
      ]
    },
    {
      "cell_type": "markdown",
      "metadata": {
        "id": "XyN5AofmssUq"
      },
      "source": [
        "Henormal seem to be best. We will continue with this one"
      ]
    },
    {
      "cell_type": "markdown",
      "metadata": {
        "id": "TdjH6XI9rmo_"
      },
      "source": [
        "Now we select the number of layers"
      ]
    },
    {
      "cell_type": "code",
      "metadata": {
        "colab": {
          "base_uri": "https://localhost:8080/"
        },
        "id": "xKt0fAgwVWI3",
        "outputId": "f95af5c3-f371-4490-c997-5f8b5f94ca40"
      },
      "source": [
        "# 1 Dense layers with 30 neurons\n",
        "model = keras.models.Sequential()\n",
        "\n",
        "model.add(keras.layers.Dense(30, activation=\"relu\", input_shape = input_shape))\n",
        "model.add(keras.layers.Dense(10, activation=\"softmax\"))\n",
        "model.compile(loss='categorical_crossentropy', optimizer='adam', metrics=['accuracy'])\n",
        "model.fit(X_train_mlp, y_train_mlp, verbose=0, epochs=3)\n",
        "\n",
        "test_results = model.evaluate(X_valid_mlp, y_valid_mlp, verbose=1)\n",
        "print(f'Test results - Loss: {test_results[0]} - Accuracy: {test_results[1] * 100}% - with 1 Dense relu layers')"
      ],
      "execution_count": null,
      "outputs": [
        {
          "name": "stdout",
          "output_type": "stream",
          "text": [
            "Test results - Loss: 0.1222795769572258 - Accuracy: 0.9648000001907349%\n"
          ]
        }
      ]
    },
    {
      "cell_type": "code",
      "metadata": {
        "colab": {
          "base_uri": "https://localhost:8080/"
        },
        "id": "ApoE6gfFYQIL",
        "outputId": "e709fd0a-9259-41f7-9490-513203700a48"
      },
      "source": [
        "# 2 Dense layers with 30 neurons\n",
        "model = keras.models.Sequential()\n",
        "\n",
        "model.add(keras.layers.Dense(30, activation=\"relu\", input_shape = input_shape))\n",
        "model.add(keras.layers.Dense(30, activation=\"relu\"))\n",
        "model.add(keras.layers.Dense(10, activation=\"softmax\"))\n",
        "model.compile(loss='categorical_crossentropy', optimizer='adam', metrics=['accuracy'])\n",
        "model.fit(X_train_mlp, y_train_mlp, verbose=0, epochs=3)\n",
        "\n",
        "test_results = model.evaluate(X_valid_mlp, y_valid_mlp, verbose=1)\n",
        "print(f'Test results - Loss: {test_results[0]} - Accuracy: {test_results[1] * 100}% - with 2 Dense relu layers')"
      ],
      "execution_count": null,
      "outputs": [
        {
          "name": "stdout",
          "output_type": "stream",
          "text": [
            "Test results - Loss: 0.1306195855140686 - Accuracy: 0.9611999988555908%\n"
          ]
        }
      ]
    },
    {
      "cell_type": "code",
      "metadata": {
        "colab": {
          "base_uri": "https://localhost:8080/"
        },
        "id": "HUmsj-JIYZgT",
        "outputId": "034fdc1b-00b9-4ab8-d767-e231740b58c5"
      },
      "source": [
        "# 3 Dense layers with 30 neurons\n",
        "model = keras.models.Sequential()\n",
        "\n",
        "model.add(keras.layers.Dense(30, activation=\"relu\", input_shape = input_shape))\n",
        "model.add(keras.layers.Dense(30, activation=\"relu\"))\n",
        "model.add(keras.layers.Dense(30, activation=\"relu\"))\n",
        "model.add(keras.layers.Dense(10, activation=\"softmax\"))\n",
        "model.compile(loss='categorical_crossentropy', optimizer='adam', metrics=['accuracy'])\n",
        "model.fit(X_train_mlp, y_train_mlp, verbose=0, epochs=3)\n",
        "\n",
        "test_results = model.evaluate(X_valid_mlp, y_valid_mlp, verbose=1)\n",
        "print(f'Test results - Loss: {test_results[0]} - Accuracy: {test_results[1] * 100}% - with 3 Dense relu layers')"
      ],
      "execution_count": null,
      "outputs": [
        {
          "name": "stdout",
          "output_type": "stream",
          "text": [
            "Test results - Loss: 0.1223360076546669 - Accuracy: 0.9642000198364258%\n"
          ]
        }
      ]
    },
    {
      "cell_type": "code",
      "metadata": {
        "colab": {
          "base_uri": "https://localhost:8080/"
        },
        "id": "C9xO1Im7Yg8m",
        "outputId": "4edea477-9c6b-4ead-ef77-280fce29e5e2"
      },
      "source": [
        "# 4 Dense layers with 30 neurons\n",
        "model = keras.models.Sequential()\n",
        "\n",
        "model.add(keras.layers.Dense(30, activation=\"relu\", input_shape = input_shape))\n",
        "model.add(keras.layers.Dense(30, activation=\"relu\"))\n",
        "model.add(keras.layers.Dense(30, activation=\"relu\"))\n",
        "model.add(keras.layers.Dense(30, activation=\"relu\"))\n",
        "model.add(keras.layers.Dense(10, activation=\"softmax\"))\n",
        "model.compile(loss='categorical_crossentropy', optimizer='adam', metrics=['accuracy'])\n",
        "model.fit(X_train_mlp, y_train_mlp, verbose=0, epochs=3)\n",
        "\n",
        "test_results = model.evaluate(X_valid_mlp, y_valid_mlp, verbose=1)\n",
        "print(f'Test results - Loss: {test_results[0]} - Accuracy: {test_results[1] * 100}% - with 4 Dense relu layers')"
      ],
      "execution_count": null,
      "outputs": [
        {
          "name": "stdout",
          "output_type": "stream",
          "text": [
            "Test results - Loss: 0.12483129650354385 - Accuracy: 0.9648000001907349%\n"
          ]
        }
      ]
    },
    {
      "cell_type": "code",
      "metadata": {
        "colab": {
          "base_uri": "https://localhost:8080/"
        },
        "id": "kzIFapEHxtVG",
        "outputId": "cefae2cc-7485-449d-ba2f-ad8a727e369b"
      },
      "source": [
        "# 5 Dense layers with 30 neurons\n",
        "model = keras.models.Sequential()\n",
        "\n",
        "model.add(keras.layers.Dense(30, activation=\"relu\", input_shape = input_shape))\n",
        "model.add(keras.layers.Dense(30, activation=\"relu\"))\n",
        "model.add(keras.layers.Dense(30, activation=\"relu\"))\n",
        "model.add(keras.layers.Dense(30, activation=\"relu\"))\n",
        "model.add(keras.layers.Dense(30, activation=\"relu\"))\n",
        "model.add(keras.layers.Dense(10, activation=\"softmax\"))\n",
        "model.compile(loss='categorical_crossentropy', optimizer='adam', metrics=['accuracy'])\n",
        "model.fit(X_train_mlp, y_train_mlp, verbose=0, epochs=3)\n",
        "\n",
        "test_results = model.evaluate(X_valid_mlp, y_valid_mlp, verbose=1)\n",
        "print(f'Test results - Loss: {test_results[0]} - Accuracy: {test_results[1] * 100}% - with 5 Dense relu layers')"
      ],
      "execution_count": null,
      "outputs": [
        {
          "name": "stdout",
          "output_type": "stream",
          "text": [
            "Test results - Loss: 0.12672623991966248 - Accuracy: 0.9634000062942505%\n"
          ]
        }
      ]
    },
    {
      "cell_type": "markdown",
      "metadata": {
        "id": "OIO9uRJlbGeb"
      },
      "source": [
        "4 relu layers and one soft max layer seem to work best. Now I will check how many neurons we will use on our network relu layers"
      ]
    },
    {
      "cell_type": "code",
      "metadata": {
        "colab": {
          "base_uri": "https://localhost:8080/"
        },
        "id": "QUpoWGcNcZPW",
        "outputId": "6ceb9a06-71ee-406c-e4a1-7370aa1718c3"
      },
      "source": [
        "# Different number of Neurons\n",
        "for i in [10,20,30,40,50,75,100]:\n",
        "  \n",
        "  model = keras.models.Sequential()\n",
        "\n",
        "  model.add(keras.layers.Dense(i, activation=\"relu\", input_shape = input_shape))\n",
        "  model.add(keras.layers.Dense(i, activation=\"relu\"))\n",
        "  model.add(keras.layers.Dense(i, activation=\"relu\"))\n",
        "  model.add(keras.layers.Dense(i, activation=\"relu\"))\n",
        "  model.add(keras.layers.Dense(10, activation=\"softmax\"))\n",
        "  model.compile(loss='categorical_crossentropy', optimizer='adam', metrics=['accuracy'])\n",
        "  model.fit(X_train_mlp, y_train_mlp, verbose=0, epochs=3)\n",
        "\n",
        "  test_results = model.evaluate(X_valid_mlp, y_valid_mlp, verbose=0)\n",
        "  print(f'Test results - Loss: {test_results[0]} - Accuracy: {test_results[1] * 100}% - Number of neurons in a layer - {i}')"
      ],
      "execution_count": null,
      "outputs": [
        {
          "name": "stdout",
          "output_type": "stream",
          "text": [
            "Epoch 1/2\n",
            "1719/1719 [==============================] - 7s 4ms/step - loss: 0.7682 - accuracy: 0.7545\n",
            "Epoch 2/2\n",
            "1719/1719 [==============================] - 7s 4ms/step - loss: 0.3859 - accuracy: 0.8920\n",
            "157/157 [==============================] - 1s 3ms/step - loss: 0.3329 - accuracy: 0.9092\n",
            "Test results - Loss: 0.3329411447048187 - Accuracy: 90.92000126838684%\n",
            "Epoch 1/2\n",
            "1719/1719 [==============================] - 7s 4ms/step - loss: 0.4665 - accuracy: 0.8550\n",
            "Epoch 2/2\n",
            "1719/1719 [==============================] - 6s 4ms/step - loss: 0.2114 - accuracy: 0.9375\n",
            "157/157 [==============================] - 1s 3ms/step - loss: 0.1718 - accuracy: 0.9488\n",
            "Test results - Loss: 0.17181625962257385 - Accuracy: 94.88000273704529%\n",
            "Epoch 1/2\n",
            "1719/1719 [==============================] - 7s 4ms/step - loss: 0.3694 - accuracy: 0.8906\n",
            "Epoch 2/2\n",
            "1719/1719 [==============================] - 7s 4ms/step - loss: 0.1720 - accuracy: 0.9487\n",
            "157/157 [==============================] - 1s 3ms/step - loss: 0.1481 - accuracy: 0.9586\n",
            "Test results - Loss: 0.1481299251317978 - Accuracy: 95.85999846458435%\n",
            "Epoch 1/2\n",
            "1719/1719 [==============================] - 7s 4ms/step - loss: 0.3340 - accuracy: 0.8992\n",
            "Epoch 2/2\n",
            "1719/1719 [==============================] - 7s 4ms/step - loss: 0.1513 - accuracy: 0.9545\n",
            "157/157 [==============================] - 1s 3ms/step - loss: 0.1207 - accuracy: 0.9618\n",
            "Test results - Loss: 0.12073564529418945 - Accuracy: 96.17999792098999%\n",
            "Epoch 1/2\n",
            "1719/1719 [==============================] - 7s 4ms/step - loss: 0.3047 - accuracy: 0.9082\n",
            "Epoch 2/2\n",
            "1719/1719 [==============================] - 7s 4ms/step - loss: 0.1398 - accuracy: 0.9583\n",
            "157/157 [==============================] - 1s 3ms/step - loss: 0.1174 - accuracy: 0.9638\n",
            "Test results - Loss: 0.11740662902593613 - Accuracy: 96.38000130653381%\n",
            "Epoch 1/2\n",
            "1719/1719 [==============================] - 7s 4ms/step - loss: 0.2871 - accuracy: 0.9139\n",
            "Epoch 2/2\n",
            "1719/1719 [==============================] - 7s 4ms/step - loss: 0.1272 - accuracy: 0.9619\n",
            "157/157 [==============================] - 1s 3ms/step - loss: 0.1152 - accuracy: 0.9652\n",
            "Test results - Loss: 0.11517766118049622 - Accuracy: 96.52000069618225%\n",
            "Epoch 1/2\n",
            "1719/1719 [==============================] - 7s 4ms/step - loss: 0.2581 - accuracy: 0.9198\n",
            "Epoch 2/2\n",
            "1719/1719 [==============================] - 7s 4ms/step - loss: 0.1104 - accuracy: 0.9656\n",
            "157/157 [==============================] - 1s 3ms/step - loss: 0.0958 - accuracy: 0.9712\n",
            "Test results - Loss: 0.0958162397146225 - Accuracy: 97.11999893188477%\n"
          ]
        }
      ]
    },
    {
      "cell_type": "markdown",
      "metadata": {
        "id": "Wz-x94WhdBW7"
      },
      "source": [
        "100 neurons seem to be good for now. Lets test the optimizers now."
      ]
    },
    {
      "cell_type": "code",
      "metadata": {
        "colab": {
          "base_uri": "https://localhost:8080/"
        },
        "id": "m4VnrNjpfeP-",
        "outputId": "3d08121d-f0ff-4b50-ff69-6e660a70b1a4"
      },
      "source": [
        "for optimizer_choice in ['adam', 'nadam', 'sgd', 'adadelta']:\n",
        "  model = keras.models.Sequential()\n",
        "\n",
        "  model.add(keras.layers.Dense(100, activation=\"relu\", input_shape = input_shape))\n",
        "  model.add(keras.layers.Dense(100, activation=\"relu\"))\n",
        "  model.add(keras.layers.Dense(100, activation=\"relu\"))\n",
        "  model.add(keras.layers.Dense(100, activation=\"relu\"))\n",
        "  model.add(keras.layers.Dense(10, activation=\"softmax\"))\n",
        "  model.compile(loss='categorical_crossentropy', optimizer=\"nadam\", metrics=['accuracy'])\n",
        "  model.fit(X_train_mlp, y_train_mlp, verbose=0, epochs=3)\n",
        "\n",
        "  test_results = model.evaluate(X_valid_mlp, y_valid_mlp, verbose=1)\n",
        "  print(f'Test results - Loss: {test_results[0]} - Accuracy: {test_results[1] * 100}% - for optimizer {optimizer_choice}')"
      ],
      "execution_count": null,
      "outputs": [
        {
          "name": "stdout",
          "output_type": "stream",
          "text": [
            "Epoch 1/3\n",
            "1719/1719 [==============================] - 11s 6ms/step - loss: 0.2468 - accuracy: 0.9257\n",
            "Epoch 2/3\n",
            "1719/1719 [==============================] - 10s 6ms/step - loss: 0.1099 - accuracy: 0.9664\n",
            "Epoch 3/3\n",
            "1719/1719 [==============================] - 10s 6ms/step - loss: 0.0810 - accuracy: 0.9754\n",
            "157/157 [==============================] - 1s 3ms/step - loss: 0.0929 - accuracy: 0.9726\n",
            "Test results - Loss: 0.09292969107627869 - Accuracy: 97.2599983215332%\n",
            "Epoch 1/3\n",
            "1719/1719 [==============================] - 11s 6ms/step - loss: 0.2471 - accuracy: 0.9253\n",
            "Epoch 2/3\n",
            "1719/1719 [==============================] - 10s 6ms/step - loss: 0.1076 - accuracy: 0.9669\n",
            "Epoch 3/3\n",
            "1719/1719 [==============================] - 10s 6ms/step - loss: 0.0799 - accuracy: 0.9755\n",
            "157/157 [==============================] - 1s 3ms/step - loss: 0.0855 - accuracy: 0.9744\n",
            "Test results - Loss: 0.0854797512292862 - Accuracy: 97.4399983882904%\n",
            "Epoch 1/3\n",
            "1719/1719 [==============================] - 11s 6ms/step - loss: 0.2480 - accuracy: 0.9255\n",
            "Epoch 2/3\n",
            "1719/1719 [==============================] - 10s 6ms/step - loss: 0.1086 - accuracy: 0.9673\n",
            "Epoch 3/3\n",
            "1719/1719 [==============================] - 10s 6ms/step - loss: 0.0802 - accuracy: 0.9754\n",
            "157/157 [==============================] - 1s 3ms/step - loss: 0.0789 - accuracy: 0.9794\n",
            "Test results - Loss: 0.07892569899559021 - Accuracy: 97.93999791145325%\n",
            "Epoch 1/3\n",
            "1719/1719 [==============================] - 11s 6ms/step - loss: 0.2409 - accuracy: 0.9260\n",
            "Epoch 2/3\n",
            "1719/1719 [==============================] - 10s 6ms/step - loss: 0.1073 - accuracy: 0.9671\n",
            "Epoch 3/3\n",
            "1719/1719 [==============================] - 10s 6ms/step - loss: 0.0795 - accuracy: 0.9745\n",
            "157/157 [==============================] - 1s 3ms/step - loss: 0.0864 - accuracy: 0.9752\n",
            "Test results - Loss: 0.0864206925034523 - Accuracy: 97.51999974250793%\n"
          ]
        }
      ]
    },
    {
      "cell_type": "markdown",
      "metadata": {
        "id": "mP8kBHrTgNdp"
      },
      "source": [
        "Except Adadelta, they all seem to perform similar but nadam seem to perform best. So we select adam. Now I will check if adding droping layers will help our model or not.\n"
      ]
    },
    {
      "cell_type": "code",
      "metadata": {
        "colab": {
          "base_uri": "https://localhost:8080/"
        },
        "id": "5u2YrAzehPlZ",
        "outputId": "65a403d1-973e-4650-dda9-56b7204b1cdb"
      },
      "source": [
        "for i in [0.1,0.3,0.5,0.7]:\n",
        "  model = keras.models.Sequential()\n",
        "  #model.add(keras.layers.Flatten())\n",
        "  model.add(keras.layers.Dense(100, activation=\"relu\", input_shape = input_shape))\n",
        "  model.add(keras.layers.Dropout(rate = i))  \n",
        "  model.add(keras.layers.Dense(100, activation=\"relu\", ))\n",
        "  model.add(keras.layers.Dropout(rate = i))  \n",
        "  model.add(keras.layers.Dense(100, activation=\"relu\"))\n",
        "  model.add(keras.layers.Dropout(rate = i))  \n",
        "  model.add(keras.layers.Dense(100, activation=\"relu\"))\n",
        "  model.add(keras.layers.Dense(10, activation=\"softmax\"))\n",
        "  model.compile(loss='categorical_crossentropy', optimizer=\"nadam\", metrics=['accuracy'])\n",
        "  model.fit(X_train_mlp, y_train_mlp, verbose=0, epochs=3)\n",
        "  test_results = model.evaluate(X_valid_mlp, y_valid_mlp, verbose=1)\n",
        "  print(f'Test results - Loss: {test_results[0]} - Accuracy: {test_results[1] * 100}% - for Dropout rate = {i}')"
      ],
      "execution_count": null,
      "outputs": [
        {
          "name": "stdout",
          "output_type": "stream",
          "text": [
            "Test results - Loss: 0.08448442071676254 - Accuracy: 0.9746000170707703%\n",
            "Test results - Loss: 0.10637890547513962 - Accuracy: 0.972000002861023%\n",
            "Test results - Loss: 0.15029391646385193 - Accuracy: 0.9598000049591064%\n",
            "Test results - Loss: 0.5136427879333496 - Accuracy: 0.8159999847412109%\n"
          ]
        }
      ]
    },
    {
      "cell_type": "markdown",
      "metadata": {
        "id": "BhIPufBDipBO"
      },
      "source": [
        "Dropping seem to work with a rate of 0.1. So we will use this. Now, we will check if regularization works with L1 and L2 penalties"
      ]
    },
    {
      "cell_type": "code",
      "metadata": {
        "colab": {
          "base_uri": "https://localhost:8080/"
        },
        "id": "2uM6Ft3Ei0m0",
        "outputId": "44bd25d2-8e0f-4cf5-f5f6-b3fd13b1fa82"
      },
      "source": [
        "from keras.regularizers import l1_l2\n",
        "for i in [0,0.0001,0.001,0.01,0.1]:\n",
        "  for j in [0,0.0001,0.001,0.01,0.1]:\n",
        "    model = keras.models.Sequential()\n",
        "    #model.add(keras.layers.Flatten())\n",
        "    model.add(keras.layers.Dense(100, activation=\"relu\",  kernel_regularizer=l1_l2(l1=i, l2=j)))\n",
        "    model.add(keras.layers.Dropout(rate = 0.1))  \n",
        "    model.add(keras.layers.Dense(100, activation=\"relu\", kernel_regularizer=l1_l2(l1=i, l2=j)))\n",
        "    model.add(keras.layers.Dropout(rate = 0.1))  \n",
        "    model.add(keras.layers.Dense(100, activation=\"relu\",  kernel_regularizer=l1_l2(l1=i, l2=j)))\n",
        "    model.add(keras.layers.Dropout(rate = 0.1))  \n",
        "    model.add(keras.layers.Dense(100, activation=\"relu\",  kernel_regularizer=l1_l2(l1=i, l2=j)))\n",
        "    model.add(keras.layers.Dense(10, activation=\"softmax\"))\n",
        "    model.compile(loss='categorical_crossentropy', optimizer=\"nadam\", metrics=['accuracy'])\n",
        "    model.fit(X_train_mlp, y_train_mlp, verbose=0, epochs=3)\n",
        "    test_results = model.evaluate(X_valid_mlp, y_valid_mlp, verbose=1)\n",
        "    print(f'Test results - Loss: {test_results[0]} - Accuracy: {test_results[1]}% , with regularization values l1={i},l2={j}')"
      ],
      "execution_count": null,
      "outputs": [
        {
          "name": "stdout",
          "output_type": "stream",
          "text": [
            "Test results - Loss: 0.08649467676877975 - Accuracy: 0.973800003528595% , at iteration 0,0\n",
            "Test results - Loss: 0.1435314565896988 - Accuracy: 0.9750000238418579% , at iteration 0,0.0001\n",
            "Test results - Loss: 0.2242714911699295 - Accuracy: 0.9724000096321106% , at iteration 0,0.001\n",
            "Test results - Loss: 0.4816740155220032 - Accuracy: 0.9490000009536743% , at iteration 0,0.01\n",
            "Test results - Loss: 1.7880134582519531 - Accuracy: 0.3953999876976013% , at iteration 0,0.1\n",
            "Test results - Loss: 0.31137794256210327 - Accuracy: 0.9710000157356262% , at iteration 0.0001,0\n",
            "Test results - Loss: 0.3238683044910431 - Accuracy: 0.9696000218391418% , at iteration 0.0001,0.0001\n",
            "Test results - Loss: 0.36354881525039673 - Accuracy: 0.9617999792098999% , at iteration 0.0001,0.001\n",
            "Test results - Loss: 0.5452117919921875 - Accuracy: 0.9508000016212463% , at iteration 0.0001,0.01\n",
            "Test results - Loss: 2.302046298980713 - Accuracy: 0.11259999871253967% , at iteration 0.0001,0.1\n",
            "Test results - Loss: 0.5811117887496948 - Accuracy: 0.9503999948501587% , at iteration 0.001,0\n",
            "Test results - Loss: 0.5942177176475525 - Accuracy: 0.9570000171661377% , at iteration 0.001,0.0001\n",
            "Test results - Loss: 0.6350622773170471 - Accuracy: 0.9502000212669373% , at iteration 0.001,0.001\n",
            "Test results - Loss: 0.8031944632530212 - Accuracy: 0.923799991607666% , at iteration 0.001,0.01\n",
            "Test results - Loss: 2.3148272037506104 - Accuracy: 0.11259999871253967% , at iteration 0.001,0.1\n",
            "Test results - Loss: 2.4502463340759277 - Accuracy: 0.11259999871253967% , at iteration 0.01,0\n",
            "Test results - Loss: 2.449319839477539 - Accuracy: 0.11259999871253967% , at iteration 0.01,0.0001\n",
            "Test results - Loss: 2.444026470184326 - Accuracy: 0.11259999871253967% , at iteration 0.01,0.001\n",
            "Test results - Loss: 2.43862247467041 - Accuracy: 0.11259999871253967% , at iteration 0.01,0.01\n",
            "Test results - Loss: 2.439122438430786 - Accuracy: 0.11259999871253967% , at iteration 0.01,0.1\n",
            "Test results - Loss: 3.7906227111816406 - Accuracy: 0.11259999871253967% , at iteration 0.1,0\n",
            "Test results - Loss: 3.786285877227783 - Accuracy: 0.11259999871253967% , at iteration 0.1,0.0001\n",
            "Test results - Loss: 3.7807199954986572 - Accuracy: 0.11259999871253967% , at iteration 0.1,0.001\n",
            "Test results - Loss: 3.737968683242798 - Accuracy: 0.11259999871253967% , at iteration 0.1,0.01\n",
            "Test results - Loss: 3.6789488792419434 - Accuracy: 0.11259999871253967% , at iteration 0.1,0.1\n"
          ]
        }
      ]
    },
    {
      "cell_type": "markdown",
      "metadata": {
        "id": "UjoDcZK0oSQG"
      },
      "source": [
        "We see that using a penalty on our weights does not help. So we will not use a penalty. Lastly we will look for weight initializing strategies."
      ]
    },
    {
      "cell_type": "code",
      "metadata": {
        "colab": {
          "base_uri": "https://localhost:8080/"
        },
        "id": "TtyQoNYUofyr",
        "outputId": "de9390a2-9d2e-4d8b-dedf-56180c49b7c8"
      },
      "source": [
        "from tensorflow.keras import initializers\n",
        "\n",
        "final_mlp = keras.models.Sequential()\n",
        "\n",
        "final_mlp.add(keras.layers.Dense(100, activation=\"relu\", input_shape = input_shape))\n",
        "final_mlp.add(keras.layers.Dropout(rate = 0.1))  \n",
        "final_mlp.add(keras.layers.Dense(100, activation=\"relu\", input_shape = input_shape ))\n",
        "final_mlp.add(keras.layers.Dropout(rate = 0.1))  \n",
        "final_mlp.add(keras.layers.Dense(100, activation=\"relu\", input_shape = input_shape))\n",
        "final_mlp.add(keras.layers.Dense(10, activation=\"softmax\"))\n",
        "final_mlp.compile(loss='categorical_crossentropy', optimizer=\"nadam\", metrics=['accuracy'])\n",
        "final_mlp.fit(X_train_mlp, y_train_mlp,  verbose=1, epochs = 5)\n",
        "test_results = final_mlp.evaluate(X_valid_mlp, y_valid_mlp, verbose=1)\n",
        "print(f'Test results - Loss: {test_results[0]} - Accuracy: {test_results[1] * 100}%')"
      ],
      "execution_count": null,
      "outputs": [
        {
          "name": "stdout",
          "output_type": "stream",
          "text": [
            "Epoch 1/5\n",
            "1719/1719 [==============================] - 12s 5ms/step - loss: 0.2932 - accuracy: 0.9120\n",
            "Epoch 2/5\n",
            "1719/1719 [==============================] - 8s 5ms/step - loss: 0.1426 - accuracy: 0.9565\n",
            "Epoch 3/5\n",
            "1719/1719 [==============================] - 8s 5ms/step - loss: 0.1086 - accuracy: 0.9665\n",
            "Epoch 4/5\n",
            "1719/1719 [==============================] - 9s 5ms/step - loss: 0.0933 - accuracy: 0.9712\n",
            "Epoch 5/5\n",
            "1719/1719 [==============================] - 8s 5ms/step - loss: 0.0822 - accuracy: 0.9741\n",
            "157/157 [==============================] - 1s 3ms/step - loss: 0.0795 - accuracy: 0.9748\n",
            "Test results - Loss: 0.07954840362071991 - Accuracy: 97.47999906539917%\n"
          ]
        }
      ]
    },
    {
      "cell_type": "markdown",
      "metadata": {
        "id": "ai2c5DOG74Ya"
      },
      "source": [
        "## Task 1 - MNIST CNN"
      ]
    },
    {
      "cell_type": "code",
      "metadata": {
        "id": "9-sKb1dI-h8e"
      },
      "source": [
        "#First the mnist dataset\n",
        "mnist = keras.datasets.mnist\n",
        "(X_train_full_cnn, y_train_full_cnn), (X_test_full_cnn, y_test_full_cnn) = mnist.load_data()\n",
        "\n",
        "def make_cnn_datasets(X_train_full_cnn, y_train_full_cnn, X_test_full_cnn, y_test_full_cnn):\n",
        "  num_rows = 28\n",
        "  num_cols = 28\n",
        "\n",
        "  X_train_full_cnn = X_train_full_cnn.reshape(X_train_full_cnn.shape[0], num_rows, num_cols, 1)\n",
        "  X_test_full_cnn = X_test_full_cnn.reshape(X_test_full_cnn.shape[0], num_rows, num_cols, 1)\n",
        "  input_shape = (num_rows, num_cols, 1)\n",
        "\n",
        "  X_train_full_cnn = X_train_full_cnn.astype('float32')\n",
        "  X_test_full_cnn = X_test_full_cnn.astype('float32')\n",
        "\n",
        "  X_train_full_cnn /= 255\n",
        "  X_test_full_cnn /= 255\n",
        "\n",
        "  X_valid_cnn, X_train_cnn = X_train_full_cnn[:5000], X_train_full_cnn[5000:]\n",
        "  y_valid_cnn, y_train_cnn = y_train_full_cnn[:5000], y_train_full_cnn[5000:]\n",
        "\n",
        "  X_train_cnn = X_train_cnn.astype('float32')\n",
        "  y_train_cnn = y_train_cnn.astype('float32')\n",
        "  X_valid_cnn = X_valid_cnn.astype(\"float32\")\n",
        "  y_valid_cnn = y_valid_cnn.astype(\"float32\")\n",
        "\n",
        "  y_train_cnn = keras.utils.to_categorical(y_train_cnn, 10)\n",
        "  y_test_cnn = keras.utils.to_categorical(y_test_full_cnn, 10)\n",
        "  y_valid_cnn = keras.utils.to_categorical(y_valid_cnn, 10)\n",
        "\n",
        "  return X_train_cnn, y_train_cnn, X_valid_cnn, y_valid_cnn, X_test_full_cnn, y_test_cnn, input_shape"
      ],
      "execution_count": null,
      "outputs": []
    },
    {
      "cell_type": "code",
      "metadata": {
        "id": "4Ky1i_LGWAOl"
      },
      "source": [
        "X_train_cnn, y_train_cnn, X_valid_cnn, y_valid_cnn, X_test_cnn, y_test_cnn, input_shape = make_cnn_datasets(X_train_full_cnn, y_train_full_cnn, X_test_full_cnn, y_test_full_cnn)"
      ],
      "execution_count": null,
      "outputs": []
    },
    {
      "cell_type": "code",
      "metadata": {
        "colab": {
          "base_uri": "https://localhost:8080/"
        },
        "id": "amig5yB67VNM",
        "outputId": "a352d800-8dfc-459a-f764-0f2e07e37b71"
      },
      "source": [
        "cnn = keras.models.Sequential()\n",
        "cnn.add(keras.layers.Conv2D(activation='relu', padding=\"SAME\",filters=64, kernel_size=7, input_shape=input_shape))\n",
        "cnn.add(keras.layers.MaxPooling2D(pool_size=2))\n",
        "cnn.add(keras.layers.Conv2D(kernel_size=3, activation='relu', padding=\"SAME\",filters=128))\n",
        "cnn.add(keras.layers.Conv2D(kernel_size=3, activation='relu', padding=\"SAME\",filters=128))\n",
        "cnn.add(keras.layers.MaxPooling2D(pool_size=2))\n",
        "cnn.add(keras.layers.Conv2D(kernel_size=3, activation='relu', padding=\"SAME\",filters=256))\n",
        "cnn.add(keras.layers.Conv2D(kernel_size=3, activation='relu', padding=\"SAME\",filters=256))\n",
        "cnn.add(keras.layers.MaxPooling2D(pool_size=2))\n",
        "cnn.add(keras.layers.Flatten())\n",
        "cnn.add(keras.layers.Dense(units=128, activation='relu'))\n",
        "cnn.add(keras.layers.Dropout(0.5))\n",
        "cnn.add(keras.layers.Dense(units=64, activation='relu'))\n",
        "cnn.add(keras.layers.Dropout(0.5))\n",
        "cnn.add(keras.layers.Dense(units=10, activation='softmax'))\n",
        "\n",
        "cnn.compile(loss='categorical_crossentropy', optimizer=\"adam\", metrics=['accuracy'])\n",
        "cnn.fit(X_train_cnn, y_train_cnn, epochs=2, validation_data=(X_valid_cnn, y_valid_cnn))\n",
        "test_results = cnn.evaluate(X_test_cnn, y_test_cnn, verbose=1)\n",
        "print(f'Test results - Loss: {test_results[0]} - Accuracy: {test_results[1] * 100}% - \"Default\" - book model')"
      ],
      "execution_count": null,
      "outputs": [
        {
          "name": "stdout",
          "output_type": "stream",
          "text": [
            "Epoch 1/2\n",
            "1719/1719 [==============================] - 57s 17ms/step - loss: 0.3933 - accuracy: 0.8796 - val_loss: 0.0814 - val_accuracy: 0.9830\n",
            "Epoch 2/2\n",
            "1719/1719 [==============================] - 28s 16ms/step - loss: 0.1188 - accuracy: 0.9727 - val_loss: 0.0401 - val_accuracy: 0.9892\n",
            "313/313 [==============================] - 3s 9ms/step - loss: 0.0370 - accuracy: 0.9897\n",
            "Test results - Loss: 0.03700912743806839 - Accuracy: 0.9897000193595886% - \"Default\" - book model\n"
          ]
        }
      ]
    },
    {
      "cell_type": "code",
      "metadata": {
        "colab": {
          "base_uri": "https://localhost:8080/"
        },
        "id": "QkNdfN7yeNzN",
        "outputId": "9581c45c-80f9-4404-8bfe-1ea4af780278"
      },
      "source": [
        "cnn = keras.models.Sequential()\n",
        "cnn.add(keras.layers.Conv2D(activation='relu', padding=\"SAME\",filters=64, kernel_size=7, input_shape=input_shape))\n",
        "cnn.add(keras.layers.MaxPooling2D(pool_size=2))\n",
        "cnn.add(keras.layers.Conv2D(kernel_size=3, activation='relu', padding=\"SAME\",filters=128))\n",
        "cnn.add(keras.layers.Conv2D(kernel_size=3, activation='relu', padding=\"SAME\",filters=128))\n",
        "cnn.add(keras.layers.MaxPooling2D(pool_size=2))\n",
        "cnn.add(keras.layers.Flatten())\n",
        "cnn.add(keras.layers.Dense(units=128, activation='relu'))\n",
        "cnn.add(keras.layers.Dropout(0.5))\n",
        "cnn.add(keras.layers.Dense(units=64, activation='relu'))\n",
        "cnn.add(keras.layers.Dropout(0.5))\n",
        "cnn.add(keras.layers.Dense(units=10, activation='softmax'))\n",
        "\n",
        "cnn.compile(loss='categorical_crossentropy', optimizer=\"adam\", metrics=['accuracy'])\n",
        "cnn.fit(X_train_cnn, y_train_cnn, epochs=2, validation_data=(X_valid_cnn, y_valid_cnn))\n",
        "test_results = cnn.evaluate(X_test_cnn, y_test_cnn, verbose=1)\n",
        "print(f'Test results - Loss: {test_results[0]} - Accuracy: {test_results[1] * 100}% - Only 1 \"Convolutional\" Layer')"
      ],
      "execution_count": null,
      "outputs": [
        {
          "name": "stdout",
          "output_type": "stream",
          "text": [
            "Epoch 1/2\n",
            "1719/1719 [==============================] - 20s 11ms/step - loss: 0.4375 - accuracy: 0.8598 - val_loss: 0.0635 - val_accuracy: 0.9824\n",
            "Epoch 2/2\n",
            "1719/1719 [==============================] - 19s 11ms/step - loss: 0.1617 - accuracy: 0.9562 - val_loss: 0.0571 - val_accuracy: 0.9858\n",
            "313/313 [==============================] - 2s 5ms/step - loss: 0.0498 - accuracy: 0.9851\n",
            "Test results - Loss: 0.049847688525915146 - Accuracy: 0.9850999712944031% - Only 1 \"Convolutional\" Layer\n"
          ]
        }
      ]
    },
    {
      "cell_type": "markdown",
      "metadata": {
        "id": "HZEaAQ6bfraL"
      },
      "source": [
        "There was a 30% decrease in computing time with only a very small decrease in accuracy"
      ]
    },
    {
      "cell_type": "code",
      "metadata": {
        "colab": {
          "base_uri": "https://localhost:8080/"
        },
        "id": "MU2dlWuwf-DH",
        "outputId": "fb0ef395-42b1-42e1-f37e-784cdeb9b0fe"
      },
      "source": [
        "cnn = keras.models.Sequential()\n",
        "cnn.add(keras.layers.Conv2D(activation='relu', padding=\"VALID\",filters=64, kernel_size=7, input_shape=input_shape))\n",
        "cnn.add(keras.layers.MaxPooling2D(pool_size=2))\n",
        "cnn.add(keras.layers.Conv2D(kernel_size=3, activation='relu', padding=\"VALID\",filters=128))\n",
        "cnn.add(keras.layers.Conv2D(kernel_size=3, activation='relu', padding=\"VALID\",filters=128))\n",
        "cnn.add(keras.layers.MaxPooling2D(pool_size=2))\n",
        "cnn.add(keras.layers.Flatten())\n",
        "cnn.add(keras.layers.Dense(units=128, activation='relu'))\n",
        "cnn.add(keras.layers.Dropout(0.5))\n",
        "cnn.add(keras.layers.Dense(units=64, activation='relu'))\n",
        "cnn.add(keras.layers.Dropout(0.5))\n",
        "cnn.add(keras.layers.Dense(units=10, activation='softmax'))\n",
        "\n",
        "cnn.compile(loss='categorical_crossentropy', optimizer=\"adam\", metrics=['accuracy'])\n",
        "cnn.fit(X_train_cnn, y_train_cnn, epochs=2, validation_data=(X_valid_cnn, y_valid_cnn))\n",
        "test_results = cnn.evaluate(X_test_cnn, y_test_cnn, verbose=1)\n",
        "print(f'Test results - Loss: {test_results[0]} - Accuracy: {test_results[1] * 100}% - Padding = VALID')"
      ],
      "execution_count": null,
      "outputs": [
        {
          "name": "stdout",
          "output_type": "stream",
          "text": [
            "Epoch 1/2\n",
            "1719/1719 [==============================] - 16s 9ms/step - loss: 0.3639 - accuracy: 0.8892 - val_loss: 0.0873 - val_accuracy: 0.9778\n",
            "Epoch 2/2\n",
            "1719/1719 [==============================] - 15s 8ms/step - loss: 0.1116 - accuracy: 0.9716 - val_loss: 0.0589 - val_accuracy: 0.9856\n",
            "313/313 [==============================] - 1s 5ms/step - loss: 0.0471 - accuracy: 0.9876\n",
            "Test results - Loss: 0.047081414610147476 - Accuracy: 0.9876000285148621% - Padding = VALID\n"
          ]
        }
      ]
    },
    {
      "cell_type": "markdown",
      "metadata": {
        "id": "o7T81QVvk52Y"
      },
      "source": [
        "The VALID option for the padding is giving a slightly better test set accuracy - of course this could be just due to chance but we will stick with it."
      ]
    },
    {
      "cell_type": "code",
      "metadata": {
        "colab": {
          "base_uri": "https://localhost:8080/"
        },
        "id": "cKSJJndfgWfV",
        "outputId": "cbbe89ac-4944-4dc9-cc44-70405fe9a1a0"
      },
      "source": [
        "cnn = keras.models.Sequential()\n",
        "cnn.add(keras.layers.Conv2D(activation='relu', padding=\"VALID\",filters=64, kernel_size=7, input_shape=input_shape))\n",
        "cnn.add(keras.layers.MaxPooling2D(pool_size=2))\n",
        "cnn.add(keras.layers.Conv2D(kernel_size=3, activation='relu', padding=\"VALID\",filters=128))\n",
        "cnn.add(keras.layers.Conv2D(kernel_size=3, activation='relu', padding=\"VALID\",filters=128))\n",
        "cnn.add(keras.layers.MaxPooling2D(pool_size=2))\n",
        "cnn.add(keras.layers.Flatten())\n",
        "cnn.add(keras.layers.Dense(units=128, activation='relu'))\n",
        "cnn.add(keras.layers.Dropout(0.5))\n",
        "cnn.add(keras.layers.Dense(units=64, activation='relu'))\n",
        "cnn.add(keras.layers.Dropout(0.5))\n",
        "cnn.add(keras.layers.Dense(units=10, activation='softmax'))\n",
        "\n",
        "cnn.compile(loss='categorical_crossentropy', optimizer=\"nadam\", metrics=['accuracy'])\n",
        "cnn.fit(X_train_cnn, y_train_cnn, epochs=2, validation_data=(X_valid_cnn, y_valid_cnn))\n",
        "test_results = cnn.evaluate(X_test_cnn, y_test_cnn, verbose=1)\n",
        "print(f'Test results - Loss: {test_results[0]} - Accuracy: {test_results[1] * 100}% - Optimizer - NAdam')"
      ],
      "execution_count": null,
      "outputs": [
        {
          "name": "stdout",
          "output_type": "stream",
          "text": [
            "Epoch 1/2\n",
            "1719/1719 [==============================] - 26s 14ms/step - loss: 0.3097 - accuracy: 0.9075 - val_loss: 0.0729 - val_accuracy: 0.9824\n",
            "Epoch 2/2\n",
            "1719/1719 [==============================] - 23s 14ms/step - loss: 0.1060 - accuracy: 0.9735 - val_loss: 0.0596 - val_accuracy: 0.9868\n",
            "313/313 [==============================] - 2s 5ms/step - loss: 0.0458 - accuracy: 0.9889\n",
            "Test results - Loss: 0.045805204659700394 - Accuracy: 0.9889000058174133% - Optimizer - NAdam\n"
          ]
        }
      ]
    },
    {
      "cell_type": "markdown",
      "metadata": {
        "id": "4W981cA-lgim"
      },
      "source": [
        "Slighly better results (almost negligible), but the compute time had quite the increase. We will use Adam optimizer, because of that reasoning."
      ]
    },
    {
      "cell_type": "code",
      "metadata": {
        "colab": {
          "base_uri": "https://localhost:8080/"
        },
        "id": "EV5rycwThDGq",
        "outputId": "94b6d285-c97a-4a3e-800e-81c8e240d6b1"
      },
      "source": [
        "cnn = keras.models.Sequential()\n",
        "cnn.add(keras.layers.Conv2D(activation='relu', padding=\"VALID\",filters=64, kernel_size=14, input_shape=input_shape))\n",
        "cnn.add(keras.layers.MaxPooling2D(pool_size=2))\n",
        "cnn.add(keras.layers.Conv2D(kernel_size=3, activation='relu', padding=\"VALID\",filters=128))\n",
        "cnn.add(keras.layers.Conv2D(kernel_size=3, activation='relu', padding=\"VALID\",filters=128))\n",
        "cnn.add(keras.layers.MaxPooling2D(pool_size=2))\n",
        "cnn.add(keras.layers.Flatten())\n",
        "cnn.add(keras.layers.Dense(units=128, activation='relu'))\n",
        "cnn.add(keras.layers.Dropout(0.5))\n",
        "cnn.add(keras.layers.Dense(units=64, activation='relu'))\n",
        "cnn.add(keras.layers.Dropout(0.5))\n",
        "cnn.add(keras.layers.Dense(units=10, activation='softmax'))\n",
        "\n",
        "cnn.compile(loss='categorical_crossentropy', optimizer=\"adam\", metrics=['accuracy'])\n",
        "cnn.fit(X_train_cnn, y_train_cnn, epochs=2, validation_data=(X_valid_cnn, y_valid_cnn))\n",
        "test_results = cnn.evaluate(X_test_cnn, y_test_cnn, verbose=1)\n",
        "print(f'Test results - Loss: {test_results[0]} - Accuracy: {test_results[1] * 100}% - Kernel size - 14')"
      ],
      "execution_count": null,
      "outputs": [
        {
          "name": "stdout",
          "output_type": "stream",
          "text": [
            "Epoch 1/2\n",
            "1719/1719 [==============================] - 15s 8ms/step - loss: 0.3674 - accuracy: 0.8925 - val_loss: 0.1018 - val_accuracy: 0.9758\n",
            "Epoch 2/2\n",
            "1719/1719 [==============================] - 14s 8ms/step - loss: 0.1243 - accuracy: 0.9711 - val_loss: 0.0797 - val_accuracy: 0.9812\n",
            "313/313 [==============================] - 1s 5ms/step - loss: 0.0680 - accuracy: 0.9829\n",
            "Test results - Loss: 0.06804630160331726 - Accuracy: 0.9829000234603882% - Kernel size - 14\n"
          ]
        }
      ]
    },
    {
      "cell_type": "code",
      "metadata": {
        "colab": {
          "base_uri": "https://localhost:8080/"
        },
        "id": "HBIuwvijhmzf",
        "outputId": "33881ffb-ffe5-4e4b-d02f-52ba4da06068"
      },
      "source": [
        "final_cnn = keras.models.Sequential()\n",
        "final_cnn.add(keras.layers.Conv2D(activation='relu', padding=\"VALID\",filters=64, kernel_size=7, input_shape=input_shape))\n",
        "final_cnn.add(keras.layers.MaxPooling2D(pool_size=2))\n",
        "final_cnn.add(keras.layers.Conv2D(kernel_size=3, activation='relu', padding=\"VALID\",filters=128))\n",
        "final_cnn.add(keras.layers.Conv2D(kernel_size=3, activation='relu', padding=\"VALID\",filters=128))\n",
        "final_cnn.add(keras.layers.MaxPooling2D(pool_size=2))\n",
        "final_cnn.add(keras.layers.Flatten())\n",
        "final_cnn.add(keras.layers.Dense(units=128, activation='relu'))\n",
        "final_cnn.add(keras.layers.Dense(units=64, activation='relu'))\n",
        "final_cnn.add(keras.layers.Dropout(0.75))\n",
        "final_cnn.add(keras.layers.Dense(units=10, activation='softmax'))\n",
        "\n",
        "final_cnn.compile(loss='categorical_crossentropy', optimizer=\"adam\", metrics=['accuracy'])\n",
        "final_cnn.fit(X_train_cnn, y_train_cnn, epochs=5, validation_data=(X_valid_cnn, y_valid_cnn))\n",
        "test_results = final_cnn.evaluate(X_test_cnn, y_test_cnn, verbose=1)\n",
        "print(f'Test results - Loss: {test_results[0]} - Accuracy: {test_results[1] * 100}%')"
      ],
      "execution_count": null,
      "outputs": [
        {
          "name": "stdout",
          "output_type": "stream",
          "text": [
            "Epoch 1/5\n",
            "1719/1719 [==============================] - 43s 9ms/step - loss: 0.4312 - accuracy: 0.8539 - val_loss: 0.0688 - val_accuracy: 0.9840\n",
            "Epoch 2/5\n",
            "1719/1719 [==============================] - 14s 8ms/step - loss: 0.1674 - accuracy: 0.9489 - val_loss: 0.0608 - val_accuracy: 0.9876\n",
            "Epoch 3/5\n",
            "1719/1719 [==============================] - 14s 8ms/step - loss: 0.1273 - accuracy: 0.9592 - val_loss: 0.0765 - val_accuracy: 0.9840\n",
            "Epoch 4/5\n",
            "1719/1719 [==============================] - 14s 8ms/step - loss: 0.1178 - accuracy: 0.9615 - val_loss: 0.0460 - val_accuracy: 0.9906\n",
            "Epoch 5/5\n",
            "1719/1719 [==============================] - 14s 8ms/step - loss: 0.1018 - accuracy: 0.9653 - val_loss: 0.0539 - val_accuracy: 0.9898\n",
            "313/313 [==============================] - 1s 4ms/step - loss: 0.0567 - accuracy: 0.9906\n",
            "Test results - Loss: 0.05670209974050522 - Accuracy: 99.05999898910522%\n"
          ]
        }
      ]
    },
    {
      "cell_type": "code",
      "metadata": {
        "colab": {
          "base_uri": "https://localhost:8080/",
          "height": 1000
        },
        "id": "JTsJn5Ca7-wV",
        "outputId": "f3453d57-5c7d-49eb-f53d-2821e2700d1c"
      },
      "source": [
        "tf.keras.utils.plot_model(\n",
        "    final_cnn,\n",
        "    to_file=\"final_cnn.png\",\n",
        "    show_shapes=True,\n",
        "    show_dtype=False,\n",
        "    show_layer_names=True,\n",
        "    rankdir=\"TB\",\n",
        "    expand_nested=False,\n",
        "    dpi=96,\n",
        "    layer_range=None,\n",
        ")"
      ],
      "execution_count": null,
      "outputs": [
        {
          "data": {
            "image/png": "[encoded data removed]",
            "text/plain": [
              "<IPython.core.display.Image object>"
            ]
          },
          "execution_count": 6,
          "metadata": {},
          "output_type": "execute_result"
        }
      ]
    },
    {
      "cell_type": "markdown",
      "metadata": {
        "id": "RPiN2fG6_nX8"
      },
      "source": [
        "## Task 1 - Fashion MNIST MLP"
      ]
    },
    {
      "cell_type": "code",
      "metadata": {
        "colab": {
          "base_uri": "https://localhost:8080/"
        },
        "id": "gmq46flbkP9A",
        "outputId": "2306faff-13b7-488e-cdae-ce196b8cbe94"
      },
      "source": [
        "# Loading the Fashion MNIST\n",
        "fashion_mnist = keras.datasets.fashion_mnist\n",
        "(X_train_full_mlp_f, y_train_full_mlp_f), (X_test_mlp_f, y_test_mlp_f) = fashion_mnist.load_data()\n",
        "\n",
        "X_train_mlp_f, y_train_mlp_f, X_valid_mlp_f, y_valid_mlp_f, X_test_mlp_f, y_test_mlp_f = make_mlp_datasets(X_train_full_mlp_f, y_train_full_mlp_f, X_test_mlp_f, y_test_mlp_f)\n",
        "\n",
        "feature_vector_length = 784\n",
        "num_classes = 10\n",
        "input_shape = (feature_vector_length,)\n",
        "print(f'Feature shape: {input_shape}')"
      ],
      "execution_count": null,
      "outputs": [
        {
          "output_type": "stream",
          "name": "stdout",
          "text": [
            "Feature shape: (784,)\n"
          ]
        }
      ]
    },
    {
      "cell_type": "code",
      "metadata": {
        "colab": {
          "base_uri": "https://localhost:8080/"
        },
        "id": "EfAMORT-oXdI",
        "outputId": "2072c481-4e11-491d-eee9-cde08de0598f"
      },
      "source": [
        "model = keras.models.Sequential()\n",
        "\n",
        "model.add(keras.layers.Dense(30, activation=\"relu\", input_shape = input_shape))\n",
        "model.add(keras.layers.Dense(10, activation=\"softmax\"))\n",
        "model.compile(loss='categorical_crossentropy', optimizer='adam', metrics=['accuracy'])\n",
        "model.fit(X_train_mlp_f, y_train_mlp_f, verbose=1, epochs=2)\n",
        "\n",
        "test_results = model.evaluate(X_valid_mlp_f, y_valid_mlp_f, verbose=1)\n",
        "print(f'Test results - Loss: {test_results[0]} - Accuracy: {test_results[1] * 100}% - \"Default\" model')"
      ],
      "execution_count": null,
      "outputs": [
        {
          "name": "stdout",
          "output_type": "stream",
          "text": [
            "Epoch 1/2\n",
            "1719/1719 [==============================] - 9s 4ms/step - loss: 0.5748 - accuracy: 0.8020\n",
            "Epoch 2/2\n",
            "1719/1719 [==============================] - 6s 4ms/step - loss: 0.4248 - accuracy: 0.8497\n",
            "157/157 [==============================] - 1s 3ms/step - loss: 0.4153 - accuracy: 0.8602\n",
            "Test results - Loss: 0.4152516722679138 - Accuracy: 86.01999878883362% - \"Default\" model\n"
          ]
        }
      ]
    },
    {
      "cell_type": "code",
      "metadata": {
        "colab": {
          "base_uri": "https://localhost:8080/"
        },
        "id": "blIJSQtcmW98",
        "outputId": "6fe3325f-247b-4803-9460-a447addd2620"
      },
      "source": [
        "initializers = [keras.initializers.RandomNormal(stddev=0.01),keras.initializers.RandomNormal(mean = 0, stddev=1),\n",
        "                keras.initializers.RandomUniform(minval=-0.10, maxval=0.10), keras.initializers.Ones(),keras.initializers.GlorotNormal()]\n",
        "for i in initializers:\n",
        "  # First lets select the number of hidden layers\n",
        "  model = keras.models.Sequential()\n",
        "  #model.add(keras.layers.Flatten())\n",
        "  model.add(keras.layers.Dense(30, activation=\"relu\", input_shape = input_shape, kernel_initializer=i))\n",
        "  model.add(keras.layers.Dense(10, activation=\"softmax\", kernel_initializer=i))\n",
        "  model.compile(loss='categorical_crossentropy', optimizer='adam', metrics=['accuracy'])\n",
        "  model.fit(X_train_mlp_f, y_train_mlp_f, verbose=0, epochs=5)\n",
        "\n",
        "  test_results = model.evaluate(X_valid_mlp_f, y_valid_mlp_f, verbose=1)\n",
        "  print(f'Test results - Loss: {test_results[0]} - Accuracy: {test_results[1] * 100}%')"
      ],
      "execution_count": null,
      "outputs": [
        {
          "name": "stdout",
          "output_type": "stream",
          "text": [
            "157/157 [==============================] - 1s 3ms/step - loss: 0.3777 - accuracy: 0.8706\n",
            "Test results - Loss: 0.3776945471763611 - Accuracy: 87.05999851226807%\n",
            "157/157 [==============================] - 1s 3ms/step - loss: 0.7732 - accuracy: 0.7120\n",
            "Test results - Loss: 0.7731862664222717 - Accuracy: 71.20000123977661%\n",
            "157/157 [==============================] - 1s 3ms/step - loss: 0.3568 - accuracy: 0.8736\n",
            "Test results - Loss: 0.3568284809589386 - Accuracy: 87.36000061035156%\n",
            "157/157 [==============================] - 1s 3ms/step - loss: 0.8818 - accuracy: 0.6478\n",
            "Test results - Loss: 0.8818278312683105 - Accuracy: 64.78000283241272%\n",
            "157/157 [==============================] - 1s 3ms/step - loss: 0.3712 - accuracy: 0.8678\n",
            "Test results - Loss: 0.37123721837997437 - Accuracy: 86.77999973297119%\n"
          ]
        }
      ]
    },
    {
      "cell_type": "markdown",
      "metadata": {
        "id": "58E0cfQov_EH"
      },
      "source": [
        "Deciding on layers"
      ]
    },
    {
      "cell_type": "code",
      "metadata": {
        "colab": {
          "base_uri": "https://localhost:8080/"
        },
        "id": "UQ-KNsOEof0m",
        "outputId": "6b9318c8-c5c4-459f-87a3-c5826d56763d"
      },
      "source": [
        "# First lets select the number of hidden layers\n",
        "model = keras.models.Sequential()\n",
        "#model.add(keras.layers.Flatten())\n",
        "model.add(keras.layers.Dense(30, activation=\"relu\", input_shape = input_shape))\n",
        "model.add(keras.layers.Dense(10, activation=\"softmax\"))\n",
        "model.compile(loss='categorical_crossentropy', optimizer='adam', metrics=['accuracy'])\n",
        "model.fit(X_train_mlp_f, y_train_mlp_f, verbose=0, epochs=5)\n",
        "\n",
        "test_results = model.evaluate(X_valid_mlp_f, y_valid_mlp_f, verbose=1)\n",
        "print(f'Test results - Loss: {test_results[0]} - Accuracy: {test_results[1] * 100}% - 1 Dense relu layers')"
      ],
      "execution_count": null,
      "outputs": [
        {
          "name": "stdout",
          "output_type": "stream",
          "text": [
            "Test results - Loss: 0.3769111931324005 - Accuracy: 0.8691999912261963%\n"
          ]
        }
      ]
    },
    {
      "cell_type": "code",
      "metadata": {
        "colab": {
          "base_uri": "https://localhost:8080/"
        },
        "id": "NN7lFa4xotR9",
        "outputId": "6c510ee4-425c-4868-804f-1945be3efbc0"
      },
      "source": [
        "model = keras.models.Sequential()\n",
        "\n",
        "model.add(keras.layers.Dense(30, activation=\"relu\", input_shape = input_shape))\n",
        "model.add(keras.layers.Dense(30, activation=\"relu\"))\n",
        "model.add(keras.layers.Dense(10, activation=\"softmax\"))\n",
        "model.compile(loss='categorical_crossentropy', optimizer='adam', metrics=['accuracy'])\n",
        "model.fit(X_train_mlp_f, y_train_mlp_f, verbose=0, epochs=5)\n",
        "\n",
        "test_results = model.evaluate(X_valid_mlp_f, y_valid_mlp_f, verbose=1)\n",
        "print(f'Test results - Loss: {test_results[0]} - Accuracy: {test_results[1] * 100}% - 2 Dense relu layers')"
      ],
      "execution_count": null,
      "outputs": [
        {
          "name": "stdout",
          "output_type": "stream",
          "text": [
            "Test results - Loss: 0.35902559757232666 - Accuracy: 0.8708000183105469%\n"
          ]
        }
      ]
    },
    {
      "cell_type": "code",
      "metadata": {
        "colab": {
          "base_uri": "https://localhost:8080/"
        },
        "id": "_ZUO7l9Aouud",
        "outputId": "a0cda9c6-71e0-450a-c2d0-4e505424fa8b"
      },
      "source": [
        "model = keras.models.Sequential()\n",
        "\n",
        "model.add(keras.layers.Dense(30, activation=\"relu\", input_shape = input_shape))\n",
        "model.add(keras.layers.Dense(30, activation=\"relu\"))\n",
        "model.add(keras.layers.Dense(30, activation=\"relu\"))\n",
        "model.add(keras.layers.Dense(10, activation=\"softmax\"))\n",
        "model.compile(loss='categorical_crossentropy', optimizer='adam', metrics=['accuracy'])\n",
        "model.fit(X_train_mlp_f, y_train_mlp_f, verbose=0, epochs=5)\n",
        "\n",
        "test_results = model.evaluate(X_valid_mlp_f, y_valid_mlp_f, verbose=1)\n",
        "print(f'Test results - Loss: {test_results[0]} - Accuracy: {test_results[1] * 100}% - 3 Dense relu layers')"
      ],
      "execution_count": null,
      "outputs": [
        {
          "name": "stdout",
          "output_type": "stream",
          "text": [
            "Test results - Loss: 0.3445073366165161 - Accuracy: 0.8736000061035156%\n"
          ]
        }
      ]
    },
    {
      "cell_type": "code",
      "metadata": {
        "colab": {
          "base_uri": "https://localhost:8080/"
        },
        "id": "Bmfsj_I8owU_",
        "outputId": "78f0580b-8038-45ee-ecfd-290a296e4481"
      },
      "source": [
        "model = keras.models.Sequential()\n",
        "\n",
        "model.add(keras.layers.Dense(30, activation=\"relu\", input_shape = input_shape))\n",
        "model.add(keras.layers.Dense(30, activation=\"relu\"))\n",
        "model.add(keras.layers.Dense(30, activation=\"relu\"))\n",
        "model.add(keras.layers.Dense(30, activation=\"relu\"))\n",
        "model.add(keras.layers.Dense(10, activation=\"softmax\"))\n",
        "model.compile(loss='categorical_crossentropy', optimizer='adam', metrics=['accuracy'])\n",
        "model.fit(X_train_mlp_f, y_train_mlp_f, verbose=0, epochs=5)\n",
        "\n",
        "test_results = model.evaluate(X_valid_mlp_f, y_valid_mlp_f, verbose=1)\n",
        "print(f'Test results - Loss: {test_results[0]} - Accuracy: {test_results[1] * 100}% - 4 Dense relu layers')"
      ],
      "execution_count": null,
      "outputs": [
        {
          "name": "stdout",
          "output_type": "stream",
          "text": [
            "Test results - Loss: 0.3714909553527832 - Accuracy: 0.8664000034332275%\n"
          ]
        }
      ]
    },
    {
      "cell_type": "code",
      "metadata": {
        "colab": {
          "base_uri": "https://localhost:8080/"
        },
        "id": "5kNBWCj_oyCF",
        "outputId": "493a6dfc-902a-42bc-eacd-fb23656a83d5"
      },
      "source": [
        "model = keras.models.Sequential()\n",
        "\n",
        "model.add(keras.layers.Dense(30, activation=\"relu\", input_shape = input_shape))\n",
        "model.add(keras.layers.Dense(30, activation=\"relu\"))\n",
        "model.add(keras.layers.Dense(30, activation=\"relu\"))\n",
        "model.add(keras.layers.Dense(30, activation=\"relu\"))\n",
        "model.add(keras.layers.Dense(30, activation=\"relu\"))\n",
        "model.add(keras.layers.Dense(10, activation=\"softmax\"))\n",
        "model.compile(loss='categorical_crossentropy', optimizer='adam', metrics=['accuracy'])\n",
        "model.fit(X_train_mlp_f, y_train_mlp_f, verbose=0, epochs=5)\n",
        "\n",
        "test_results = model.evaluate(X_valid_mlp_f, y_valid_mlp_f, verbose=1)\n",
        "print(f'Test results - Loss: {test_results[0]} - Accuracy: {test_results[1] * 100}% - 5 Dense relu layers')"
      ],
      "execution_count": null,
      "outputs": [
        {
          "name": "stdout",
          "output_type": "stream",
          "text": [
            "157/157 [==============================] - 1s 3ms/step - loss: 0.4737 - accuracy: 0.8324\n",
            "Test results - Loss: 0.4736630916595459 - Accuracy: 83.24000239372253% - 5 Dense relu Layer\n"
          ]
        }
      ]
    },
    {
      "cell_type": "markdown",
      "metadata": {
        "id": "fHEuqeoopP_h"
      },
      "source": [
        "3 hidden layers look good now number of neurons"
      ]
    },
    {
      "cell_type": "code",
      "metadata": {
        "colab": {
          "base_uri": "https://localhost:8080/"
        },
        "id": "nMqXc3X5pSfk",
        "outputId": "fe7f5bfe-8c13-4f13-def3-b8b0e7505793"
      },
      "source": [
        "for i in [10,20,30,40,50,75,100,250]:\n",
        "  # First lets select the number of hidden layers\n",
        "  model = keras.models.Sequential()\n",
        "  #model.add(keras.layers.Flatten())\n",
        "  model.add(keras.layers.Dense(i, activation=\"relu\", input_shape = input_shape))\n",
        "  model.add(keras.layers.Dense(i, activation=\"relu\"))\n",
        "  model.add(keras.layers.Dense(i, activation=\"relu\"))\n",
        "  model.add(keras.layers.Dense(10, activation=\"softmax\"))\n",
        "  model.compile(loss='categorical_crossentropy', optimizer='adam', metrics=['accuracy'])\n",
        "  model.fit(X_train_mlp_f, y_train_mlp_f, verbose=0, epochs=5)\n",
        "\n",
        "  test_results = model.evaluate(X_valid_mlp_f, y_valid_mlp_f, verbose=1)\n",
        "  print(f'Test results - Loss: {test_results[0]} - Accuracy: {test_results[1] * 100}% - Number of Neurons - {i}')"
      ],
      "execution_count": null,
      "outputs": [
        {
          "name": "stdout",
          "output_type": "stream",
          "text": [
            "157/157 [==============================] - 1s 3ms/step - loss: 0.5221 - accuracy: 0.8190\n",
            "Test results - Loss: 0.5221332907676697 - Accuracy: 0.8190000057220459% - Number of Neurons - 10\n",
            "157/157 [==============================] - 1s 3ms/step - loss: 0.4373 - accuracy: 0.8492\n",
            "Test results - Loss: 0.43725958466529846 - Accuracy: 0.8492000102996826% - Number of Neurons - 20\n",
            "157/157 [==============================] - 1s 3ms/step - loss: 0.4780 - accuracy: 0.8356\n",
            "Test results - Loss: 0.47800201177597046 - Accuracy: 0.8356000185012817% - Number of Neurons - 30\n",
            "157/157 [==============================] - 1s 3ms/step - loss: 0.4261 - accuracy: 0.8508\n",
            "Test results - Loss: 0.42606034874916077 - Accuracy: 0.8507999777793884% - Number of Neurons - 40\n",
            "157/157 [==============================] - 1s 3ms/step - loss: 0.4040 - accuracy: 0.8584\n",
            "Test results - Loss: 0.40400198101997375 - Accuracy: 0.8583999872207642% - Number of Neurons - 50\n",
            "157/157 [==============================] - 1s 3ms/step - loss: 0.4101 - accuracy: 0.8550\n",
            "Test results - Loss: 0.41008299589157104 - Accuracy: 0.8550000190734863% - Number of Neurons - 75\n",
            "157/157 [==============================] - 1s 3ms/step - loss: 0.4697 - accuracy: 0.8172\n",
            "Test results - Loss: 0.4696907103061676 - Accuracy: 0.8172000050544739% - Number of Neurons - 100\n",
            "157/157 [==============================] - 1s 3ms/step - loss: 0.5070 - accuracy: 0.8184\n",
            "Test results - Loss: 0.5070247650146484 - Accuracy: 0.8184000253677368% - Number of Neurons - 250\n"
          ]
        }
      ]
    },
    {
      "cell_type": "markdown",
      "metadata": {
        "id": "HLgjYr-ZqFh2"
      },
      "source": [
        "75 loooks good lets try optimizers"
      ]
    },
    {
      "cell_type": "code",
      "metadata": {
        "colab": {
          "base_uri": "https://localhost:8080/"
        },
        "id": "3gyOI3cZqNZY",
        "outputId": "a274cf4f-db4c-4ed0-e0ee-9fef0690dfb9"
      },
      "source": [
        "for i in [\"sgd\", \"nadam\",\"adam\", \"adadelta\"]:\n",
        "  model = keras.models.Sequential()\n",
        "  #model.add(keras.layers.Flatten())\n",
        "  model.add(keras.layers.Dense(75, activation=\"relu\", input_shape = input_shape))\n",
        "  model.add(keras.layers.Dense(75, activation=\"relu\"))\n",
        "  model.add(keras.layers.Dense(75, activation=\"relu\"))\n",
        "  model.add(keras.layers.Dense(10, activation=\"softmax\"))\n",
        "  model.compile(loss='categorical_crossentropy', optimizer=i, metrics=['accuracy'])\n",
        "  model.fit(X_train_mlp_f, y_train_mlp_f, verbose=0, epochs=5)\n",
        "\n",
        "  test_results = model.evaluate(X_valid_mlp_f, y_valid_mlp_f, verbose=1)\n",
        "  print(f'Test results - Loss: {test_results[0]} - Accuracy: {test_results[1] * 100}% - Optimizer: {i}')"
      ],
      "execution_count": null,
      "outputs": [
        {
          "name": "stdout",
          "output_type": "stream",
          "text": [
            "Test results - Loss: 0.38051456212997437 - Accuracy: 0.866599977016449%\n",
            "Test results - Loss: 0.31609371304512024 - Accuracy: 0.8848000168800354%\n",
            "Test results - Loss: 0.3224264979362488 - Accuracy: 0.8787999749183655%\n",
            "Test results - Loss: 1.5441341400146484 - Accuracy: 0.5371999740600586%\n"
          ]
        }
      ]
    },
    {
      "cell_type": "markdown",
      "metadata": {
        "id": "uwzMH8_5rJmB"
      },
      "source": [
        "Nadam is good. Now  dropout"
      ]
    },
    {
      "cell_type": "code",
      "metadata": {
        "colab": {
          "base_uri": "https://localhost:8080/"
        },
        "id": "pR5nhaLdrQ36",
        "outputId": "1ab94b34-6d07-4fb1-939b-7d838788bc4e"
      },
      "source": [
        "for i in [0.1,0.3,0.5,0.7]:\n",
        "  model = keras.models.Sequential()\n",
        "  #model.add(keras.layers.Flatten())\n",
        "  model.add(keras.layers.Dense(75, activation=\"relu\", input_shape = input_shape))\n",
        "  model.add(keras.layers.Dropout(rate = i))  \n",
        "  model.add(keras.layers.Dense(75, activation=\"relu\", ))\n",
        "  model.add(keras.layers.Dropout(rate = i))  \n",
        "  model.add(keras.layers.Dense(75, activation=\"relu\"))\n",
        "  model.add(keras.layers.Dense(10, activation=\"softmax\"))\n",
        "  model.compile(loss='categorical_crossentropy', optimizer=\"nadam\", metrics=['accuracy'])\n",
        "  model.fit(X_train_mlp_f, y_train_mlp_f, verbose=0, epochs=5)\n",
        "\n",
        "  test_results = model.evaluate(X_valid_mlp_f, y_valid_mlp_f, verbose=1)\n",
        "  print(f'Test results - Loss: {test_results[0]} - Accuracy: {test_results[1]}% - Droupout rate: {i}')"
      ],
      "execution_count": null,
      "outputs": [
        {
          "name": "stdout",
          "output_type": "stream",
          "text": [
            "Test results - Loss: 0.3193815350532532 - Accuracy: 0.8844000101089478%\n",
            "Test results - Loss: 0.3522694706916809 - Accuracy: 0.8722000122070312%\n",
            "Test results - Loss: 0.4101892113685608 - Accuracy: 0.8497999906539917%\n",
            "Test results - Loss: 0.678981363773346 - Accuracy: 0.6886000037193298%\n"
          ]
        }
      ]
    },
    {
      "cell_type": "markdown",
      "metadata": {
        "id": "nkmUqYRzr6PX"
      },
      "source": [
        "Drop out doesnt help this time. now penalty"
      ]
    },
    {
      "cell_type": "code",
      "metadata": {
        "colab": {
          "base_uri": "https://localhost:8080/"
        },
        "id": "UR5_owansAYM",
        "outputId": "e7a1e43b-a673-43a2-f68b-31f466586124"
      },
      "source": [
        "from keras.regularizers import l1_l2\n",
        "for i in [0,0.0001,0.001,0.01,0.1]:\n",
        "  for j in [0,0.0001,0.001,0.01,0.1]:\n",
        "    model = keras.models.Sequential()\n",
        "    #model.add(keras.layers.Flatten())\n",
        "    model.add(keras.layers.Dense(75, activation=\"relu\",  kernel_regularizer=l1_l2(l1=i, l2=j)))\n",
        "    model.add(keras.layers.Dense(75, activation=\"relu\", kernel_regularizer=l1_l2(l1=i, l2=j)))\n",
        "    model.add(keras.layers.Dense(75, activation=\"relu\",  kernel_regularizer=l1_l2(l1=i, l2=j)))\n",
        "    model.add(keras.layers.Dense(10, activation=\"softmax\"))\n",
        "    model.compile(loss='categorical_crossentropy', optimizer=\"nadam\", metrics=['accuracy'])\n",
        "    model.fit(X_train_mlp_f, y_train_mlp_f, verbose=0, epochs=5)\n",
        "\n",
        "    test_results = model.evaluate(X_valid_mlp_f, y_valid_mlp_f, verbose=1)\n",
        "    print(f'Test results - Loss: {test_results[0]} - Accuracy: {test_results[1]}% , at iteration {i},{j}')"
      ],
      "execution_count": null,
      "outputs": [
        {
          "name": "stdout",
          "output_type": "stream",
          "text": [
            "Test results - Loss: 0.3353384733200073 - Accuracy: 0.8759999871253967% , at iteration 0,0\n",
            "Test results - Loss: 0.35917946696281433 - Accuracy: 0.883400022983551% , at iteration 0,0.0001\n",
            "Test results - Loss: 0.45334312319755554 - Accuracy: 0.8709999918937683% , at iteration 0,0.001\n",
            "Test results - Loss: 0.6263620853424072 - Accuracy: 0.840399980545044% , at iteration 0,0.01\n",
            "Test results - Loss: 1.04177987575531 - Accuracy: 0.7670000195503235% , at iteration 0,0.1\n",
            "Test results - Loss: 0.48214513063430786 - Accuracy: 0.8777999877929688% , at iteration 0.0001,0\n",
            "Test results - Loss: 0.4919813871383667 - Accuracy: 0.873199999332428% , at iteration 0.0001,0.0001\n",
            "Test results - Loss: 0.5122682452201843 - Accuracy: 0.8661999702453613% , at iteration 0.0001,0.001\n",
            "Test results - Loss: 0.66790771484375 - Accuracy: 0.8198000192642212% , at iteration 0.0001,0.01\n",
            "Test results - Loss: 1.0858409404754639 - Accuracy: 0.7396000027656555% , at iteration 0.0001,0.1\n",
            "Test results - Loss: 0.6684749722480774 - Accuracy: 0.8478000164031982% , at iteration 0.001,0\n",
            "Test results - Loss: 0.663689374923706 - Accuracy: 0.8442000150680542% , at iteration 0.001,0.0001\n",
            "Test results - Loss: 0.6951130032539368 - Accuracy: 0.8285999894142151% , at iteration 0.001,0.001\n",
            "Test results - Loss: 0.7777343988418579 - Accuracy: 0.8176000118255615% , at iteration 0.001,0.01\n",
            "Test results - Loss: 1.1290262937545776 - Accuracy: 0.7343999743461609% , at iteration 0.001,0.1\n",
            "Test results - Loss: 1.126357078552246 - Accuracy: 0.7437999844551086% , at iteration 0.01,0\n",
            "Test results - Loss: 1.1039092540740967 - Accuracy: 0.7570000290870667% , at iteration 0.01,0.0001\n",
            "Test results - Loss: 1.160586953163147 - Accuracy: 0.7631999850273132% , at iteration 0.01,0.001\n",
            "Test results - Loss: 1.2089135646820068 - Accuracy: 0.7305999994277954% , at iteration 0.01,0.01\n",
            "Test results - Loss: 2.3912477493286133 - Accuracy: 0.1111999973654747% , at iteration 0.01,0.1\n",
            "Test results - Loss: 3.271375894546509 - Accuracy: 0.10119999945163727% , at iteration 0.1,0\n",
            "Test results - Loss: 3.2713217735290527 - Accuracy: 0.09860000014305115% , at iteration 0.1,0.0001\n",
            "Test results - Loss: 3.269395112991333 - Accuracy: 0.09799999743700027% , at iteration 0.1,0.001\n",
            "Test results - Loss: 3.2278237342834473 - Accuracy: 0.10019999742507935% , at iteration 0.1,0.01\n",
            "Test results - Loss: 3.193613052368164 - Accuracy: 0.09139999747276306% , at iteration 0.1,0.1\n"
          ]
        }
      ]
    },
    {
      "cell_type": "markdown",
      "metadata": {
        "id": "3La98OmAwWzK"
      },
      "source": [
        "Test our final model with the test data"
      ]
    },
    {
      "cell_type": "code",
      "metadata": {
        "colab": {
          "base_uri": "https://localhost:8080/"
        },
        "id": "gNUaKAnJuI3A",
        "outputId": "b96428bc-31af-4d9c-c2a3-7f743624acf0"
      },
      "source": [
        "final_mlp_f = keras.models.Sequential()\n",
        "\n",
        "final_mlp_f.add(keras.layers.Dense(75, activation=\"relu\", input_shape = input_shape))\n",
        "final_mlp_f.add(keras.layers.Dense(75, activation=\"relu\", ))  \n",
        "final_mlp_f.add(keras.layers.Dense(75, activation=\"relu\"))\n",
        "final_mlp_f.add(keras.layers.Dense(10, activation=\"softmax\"))\n",
        "final_mlp_f.compile(loss='categorical_crossentropy', optimizer=\"nadam\", metrics=['accuracy'])\n",
        "final_mlp_f.fit(X_train_mlp_f, y_train_mlp_f, verbose=1, epochs=5) # A little more epoch for final model\n",
        "\n",
        "test_results = final_mlp_f.evaluate(X_valid_mlp_f, y_valid_mlp_f, verbose=1)\n",
        "print(f'Test results - Loss: {test_results[0]} - Accuracy: {test_results[1] * 100}%')"
      ],
      "execution_count": null,
      "outputs": [
        {
          "name": "stdout",
          "output_type": "stream",
          "text": [
            "Epoch 1/5\n",
            "1719/1719 [==============================] - 11s 6ms/step - loss: 0.4977 - accuracy: 0.8210\n",
            "Epoch 2/5\n",
            "1719/1719 [==============================] - 10s 6ms/step - loss: 0.3633 - accuracy: 0.8670\n",
            "Epoch 3/5\n",
            "1719/1719 [==============================] - 10s 6ms/step - loss: 0.3285 - accuracy: 0.8791\n",
            "Epoch 4/5\n",
            "1719/1719 [==============================] - 10s 6ms/step - loss: 0.3086 - accuracy: 0.8853\n",
            "Epoch 5/5\n",
            "1719/1719 [==============================] - 10s 6ms/step - loss: 0.2910 - accuracy: 0.8903\n",
            "157/157 [==============================] - 1s 3ms/step - loss: 0.3155 - accuracy: 0.8856\n",
            "Test results - Loss: 0.3155222237110138 - Accuracy: 88.55999708175659%\n"
          ]
        }
      ]
    },
    {
      "cell_type": "code",
      "metadata": {
        "colab": {
          "base_uri": "https://localhost:8080/",
          "height": 533
        },
        "id": "steQ8uutQuSW",
        "outputId": "ebf0466f-4ff9-4383-983d-37c9c6acf775"
      },
      "source": [
        "from keras.utils.vis_utils import plot_model\n",
        "plot_model(final_mlp_f, to_file='model_plot.png', show_shapes=True, show_layer_names=True)"
      ],
      "execution_count": null,
      "outputs": [
        {
          "data": {
            "image/png": "[encoded data removed]",
            "text/plain": [
              "<IPython.core.display.Image object>"
            ]
          },
          "execution_count": 20,
          "metadata": {},
          "output_type": "execute_result"
        }
      ]
    },
    {
      "cell_type": "markdown",
      "metadata": {
        "id": "83-zTnZcvO8s"
      },
      "source": [
        "## Task 1 - Fashion MNIST CNN"
      ]
    },
    {
      "cell_type": "code",
      "metadata": {
        "id": "hajxHj5C0ZhU"
      },
      "source": [
        "# Loading the Fashion MNIST\n",
        "fashion_mnist = keras.datasets.fashion_mnist\n",
        "(X_train_full_cnn_f, y_train_full_cnn_f), (X_test_cnn_f, y_test_cnn_f) = fashion_mnist.load_data()\n",
        "\n",
        "X_train_cnn_f, y_train_cnn_f, X_valid_cnn_f, y_valid_cnn_f, X_test_cnn_f, y_test_cnn_f, input_shape = make_cnn_datasets(X_train_full_cnn_f, y_train_full_cnn_f, X_test_cnn_f, y_test_cnn_f)"
      ],
      "execution_count": null,
      "outputs": []
    },
    {
      "cell_type": "code",
      "metadata": {
        "colab": {
          "base_uri": "https://localhost:8080/",
          "height": 431
        },
        "id": "FKa_Y1t5ocML",
        "outputId": "01b8edf1-fe84-4210-99aa-d57e7e6f4199"
      },
      "source": [
        "cnn_f = keras.models.Sequential()\n",
        "cnn_f.add(keras.layers.Conv2D(activation='relu', padding=\"SAME\",filters=64, kernel_size=7, input_shape=input_shape))\n",
        "cnn_f.add(keras.layers.MaxPooling2D(pool_size=2))\n",
        "cnn_f.add(keras.layers.Conv2D(kernel_size=3, activation='relu', padding=\"SAME\",filters=64))\n",
        "cnn_f.add(keras.layers.Conv2D(kernel_size=3, activation='relu', padding=\"SAME\",filters=64))\n",
        "cnn_f.add(keras.layers.MaxPooling2D(pool_size=2))\n",
        "cnn_f.add(keras.layers.Conv2D(kernel_size=3, activation='relu', padding=\"SAME\",filters=128))\n",
        "cnn_f.add(keras.layers.Conv2D(kernel_size=3, activation='relu', padding=\"SAME\",filters=128))\n",
        "cnn_f.add(keras.layers.MaxPooling2D(pool_size=2))\n",
        "cnn_f.add(keras.layers.Flatten())\n",
        "cnn_f.add(keras.layers.Dense(units=128, activation='relu'))\n",
        "cnn_f.add(keras.layers.Dropout(0.5))\n",
        "cnn_f.add(keras.layers.Dense(units=64, activation='relu'))\n",
        "cnn_f.add(keras.layers.Dropout(0.5))\n",
        "cnn_f.add(keras.layers.Dense(units=10, activation='softmax'))\n",
        "\n",
        "cnn_f.compile(loss='categorical_crossentropy', optimizer=\"adam\", metrics=['accuracy'])\n",
        "cnn_f.fit(X_train_cnn_f, y_train_cnn_f, epochs=2, validation_data=(X_valid_cnn_f, y_valid_cnn_f))\n",
        "test_results = cnn_f.evaluate(X_test_cnn_f, y_test_cnn_f, verbose=1)\n",
        "\n",
        "print(f'Loss (Test Set): {test_results[0]}')\n",
        "print(f'Accuracy (Test Set): {test_results[1] * 100}%')"
      ],
      "execution_count": null,
      "outputs": [
        {
          "output_type": "stream",
          "name": "stdout",
          "text": [
            "Epoch 1/2\n",
            "  21/1719 [..............................] - ETA: 4:23 - loss: 2.2972 - accuracy: 0.1042"
          ]
        },
        {
          "output_type": "error",
          "ename": "KeyboardInterrupt",
          "evalue": "ignored",
          "traceback": [
            "\u001b[0;31m---------------------------------------------------------------------------\u001b[0m",
            "\u001b[0;31mKeyboardInterrupt\u001b[0m                         Traceback (most recent call last)",
            "\u001b[0;32m<ipython-input-17-6c095f03d5a8>\u001b[0m in \u001b[0;36m<module>\u001b[0;34m()\u001b[0m\n\u001b[1;32m     16\u001b[0m \u001b[0;34m\u001b[0m\u001b[0m\n\u001b[1;32m     17\u001b[0m \u001b[0mcnn_f\u001b[0m\u001b[0;34m.\u001b[0m\u001b[0mcompile\u001b[0m\u001b[0;34m(\u001b[0m\u001b[0mloss\u001b[0m\u001b[0;34m=\u001b[0m\u001b[0;34m'categorical_crossentropy'\u001b[0m\u001b[0;34m,\u001b[0m \u001b[0moptimizer\u001b[0m\u001b[0;34m=\u001b[0m\u001b[0;34m\"adam\"\u001b[0m\u001b[0;34m,\u001b[0m \u001b[0mmetrics\u001b[0m\u001b[0;34m=\u001b[0m\u001b[0;34m[\u001b[0m\u001b[0;34m'accuracy'\u001b[0m\u001b[0;34m]\u001b[0m\u001b[0;34m)\u001b[0m\u001b[0;34m\u001b[0m\u001b[0;34m\u001b[0m\u001b[0m\n\u001b[0;32m---> 18\u001b[0;31m \u001b[0mcnn_f\u001b[0m\u001b[0;34m.\u001b[0m\u001b[0mfit\u001b[0m\u001b[0;34m(\u001b[0m\u001b[0mX_train_cnn_f\u001b[0m\u001b[0;34m,\u001b[0m \u001b[0my_train_cnn_f\u001b[0m\u001b[0;34m,\u001b[0m \u001b[0mepochs\u001b[0m\u001b[0;34m=\u001b[0m\u001b[0;36m2\u001b[0m\u001b[0;34m,\u001b[0m \u001b[0mvalidation_data\u001b[0m\u001b[0;34m=\u001b[0m\u001b[0;34m(\u001b[0m\u001b[0mX_valid_cnn_f\u001b[0m\u001b[0;34m,\u001b[0m \u001b[0my_valid_cnn_f\u001b[0m\u001b[0;34m)\u001b[0m\u001b[0;34m)\u001b[0m\u001b[0;34m\u001b[0m\u001b[0;34m\u001b[0m\u001b[0m\n\u001b[0m\u001b[1;32m     19\u001b[0m \u001b[0mtest_results\u001b[0m \u001b[0;34m=\u001b[0m \u001b[0mcnn_f\u001b[0m\u001b[0;34m.\u001b[0m\u001b[0mevaluate\u001b[0m\u001b[0;34m(\u001b[0m\u001b[0mX_test_cnn_f\u001b[0m\u001b[0;34m,\u001b[0m \u001b[0my_test_cnn_f\u001b[0m\u001b[0;34m,\u001b[0m \u001b[0mverbose\u001b[0m\u001b[0;34m=\u001b[0m\u001b[0;36m1\u001b[0m\u001b[0;34m)\u001b[0m\u001b[0;34m\u001b[0m\u001b[0;34m\u001b[0m\u001b[0m\n\u001b[1;32m     20\u001b[0m \u001b[0;34m\u001b[0m\u001b[0m\n",
            "\u001b[0;32m/usr/local/lib/python3.7/dist-packages/keras/utils/traceback_utils.py\u001b[0m in \u001b[0;36merror_handler\u001b[0;34m(*args, **kwargs)\u001b[0m\n\u001b[1;32m     62\u001b[0m     \u001b[0mfiltered_tb\u001b[0m \u001b[0;34m=\u001b[0m \u001b[0;32mNone\u001b[0m\u001b[0;34m\u001b[0m\u001b[0;34m\u001b[0m\u001b[0m\n\u001b[1;32m     63\u001b[0m     \u001b[0;32mtry\u001b[0m\u001b[0;34m:\u001b[0m\u001b[0;34m\u001b[0m\u001b[0;34m\u001b[0m\u001b[0m\n\u001b[0;32m---> 64\u001b[0;31m       \u001b[0;32mreturn\u001b[0m \u001b[0mfn\u001b[0m\u001b[0;34m(\u001b[0m\u001b[0;34m*\u001b[0m\u001b[0margs\u001b[0m\u001b[0;34m,\u001b[0m \u001b[0;34m**\u001b[0m\u001b[0mkwargs\u001b[0m\u001b[0;34m)\u001b[0m\u001b[0;34m\u001b[0m\u001b[0;34m\u001b[0m\u001b[0m\n\u001b[0m\u001b[1;32m     65\u001b[0m     \u001b[0;32mexcept\u001b[0m \u001b[0mException\u001b[0m \u001b[0;32mas\u001b[0m \u001b[0me\u001b[0m\u001b[0;34m:\u001b[0m  \u001b[0;31m# pylint: disable=broad-except\u001b[0m\u001b[0;34m\u001b[0m\u001b[0;34m\u001b[0m\u001b[0m\n\u001b[1;32m     66\u001b[0m       \u001b[0mfiltered_tb\u001b[0m \u001b[0;34m=\u001b[0m \u001b[0m_process_traceback_frames\u001b[0m\u001b[0;34m(\u001b[0m\u001b[0me\u001b[0m\u001b[0;34m.\u001b[0m\u001b[0m__traceback__\u001b[0m\u001b[0;34m)\u001b[0m\u001b[0;34m\u001b[0m\u001b[0;34m\u001b[0m\u001b[0m\n",
            "\u001b[0;32m/usr/local/lib/python3.7/dist-packages/keras/engine/training.py\u001b[0m in \u001b[0;36mfit\u001b[0;34m(self, x, y, batch_size, epochs, verbose, callbacks, validation_split, validation_data, shuffle, class_weight, sample_weight, initial_epoch, steps_per_epoch, validation_steps, validation_batch_size, validation_freq, max_queue_size, workers, use_multiprocessing)\u001b[0m\n\u001b[1;32m   1214\u001b[0m                 _r=1):\n\u001b[1;32m   1215\u001b[0m               \u001b[0mcallbacks\u001b[0m\u001b[0;34m.\u001b[0m\u001b[0mon_train_batch_begin\u001b[0m\u001b[0;34m(\u001b[0m\u001b[0mstep\u001b[0m\u001b[0;34m)\u001b[0m\u001b[0;34m\u001b[0m\u001b[0;34m\u001b[0m\u001b[0m\n\u001b[0;32m-> 1216\u001b[0;31m               \u001b[0mtmp_logs\u001b[0m \u001b[0;34m=\u001b[0m \u001b[0mself\u001b[0m\u001b[0;34m.\u001b[0m\u001b[0mtrain_function\u001b[0m\u001b[0;34m(\u001b[0m\u001b[0miterator\u001b[0m\u001b[0;34m)\u001b[0m\u001b[0;34m\u001b[0m\u001b[0;34m\u001b[0m\u001b[0m\n\u001b[0m\u001b[1;32m   1217\u001b[0m               \u001b[0;32mif\u001b[0m \u001b[0mdata_handler\u001b[0m\u001b[0;34m.\u001b[0m\u001b[0mshould_sync\u001b[0m\u001b[0;34m:\u001b[0m\u001b[0;34m\u001b[0m\u001b[0;34m\u001b[0m\u001b[0m\n\u001b[1;32m   1218\u001b[0m                 \u001b[0mcontext\u001b[0m\u001b[0;34m.\u001b[0m\u001b[0masync_wait\u001b[0m\u001b[0;34m(\u001b[0m\u001b[0;34m)\u001b[0m\u001b[0;34m\u001b[0m\u001b[0;34m\u001b[0m\u001b[0m\n",
            "\u001b[0;32m/usr/local/lib/python3.7/dist-packages/tensorflow/python/util/traceback_utils.py\u001b[0m in \u001b[0;36merror_handler\u001b[0;34m(*args, **kwargs)\u001b[0m\n\u001b[1;32m    148\u001b[0m     \u001b[0mfiltered_tb\u001b[0m \u001b[0;34m=\u001b[0m \u001b[0;32mNone\u001b[0m\u001b[0;34m\u001b[0m\u001b[0;34m\u001b[0m\u001b[0m\n\u001b[1;32m    149\u001b[0m     \u001b[0;32mtry\u001b[0m\u001b[0;34m:\u001b[0m\u001b[0;34m\u001b[0m\u001b[0;34m\u001b[0m\u001b[0m\n\u001b[0;32m--> 150\u001b[0;31m       \u001b[0;32mreturn\u001b[0m \u001b[0mfn\u001b[0m\u001b[0;34m(\u001b[0m\u001b[0;34m*\u001b[0m\u001b[0margs\u001b[0m\u001b[0;34m,\u001b[0m \u001b[0;34m**\u001b[0m\u001b[0mkwargs\u001b[0m\u001b[0;34m)\u001b[0m\u001b[0;34m\u001b[0m\u001b[0;34m\u001b[0m\u001b[0m\n\u001b[0m\u001b[1;32m    151\u001b[0m     \u001b[0;32mexcept\u001b[0m \u001b[0mException\u001b[0m \u001b[0;32mas\u001b[0m \u001b[0me\u001b[0m\u001b[0;34m:\u001b[0m\u001b[0;34m\u001b[0m\u001b[0;34m\u001b[0m\u001b[0m\n\u001b[1;32m    152\u001b[0m       \u001b[0mfiltered_tb\u001b[0m \u001b[0;34m=\u001b[0m \u001b[0m_process_traceback_frames\u001b[0m\u001b[0;34m(\u001b[0m\u001b[0me\u001b[0m\u001b[0;34m.\u001b[0m\u001b[0m__traceback__\u001b[0m\u001b[0;34m)\u001b[0m\u001b[0;34m\u001b[0m\u001b[0;34m\u001b[0m\u001b[0m\n",
            "\u001b[0;32m/usr/local/lib/python3.7/dist-packages/tensorflow/python/eager/def_function.py\u001b[0m in \u001b[0;36m__call__\u001b[0;34m(self, *args, **kwds)\u001b[0m\n\u001b[1;32m    908\u001b[0m \u001b[0;34m\u001b[0m\u001b[0m\n\u001b[1;32m    909\u001b[0m       \u001b[0;32mwith\u001b[0m \u001b[0mOptionalXlaContext\u001b[0m\u001b[0;34m(\u001b[0m\u001b[0mself\u001b[0m\u001b[0;34m.\u001b[0m\u001b[0m_jit_compile\u001b[0m\u001b[0;34m)\u001b[0m\u001b[0;34m:\u001b[0m\u001b[0;34m\u001b[0m\u001b[0;34m\u001b[0m\u001b[0m\n\u001b[0;32m--> 910\u001b[0;31m         \u001b[0mresult\u001b[0m \u001b[0;34m=\u001b[0m \u001b[0mself\u001b[0m\u001b[0;34m.\u001b[0m\u001b[0m_call\u001b[0m\u001b[0;34m(\u001b[0m\u001b[0;34m*\u001b[0m\u001b[0margs\u001b[0m\u001b[0;34m,\u001b[0m \u001b[0;34m**\u001b[0m\u001b[0mkwds\u001b[0m\u001b[0;34m)\u001b[0m\u001b[0;34m\u001b[0m\u001b[0;34m\u001b[0m\u001b[0m\n\u001b[0m\u001b[1;32m    911\u001b[0m \u001b[0;34m\u001b[0m\u001b[0m\n\u001b[1;32m    912\u001b[0m       \u001b[0mnew_tracing_count\u001b[0m \u001b[0;34m=\u001b[0m \u001b[0mself\u001b[0m\u001b[0;34m.\u001b[0m\u001b[0mexperimental_get_tracing_count\u001b[0m\u001b[0;34m(\u001b[0m\u001b[0;34m)\u001b[0m\u001b[0;34m\u001b[0m\u001b[0;34m\u001b[0m\u001b[0m\n",
            "\u001b[0;32m/usr/local/lib/python3.7/dist-packages/tensorflow/python/eager/def_function.py\u001b[0m in \u001b[0;36m_call\u001b[0;34m(self, *args, **kwds)\u001b[0m\n\u001b[1;32m    940\u001b[0m       \u001b[0;31m# In this case we have created variables on the first call, so we run the\u001b[0m\u001b[0;34m\u001b[0m\u001b[0;34m\u001b[0m\u001b[0;34m\u001b[0m\u001b[0m\n\u001b[1;32m    941\u001b[0m       \u001b[0;31m# defunned version which is guaranteed to never create variables.\u001b[0m\u001b[0;34m\u001b[0m\u001b[0;34m\u001b[0m\u001b[0;34m\u001b[0m\u001b[0m\n\u001b[0;32m--> 942\u001b[0;31m       \u001b[0;32mreturn\u001b[0m \u001b[0mself\u001b[0m\u001b[0;34m.\u001b[0m\u001b[0m_stateless_fn\u001b[0m\u001b[0;34m(\u001b[0m\u001b[0;34m*\u001b[0m\u001b[0margs\u001b[0m\u001b[0;34m,\u001b[0m \u001b[0;34m**\u001b[0m\u001b[0mkwds\u001b[0m\u001b[0;34m)\u001b[0m  \u001b[0;31m# pylint: disable=not-callable\u001b[0m\u001b[0;34m\u001b[0m\u001b[0;34m\u001b[0m\u001b[0m\n\u001b[0m\u001b[1;32m    943\u001b[0m     \u001b[0;32melif\u001b[0m \u001b[0mself\u001b[0m\u001b[0;34m.\u001b[0m\u001b[0m_stateful_fn\u001b[0m \u001b[0;32mis\u001b[0m \u001b[0;32mnot\u001b[0m \u001b[0;32mNone\u001b[0m\u001b[0;34m:\u001b[0m\u001b[0;34m\u001b[0m\u001b[0;34m\u001b[0m\u001b[0m\n\u001b[1;32m    944\u001b[0m       \u001b[0;31m# Release the lock early so that multiple threads can perform the call\u001b[0m\u001b[0;34m\u001b[0m\u001b[0;34m\u001b[0m\u001b[0;34m\u001b[0m\u001b[0m\n",
            "\u001b[0;32m/usr/local/lib/python3.7/dist-packages/tensorflow/python/eager/function.py\u001b[0m in \u001b[0;36m__call__\u001b[0;34m(self, *args, **kwargs)\u001b[0m\n\u001b[1;32m   3129\u001b[0m        filtered_flat_args) = self._maybe_define_function(args, kwargs)\n\u001b[1;32m   3130\u001b[0m     return graph_function._call_flat(\n\u001b[0;32m-> 3131\u001b[0;31m         filtered_flat_args, captured_inputs=graph_function.captured_inputs)  # pylint: disable=protected-access\n\u001b[0m\u001b[1;32m   3132\u001b[0m \u001b[0;34m\u001b[0m\u001b[0m\n\u001b[1;32m   3133\u001b[0m   \u001b[0;34m@\u001b[0m\u001b[0mproperty\u001b[0m\u001b[0;34m\u001b[0m\u001b[0;34m\u001b[0m\u001b[0m\n",
            "\u001b[0;32m/usr/local/lib/python3.7/dist-packages/tensorflow/python/eager/function.py\u001b[0m in \u001b[0;36m_call_flat\u001b[0;34m(self, args, captured_inputs, cancellation_manager)\u001b[0m\n\u001b[1;32m   1958\u001b[0m       \u001b[0;31m# No tape is watching; skip to running the function.\u001b[0m\u001b[0;34m\u001b[0m\u001b[0;34m\u001b[0m\u001b[0;34m\u001b[0m\u001b[0m\n\u001b[1;32m   1959\u001b[0m       return self._build_call_outputs(self._inference_function.call(\n\u001b[0;32m-> 1960\u001b[0;31m           ctx, args, cancellation_manager=cancellation_manager))\n\u001b[0m\u001b[1;32m   1961\u001b[0m     forward_backward = self._select_forward_and_backward_functions(\n\u001b[1;32m   1962\u001b[0m         \u001b[0margs\u001b[0m\u001b[0;34m,\u001b[0m\u001b[0;34m\u001b[0m\u001b[0;34m\u001b[0m\u001b[0m\n",
            "\u001b[0;32m/usr/local/lib/python3.7/dist-packages/tensorflow/python/eager/function.py\u001b[0m in \u001b[0;36mcall\u001b[0;34m(self, ctx, args, cancellation_manager)\u001b[0m\n\u001b[1;32m    601\u001b[0m               \u001b[0minputs\u001b[0m\u001b[0;34m=\u001b[0m\u001b[0margs\u001b[0m\u001b[0;34m,\u001b[0m\u001b[0;34m\u001b[0m\u001b[0;34m\u001b[0m\u001b[0m\n\u001b[1;32m    602\u001b[0m               \u001b[0mattrs\u001b[0m\u001b[0;34m=\u001b[0m\u001b[0mattrs\u001b[0m\u001b[0;34m,\u001b[0m\u001b[0;34m\u001b[0m\u001b[0;34m\u001b[0m\u001b[0m\n\u001b[0;32m--> 603\u001b[0;31m               ctx=ctx)\n\u001b[0m\u001b[1;32m    604\u001b[0m         \u001b[0;32melse\u001b[0m\u001b[0;34m:\u001b[0m\u001b[0;34m\u001b[0m\u001b[0;34m\u001b[0m\u001b[0m\n\u001b[1;32m    605\u001b[0m           outputs = execute.execute_with_cancellation(\n",
            "\u001b[0;32m/usr/local/lib/python3.7/dist-packages/tensorflow/python/eager/execute.py\u001b[0m in \u001b[0;36mquick_execute\u001b[0;34m(op_name, num_outputs, inputs, attrs, ctx, name)\u001b[0m\n\u001b[1;32m     57\u001b[0m     \u001b[0mctx\u001b[0m\u001b[0;34m.\u001b[0m\u001b[0mensure_initialized\u001b[0m\u001b[0;34m(\u001b[0m\u001b[0;34m)\u001b[0m\u001b[0;34m\u001b[0m\u001b[0;34m\u001b[0m\u001b[0m\n\u001b[1;32m     58\u001b[0m     tensors = pywrap_tfe.TFE_Py_Execute(ctx._handle, device_name, op_name,\n\u001b[0;32m---> 59\u001b[0;31m                                         inputs, attrs, num_outputs)\n\u001b[0m\u001b[1;32m     60\u001b[0m   \u001b[0;32mexcept\u001b[0m \u001b[0mcore\u001b[0m\u001b[0;34m.\u001b[0m\u001b[0m_NotOkStatusException\u001b[0m \u001b[0;32mas\u001b[0m \u001b[0me\u001b[0m\u001b[0;34m:\u001b[0m\u001b[0;34m\u001b[0m\u001b[0;34m\u001b[0m\u001b[0m\n\u001b[1;32m     61\u001b[0m     \u001b[0;32mif\u001b[0m \u001b[0mname\u001b[0m \u001b[0;32mis\u001b[0m \u001b[0;32mnot\u001b[0m \u001b[0;32mNone\u001b[0m\u001b[0;34m:\u001b[0m\u001b[0;34m\u001b[0m\u001b[0;34m\u001b[0m\u001b[0m\n",
            "\u001b[0;31mKeyboardInterrupt\u001b[0m: "
          ]
        }
      ]
    },
    {
      "cell_type": "code",
      "metadata": {
        "colab": {
          "base_uri": "https://localhost:8080/"
        },
        "id": "QSNtu4ncpCXw",
        "outputId": "e92a0994-13b6-4e62-9c91-eaa542251206"
      },
      "source": [
        "cnn_f = keras.models.Sequential()\n",
        "cnn_f.add(keras.layers.Conv2D(activation='relu', padding=\"SAME\",filters=64, kernel_size=7, input_shape=input_shape))\n",
        "cnn_f.add(keras.layers.MaxPooling2D(pool_size=2))\n",
        "cnn_f.add(keras.layers.Conv2D(kernel_size=3, activation='relu', padding=\"SAME\",filters=64))\n",
        "cnn_f.add(keras.layers.Conv2D(kernel_size=3, activation='relu', padding=\"SAME\",filters=64))\n",
        "cnn_f.add(keras.layers.MaxPooling2D(pool_size=2))\n",
        "cnn_f.add(keras.layers.Flatten())\n",
        "cnn_f.add(keras.layers.Dense(units=128, activation='relu'))\n",
        "cnn_f.add(keras.layers.Dropout(0.5))\n",
        "cnn_f.add(keras.layers.Dense(units=64, activation='relu'))\n",
        "cnn_f.add(keras.layers.Dropout(0.5))\n",
        "cnn_f.add(keras.layers.Dense(units=10, activation='softmax'))\n",
        "\n",
        "cnn_f.compile(loss='categorical_crossentropy', optimizer=\"adam\", metrics=['accuracy'])\n",
        "cnn_f.fit(X_train_cnn_f, y_train_cnn_f, epochs=2, validation_data=(X_valid_cnn_f, y_valid_cnn_f))\n",
        "test_results = cnn_f.evaluate(X_test_cnn_f, y_test_cnn_f, verbose=1)\n",
        "\n",
        "print(f'Loss (Test Set): {test_results[0]}')\n",
        "print(f'Accuracy (Test Set): {test_results[1] * 100}%')\n",
        "print(f'Only 1 convolution layer')"
      ],
      "execution_count": null,
      "outputs": [
        {
          "name": "stdout",
          "output_type": "stream",
          "text": [
            "Epoch 1/2\n",
            "1719/1719 [==============================] - 17s 9ms/step - loss: 0.7315 - accuracy: 0.7403 - val_loss: 0.3594 - val_accuracy: 0.8712\n",
            "Epoch 2/2\n",
            "1719/1719 [==============================] - 15s 9ms/step - loss: 0.4537 - accuracy: 0.8444 - val_loss: 0.3087 - val_accuracy: 0.8864\n",
            "313/313 [==============================] - 2s 5ms/step - loss: 0.3416 - accuracy: 0.8743\n",
            "Loss (Test Set): 0.3416449725627899\n",
            "Accuracy (Test Set): 87.43000030517578%\n"
          ]
        }
      ]
    },
    {
      "cell_type": "code",
      "metadata": {
        "colab": {
          "base_uri": "https://localhost:8080/"
        },
        "id": "AHPBj6I4pP8q",
        "outputId": "a5d036fc-8be6-4022-cf33-1afaf9afb055"
      },
      "source": [
        "cnn_f = keras.models.Sequential()\n",
        "cnn_f.add(keras.layers.Conv2D(activation='relu', padding=\"SAME\",filters=64, kernel_size=7, input_shape=input_shape))\n",
        "cnn_f.add(keras.layers.MaxPooling2D(pool_size=2))\n",
        "cnn_f.add(keras.layers.Conv2D(kernel_size=3, activation='relu', padding=\"SAME\",filters=256))\n",
        "cnn_f.add(keras.layers.Conv2D(kernel_size=3, activation='relu', padding=\"SAME\",filters=256))\n",
        "cnn_f.add(keras.layers.MaxPooling2D(pool_size=2))\n",
        "cnn_f.add(keras.layers.Flatten())\n",
        "cnn_f.add(keras.layers.Dense(units=128, activation='relu'))\n",
        "cnn_f.add(keras.layers.Dropout(0.5))\n",
        "cnn_f.add(keras.layers.Dense(units=64, activation='relu'))\n",
        "cnn_f.add(keras.layers.Dropout(0.5))\n",
        "cnn_f.add(keras.layers.Dense(units=10, activation='softmax'))\n",
        "\n",
        "cnn_f.compile(loss='categorical_crossentropy', optimizer=\"adam\", metrics=['accuracy'])\n",
        "cnn_f.fit(X_train_cnn_f, y_train_cnn_f, epochs=2, validation_data=(X_valid_cnn_f, y_valid_cnn_f))\n",
        "test_results = cnn_f.evaluate(X_test_cnn_f, y_test_cnn_f, verbose=1)\n",
        "\n",
        "print(f'Loss (Test Set): {test_results[0]}')\n",
        "print(f'Accuracy (Test Set): {test_results[1] * 100}%')\n",
        "print(f'Filter = 256 for Conv2D Layer')"
      ],
      "execution_count": null,
      "outputs": [
        {
          "name": "stdout",
          "output_type": "stream",
          "text": [
            "Epoch 1/2\n",
            "1719/1719 [==============================] - 29s 16ms/step - loss: 0.7291 - accuracy: 0.7403 - val_loss: 0.3506 - val_accuracy: 0.8794\n",
            "Epoch 2/2\n",
            "1719/1719 [==============================] - 28s 16ms/step - loss: 0.4589 - accuracy: 0.8411 - val_loss: 0.2908 - val_accuracy: 0.8898\n",
            "313/313 [==============================] - 2s 8ms/step - loss: 0.3325 - accuracy: 0.8776\n",
            "Loss (Test Set): 0.3324940800666809\n",
            "Accuracy (Test Set): 87.76000142097473%\n"
          ]
        }
      ]
    },
    {
      "cell_type": "markdown",
      "metadata": {
        "id": "kD3OiKuzpqjo"
      },
      "source": [
        "While this does increase accuracy, we can see that the computation times is almost 100% more - it goes from 15 to 30 sec.. In our opinion, this is not worth it."
      ]
    },
    {
      "cell_type": "code",
      "metadata": {
        "colab": {
          "base_uri": "https://localhost:8080/"
        },
        "id": "0mDiUXLap2MH",
        "outputId": "ef74512f-1c91-4ef1-8e9b-6c61d932486f"
      },
      "source": [
        "cnn_f = keras.models.Sequential()\n",
        "cnn_f.add(keras.layers.Conv2D(activation='relu', padding=\"SAME\",filters=64, kernel_size=7, input_shape=input_shape))\n",
        "cnn_f.add(keras.layers.MaxPooling2D(pool_size=2))\n",
        "cnn_f.add(keras.layers.Conv2D(kernel_size=4, activation='relu', padding=\"SAME\",filters=64))\n",
        "cnn_f.add(keras.layers.Conv2D(kernel_size=4, activation='relu', padding=\"SAME\",filters=64))\n",
        "cnn_f.add(keras.layers.MaxPooling2D(pool_size=2))\n",
        "cnn_f.add(keras.layers.Flatten())\n",
        "cnn_f.add(keras.layers.Dense(units=128, activation='relu'))\n",
        "cnn_f.add(keras.layers.Dropout(0.5))\n",
        "cnn_f.add(keras.layers.Dense(units=64, activation='relu'))\n",
        "cnn_f.add(keras.layers.Dropout(0.5))\n",
        "cnn_f.add(keras.layers.Dense(units=10, activation='softmax'))\n",
        "\n",
        "cnn_f.compile(loss='categorical_crossentropy', optimizer=\"adam\", metrics=['accuracy'])\n",
        "cnn_f.fit(X_train_cnn_f, y_train_cnn_f, epochs=2, validation_data=(X_valid_cnn_f, y_valid_cnn_f))\n",
        "test_results = cnn_f.evaluate(X_test_cnn_f, y_test_cnn_f, verbose=1)\n",
        "\n",
        "print(f'Loss (Test Set): {test_results[0]}')\n",
        "print(f'Accuracy (Test Set): {test_results[1] * 100}%')\n",
        "print(f'Kernel size - 4')"
      ],
      "execution_count": null,
      "outputs": [
        {
          "name": "stdout",
          "output_type": "stream",
          "text": [
            "Epoch 1/2\n",
            "1719/1719 [==============================] - 20s 11ms/step - loss: 0.7227 - accuracy: 0.7427 - val_loss: 0.3518 - val_accuracy: 0.8728\n",
            "Epoch 2/2\n",
            "1719/1719 [==============================] - 20s 11ms/step - loss: 0.4323 - accuracy: 0.8503 - val_loss: 0.3134 - val_accuracy: 0.8914\n",
            "313/313 [==============================] - 2s 5ms/step - loss: 0.3474 - accuracy: 0.8779\n",
            "Loss (Test Set): 0.347377210855484\n",
            "Accuracy (Test Set): 87.79000043869019%\n"
          ]
        }
      ]
    },
    {
      "cell_type": "markdown",
      "metadata": {
        "id": "mm1ZI9DRqV1u"
      },
      "source": [
        "Again, about 0.5% increase but around 4 seconds of added computation time (which is about 25% increase - so not really worth it)"
      ]
    },
    {
      "cell_type": "code",
      "metadata": {
        "colab": {
          "base_uri": "https://localhost:8080/",
          "height": 431
        },
        "id": "2JTyiNlDqjDg",
        "outputId": "18d6829e-34ec-4259-f306-c0b5629f0987"
      },
      "source": [
        "final_cnn_f = keras.models.Sequential()\n",
        "final_cnn_f.add(keras.layers.Conv2D(activation='relu', padding=\"SAME\",filters=64, kernel_size=7, input_shape=input_shape))\n",
        "final_cnn_f.add(keras.layers.MaxPooling2D(pool_size=2))\n",
        "final_cnn_f.add(keras.layers.Conv2D(kernel_size=3, activation='relu', padding=\"SAME\",filters=64))\n",
        "final_cnn_f.add(keras.layers.Conv2D(kernel_size=3, activation='relu', padding=\"SAME\",filters=64))\n",
        "final_cnn_f.add(keras.layers.MaxPooling2D(pool_size=2))\n",
        "final_cnn_f.add(keras.layers.Flatten())\n",
        "final_cnn_f.add(keras.layers.Dense(units=128, activation='relu'))\n",
        "final_cnn_f.add(keras.layers.Dense(units=64, activation='relu'))\n",
        "final_cnn_f.add(keras.layers.Dropout(0.75))\n",
        "final_cnn_f.add(keras.layers.Dense(units=10, activation='softmax'))\n",
        "\n",
        "final_cnn_f.compile(loss='categorical_crossentropy', optimizer=\"adam\", metrics=['accuracy'])\n",
        "final_cnn_f.fit(X_train_cnn_f, y_train_cnn_f, epochs=5, validation_data=(X_valid_cnn_f, y_valid_cnn_f))\n",
        "test_results = final_cnn_f.evaluate(X_test_cnn_f, y_test_cnn_f, verbose=1)\n",
        "\n",
        "print(f'Loss (Test Set): {test_results[0]}')\n",
        "print(f'Accuracy (Test Set): {test_results[1] * 100}%')"
      ],
      "execution_count": null,
      "outputs": [
        {
          "output_type": "stream",
          "name": "stdout",
          "text": [
            "Epoch 1/5\n",
            " 849/1719 [=============>................] - ETA: 1:32 - loss: 0.9272 - accuracy: 0.6675"
          ]
        },
        {
          "output_type": "error",
          "ename": "KeyboardInterrupt",
          "evalue": "ignored",
          "traceback": [
            "\u001b[0;31m---------------------------------------------------------------------------\u001b[0m",
            "\u001b[0;31mKeyboardInterrupt\u001b[0m                         Traceback (most recent call last)",
            "\u001b[0;32m<ipython-input-18-08a5c48ac8cf>\u001b[0m in \u001b[0;36m<module>\u001b[0;34m()\u001b[0m\n\u001b[1;32m     12\u001b[0m \u001b[0;34m\u001b[0m\u001b[0m\n\u001b[1;32m     13\u001b[0m \u001b[0mfinal_cnn_f\u001b[0m\u001b[0;34m.\u001b[0m\u001b[0mcompile\u001b[0m\u001b[0;34m(\u001b[0m\u001b[0mloss\u001b[0m\u001b[0;34m=\u001b[0m\u001b[0;34m'categorical_crossentropy'\u001b[0m\u001b[0;34m,\u001b[0m \u001b[0moptimizer\u001b[0m\u001b[0;34m=\u001b[0m\u001b[0;34m\"adam\"\u001b[0m\u001b[0;34m,\u001b[0m \u001b[0mmetrics\u001b[0m\u001b[0;34m=\u001b[0m\u001b[0;34m[\u001b[0m\u001b[0;34m'accuracy'\u001b[0m\u001b[0;34m]\u001b[0m\u001b[0;34m)\u001b[0m\u001b[0;34m\u001b[0m\u001b[0;34m\u001b[0m\u001b[0m\n\u001b[0;32m---> 14\u001b[0;31m \u001b[0mfinal_cnn_f\u001b[0m\u001b[0;34m.\u001b[0m\u001b[0mfit\u001b[0m\u001b[0;34m(\u001b[0m\u001b[0mX_train_cnn_f\u001b[0m\u001b[0;34m,\u001b[0m \u001b[0my_train_cnn_f\u001b[0m\u001b[0;34m,\u001b[0m \u001b[0mepochs\u001b[0m\u001b[0;34m=\u001b[0m\u001b[0;36m5\u001b[0m\u001b[0;34m,\u001b[0m \u001b[0mvalidation_data\u001b[0m\u001b[0;34m=\u001b[0m\u001b[0;34m(\u001b[0m\u001b[0mX_valid_cnn_f\u001b[0m\u001b[0;34m,\u001b[0m \u001b[0my_valid_cnn_f\u001b[0m\u001b[0;34m)\u001b[0m\u001b[0;34m)\u001b[0m\u001b[0;34m\u001b[0m\u001b[0;34m\u001b[0m\u001b[0m\n\u001b[0m\u001b[1;32m     15\u001b[0m \u001b[0mtest_results\u001b[0m \u001b[0;34m=\u001b[0m \u001b[0mfinal_cnn_f\u001b[0m\u001b[0;34m.\u001b[0m\u001b[0mevaluate\u001b[0m\u001b[0;34m(\u001b[0m\u001b[0mX_test_cnn_f\u001b[0m\u001b[0;34m,\u001b[0m \u001b[0my_test_cnn_f\u001b[0m\u001b[0;34m,\u001b[0m \u001b[0mverbose\u001b[0m\u001b[0;34m=\u001b[0m\u001b[0;36m1\u001b[0m\u001b[0;34m)\u001b[0m\u001b[0;34m\u001b[0m\u001b[0;34m\u001b[0m\u001b[0m\n\u001b[1;32m     16\u001b[0m \u001b[0;34m\u001b[0m\u001b[0m\n",
            "\u001b[0;32m/usr/local/lib/python3.7/dist-packages/keras/utils/traceback_utils.py\u001b[0m in \u001b[0;36merror_handler\u001b[0;34m(*args, **kwargs)\u001b[0m\n\u001b[1;32m     62\u001b[0m     \u001b[0mfiltered_tb\u001b[0m \u001b[0;34m=\u001b[0m \u001b[0;32mNone\u001b[0m\u001b[0;34m\u001b[0m\u001b[0;34m\u001b[0m\u001b[0m\n\u001b[1;32m     63\u001b[0m     \u001b[0;32mtry\u001b[0m\u001b[0;34m:\u001b[0m\u001b[0;34m\u001b[0m\u001b[0;34m\u001b[0m\u001b[0m\n\u001b[0;32m---> 64\u001b[0;31m       \u001b[0;32mreturn\u001b[0m \u001b[0mfn\u001b[0m\u001b[0;34m(\u001b[0m\u001b[0;34m*\u001b[0m\u001b[0margs\u001b[0m\u001b[0;34m,\u001b[0m \u001b[0;34m**\u001b[0m\u001b[0mkwargs\u001b[0m\u001b[0;34m)\u001b[0m\u001b[0;34m\u001b[0m\u001b[0;34m\u001b[0m\u001b[0m\n\u001b[0m\u001b[1;32m     65\u001b[0m     \u001b[0;32mexcept\u001b[0m \u001b[0mException\u001b[0m \u001b[0;32mas\u001b[0m \u001b[0me\u001b[0m\u001b[0;34m:\u001b[0m  \u001b[0;31m# pylint: disable=broad-except\u001b[0m\u001b[0;34m\u001b[0m\u001b[0;34m\u001b[0m\u001b[0m\n\u001b[1;32m     66\u001b[0m       \u001b[0mfiltered_tb\u001b[0m \u001b[0;34m=\u001b[0m \u001b[0m_process_traceback_frames\u001b[0m\u001b[0;34m(\u001b[0m\u001b[0me\u001b[0m\u001b[0;34m.\u001b[0m\u001b[0m__traceback__\u001b[0m\u001b[0;34m)\u001b[0m\u001b[0;34m\u001b[0m\u001b[0;34m\u001b[0m\u001b[0m\n",
            "\u001b[0;32m/usr/local/lib/python3.7/dist-packages/keras/engine/training.py\u001b[0m in \u001b[0;36mfit\u001b[0;34m(self, x, y, batch_size, epochs, verbose, callbacks, validation_split, validation_data, shuffle, class_weight, sample_weight, initial_epoch, steps_per_epoch, validation_steps, validation_batch_size, validation_freq, max_queue_size, workers, use_multiprocessing)\u001b[0m\n\u001b[1;32m   1214\u001b[0m                 _r=1):\n\u001b[1;32m   1215\u001b[0m               \u001b[0mcallbacks\u001b[0m\u001b[0;34m.\u001b[0m\u001b[0mon_train_batch_begin\u001b[0m\u001b[0;34m(\u001b[0m\u001b[0mstep\u001b[0m\u001b[0;34m)\u001b[0m\u001b[0;34m\u001b[0m\u001b[0;34m\u001b[0m\u001b[0m\n\u001b[0;32m-> 1216\u001b[0;31m               \u001b[0mtmp_logs\u001b[0m \u001b[0;34m=\u001b[0m \u001b[0mself\u001b[0m\u001b[0;34m.\u001b[0m\u001b[0mtrain_function\u001b[0m\u001b[0;34m(\u001b[0m\u001b[0miterator\u001b[0m\u001b[0;34m)\u001b[0m\u001b[0;34m\u001b[0m\u001b[0;34m\u001b[0m\u001b[0m\n\u001b[0m\u001b[1;32m   1217\u001b[0m               \u001b[0;32mif\u001b[0m \u001b[0mdata_handler\u001b[0m\u001b[0;34m.\u001b[0m\u001b[0mshould_sync\u001b[0m\u001b[0;34m:\u001b[0m\u001b[0;34m\u001b[0m\u001b[0;34m\u001b[0m\u001b[0m\n\u001b[1;32m   1218\u001b[0m                 \u001b[0mcontext\u001b[0m\u001b[0;34m.\u001b[0m\u001b[0masync_wait\u001b[0m\u001b[0;34m(\u001b[0m\u001b[0;34m)\u001b[0m\u001b[0;34m\u001b[0m\u001b[0;34m\u001b[0m\u001b[0m\n",
            "\u001b[0;32m/usr/local/lib/python3.7/dist-packages/tensorflow/python/util/traceback_utils.py\u001b[0m in \u001b[0;36merror_handler\u001b[0;34m(*args, **kwargs)\u001b[0m\n\u001b[1;32m    148\u001b[0m     \u001b[0mfiltered_tb\u001b[0m \u001b[0;34m=\u001b[0m \u001b[0;32mNone\u001b[0m\u001b[0;34m\u001b[0m\u001b[0;34m\u001b[0m\u001b[0m\n\u001b[1;32m    149\u001b[0m     \u001b[0;32mtry\u001b[0m\u001b[0;34m:\u001b[0m\u001b[0;34m\u001b[0m\u001b[0;34m\u001b[0m\u001b[0m\n\u001b[0;32m--> 150\u001b[0;31m       \u001b[0;32mreturn\u001b[0m \u001b[0mfn\u001b[0m\u001b[0;34m(\u001b[0m\u001b[0;34m*\u001b[0m\u001b[0margs\u001b[0m\u001b[0;34m,\u001b[0m \u001b[0;34m**\u001b[0m\u001b[0mkwargs\u001b[0m\u001b[0;34m)\u001b[0m\u001b[0;34m\u001b[0m\u001b[0;34m\u001b[0m\u001b[0m\n\u001b[0m\u001b[1;32m    151\u001b[0m     \u001b[0;32mexcept\u001b[0m \u001b[0mException\u001b[0m \u001b[0;32mas\u001b[0m \u001b[0me\u001b[0m\u001b[0;34m:\u001b[0m\u001b[0;34m\u001b[0m\u001b[0;34m\u001b[0m\u001b[0m\n\u001b[1;32m    152\u001b[0m       \u001b[0mfiltered_tb\u001b[0m \u001b[0;34m=\u001b[0m \u001b[0m_process_traceback_frames\u001b[0m\u001b[0;34m(\u001b[0m\u001b[0me\u001b[0m\u001b[0;34m.\u001b[0m\u001b[0m__traceback__\u001b[0m\u001b[0;34m)\u001b[0m\u001b[0;34m\u001b[0m\u001b[0;34m\u001b[0m\u001b[0m\n",
            "\u001b[0;32m/usr/local/lib/python3.7/dist-packages/tensorflow/python/eager/def_function.py\u001b[0m in \u001b[0;36m__call__\u001b[0;34m(self, *args, **kwds)\u001b[0m\n\u001b[1;32m    908\u001b[0m \u001b[0;34m\u001b[0m\u001b[0m\n\u001b[1;32m    909\u001b[0m       \u001b[0;32mwith\u001b[0m \u001b[0mOptionalXlaContext\u001b[0m\u001b[0;34m(\u001b[0m\u001b[0mself\u001b[0m\u001b[0;34m.\u001b[0m\u001b[0m_jit_compile\u001b[0m\u001b[0;34m)\u001b[0m\u001b[0;34m:\u001b[0m\u001b[0;34m\u001b[0m\u001b[0;34m\u001b[0m\u001b[0m\n\u001b[0;32m--> 910\u001b[0;31m         \u001b[0mresult\u001b[0m \u001b[0;34m=\u001b[0m \u001b[0mself\u001b[0m\u001b[0;34m.\u001b[0m\u001b[0m_call\u001b[0m\u001b[0;34m(\u001b[0m\u001b[0;34m*\u001b[0m\u001b[0margs\u001b[0m\u001b[0;34m,\u001b[0m \u001b[0;34m**\u001b[0m\u001b[0mkwds\u001b[0m\u001b[0;34m)\u001b[0m\u001b[0;34m\u001b[0m\u001b[0;34m\u001b[0m\u001b[0m\n\u001b[0m\u001b[1;32m    911\u001b[0m \u001b[0;34m\u001b[0m\u001b[0m\n\u001b[1;32m    912\u001b[0m       \u001b[0mnew_tracing_count\u001b[0m \u001b[0;34m=\u001b[0m \u001b[0mself\u001b[0m\u001b[0;34m.\u001b[0m\u001b[0mexperimental_get_tracing_count\u001b[0m\u001b[0;34m(\u001b[0m\u001b[0;34m)\u001b[0m\u001b[0;34m\u001b[0m\u001b[0;34m\u001b[0m\u001b[0m\n",
            "\u001b[0;32m/usr/local/lib/python3.7/dist-packages/tensorflow/python/eager/def_function.py\u001b[0m in \u001b[0;36m_call\u001b[0;34m(self, *args, **kwds)\u001b[0m\n\u001b[1;32m    940\u001b[0m       \u001b[0;31m# In this case we have created variables on the first call, so we run the\u001b[0m\u001b[0;34m\u001b[0m\u001b[0;34m\u001b[0m\u001b[0;34m\u001b[0m\u001b[0m\n\u001b[1;32m    941\u001b[0m       \u001b[0;31m# defunned version which is guaranteed to never create variables.\u001b[0m\u001b[0;34m\u001b[0m\u001b[0;34m\u001b[0m\u001b[0;34m\u001b[0m\u001b[0m\n\u001b[0;32m--> 942\u001b[0;31m       \u001b[0;32mreturn\u001b[0m \u001b[0mself\u001b[0m\u001b[0;34m.\u001b[0m\u001b[0m_stateless_fn\u001b[0m\u001b[0;34m(\u001b[0m\u001b[0;34m*\u001b[0m\u001b[0margs\u001b[0m\u001b[0;34m,\u001b[0m \u001b[0;34m**\u001b[0m\u001b[0mkwds\u001b[0m\u001b[0;34m)\u001b[0m  \u001b[0;31m# pylint: disable=not-callable\u001b[0m\u001b[0;34m\u001b[0m\u001b[0;34m\u001b[0m\u001b[0m\n\u001b[0m\u001b[1;32m    943\u001b[0m     \u001b[0;32melif\u001b[0m \u001b[0mself\u001b[0m\u001b[0;34m.\u001b[0m\u001b[0m_stateful_fn\u001b[0m \u001b[0;32mis\u001b[0m \u001b[0;32mnot\u001b[0m \u001b[0;32mNone\u001b[0m\u001b[0;34m:\u001b[0m\u001b[0;34m\u001b[0m\u001b[0;34m\u001b[0m\u001b[0m\n\u001b[1;32m    944\u001b[0m       \u001b[0;31m# Release the lock early so that multiple threads can perform the call\u001b[0m\u001b[0;34m\u001b[0m\u001b[0;34m\u001b[0m\u001b[0;34m\u001b[0m\u001b[0m\n",
            "\u001b[0;32m/usr/local/lib/python3.7/dist-packages/tensorflow/python/eager/function.py\u001b[0m in \u001b[0;36m__call__\u001b[0;34m(self, *args, **kwargs)\u001b[0m\n\u001b[1;32m   3129\u001b[0m        filtered_flat_args) = self._maybe_define_function(args, kwargs)\n\u001b[1;32m   3130\u001b[0m     return graph_function._call_flat(\n\u001b[0;32m-> 3131\u001b[0;31m         filtered_flat_args, captured_inputs=graph_function.captured_inputs)  # pylint: disable=protected-access\n\u001b[0m\u001b[1;32m   3132\u001b[0m \u001b[0;34m\u001b[0m\u001b[0m\n\u001b[1;32m   3133\u001b[0m   \u001b[0;34m@\u001b[0m\u001b[0mproperty\u001b[0m\u001b[0;34m\u001b[0m\u001b[0;34m\u001b[0m\u001b[0m\n",
            "\u001b[0;32m/usr/local/lib/python3.7/dist-packages/tensorflow/python/eager/function.py\u001b[0m in \u001b[0;36m_call_flat\u001b[0;34m(self, args, captured_inputs, cancellation_manager)\u001b[0m\n\u001b[1;32m   1958\u001b[0m       \u001b[0;31m# No tape is watching; skip to running the function.\u001b[0m\u001b[0;34m\u001b[0m\u001b[0;34m\u001b[0m\u001b[0;34m\u001b[0m\u001b[0m\n\u001b[1;32m   1959\u001b[0m       return self._build_call_outputs(self._inference_function.call(\n\u001b[0;32m-> 1960\u001b[0;31m           ctx, args, cancellation_manager=cancellation_manager))\n\u001b[0m\u001b[1;32m   1961\u001b[0m     forward_backward = self._select_forward_and_backward_functions(\n\u001b[1;32m   1962\u001b[0m         \u001b[0margs\u001b[0m\u001b[0;34m,\u001b[0m\u001b[0;34m\u001b[0m\u001b[0;34m\u001b[0m\u001b[0m\n",
            "\u001b[0;32m/usr/local/lib/python3.7/dist-packages/tensorflow/python/eager/function.py\u001b[0m in \u001b[0;36mcall\u001b[0;34m(self, ctx, args, cancellation_manager)\u001b[0m\n\u001b[1;32m    601\u001b[0m               \u001b[0minputs\u001b[0m\u001b[0;34m=\u001b[0m\u001b[0margs\u001b[0m\u001b[0;34m,\u001b[0m\u001b[0;34m\u001b[0m\u001b[0;34m\u001b[0m\u001b[0m\n\u001b[1;32m    602\u001b[0m               \u001b[0mattrs\u001b[0m\u001b[0;34m=\u001b[0m\u001b[0mattrs\u001b[0m\u001b[0;34m,\u001b[0m\u001b[0;34m\u001b[0m\u001b[0;34m\u001b[0m\u001b[0m\n\u001b[0;32m--> 603\u001b[0;31m               ctx=ctx)\n\u001b[0m\u001b[1;32m    604\u001b[0m         \u001b[0;32melse\u001b[0m\u001b[0;34m:\u001b[0m\u001b[0;34m\u001b[0m\u001b[0;34m\u001b[0m\u001b[0m\n\u001b[1;32m    605\u001b[0m           outputs = execute.execute_with_cancellation(\n",
            "\u001b[0;32m/usr/local/lib/python3.7/dist-packages/tensorflow/python/eager/execute.py\u001b[0m in \u001b[0;36mquick_execute\u001b[0;34m(op_name, num_outputs, inputs, attrs, ctx, name)\u001b[0m\n\u001b[1;32m     57\u001b[0m     \u001b[0mctx\u001b[0m\u001b[0;34m.\u001b[0m\u001b[0mensure_initialized\u001b[0m\u001b[0;34m(\u001b[0m\u001b[0;34m)\u001b[0m\u001b[0;34m\u001b[0m\u001b[0;34m\u001b[0m\u001b[0m\n\u001b[1;32m     58\u001b[0m     tensors = pywrap_tfe.TFE_Py_Execute(ctx._handle, device_name, op_name,\n\u001b[0;32m---> 59\u001b[0;31m                                         inputs, attrs, num_outputs)\n\u001b[0m\u001b[1;32m     60\u001b[0m   \u001b[0;32mexcept\u001b[0m \u001b[0mcore\u001b[0m\u001b[0;34m.\u001b[0m\u001b[0m_NotOkStatusException\u001b[0m \u001b[0;32mas\u001b[0m \u001b[0me\u001b[0m\u001b[0;34m:\u001b[0m\u001b[0;34m\u001b[0m\u001b[0;34m\u001b[0m\u001b[0m\n\u001b[1;32m     61\u001b[0m     \u001b[0;32mif\u001b[0m \u001b[0mname\u001b[0m \u001b[0;32mis\u001b[0m \u001b[0;32mnot\u001b[0m \u001b[0;32mNone\u001b[0m\u001b[0;34m:\u001b[0m\u001b[0;34m\u001b[0m\u001b[0;34m\u001b[0m\u001b[0m\n",
            "\u001b[0;31mKeyboardInterrupt\u001b[0m: "
          ]
        }
      ]
    },
    {
      "cell_type": "markdown",
      "metadata": {
        "id": "16NqfRXnq2ja"
      },
      "source": [
        "Okay, now this actually took less time and got better accuracy. The dropout is certainly something that should be experimented with more!"
      ]
    },
    {
      "cell_type": "markdown",
      "metadata": {
        "id": "bJDX6Os-s8JA"
      },
      "source": [
        "## Task 2 - MLP"
      ]
    },
    {
      "cell_type": "code",
      "metadata": {
        "id": "Cp1bmguqBv6N"
      },
      "source": [
        "import random\n",
        "\n",
        "permutation = random.sample(range(784), 784)\n",
        "\n",
        "permuted_X_test_mlp = X_test_mlp[:, permutation]\n",
        "permuted_X_train_mlp = X_train_mlp[:, permutation]\n",
        "\n",
        "permuted_X_test_mlp_f = X_test_mlp_f[:, permutation]\n",
        "permuted_X_train_mlp_f = X_train_mlp_f[:, permutation]"
      ],
      "execution_count": null,
      "outputs": []
    },
    {
      "cell_type": "code",
      "metadata": {
        "colab": {
          "base_uri": "https://localhost:8080/"
        },
        "id": "8OZvsQP0wsSP",
        "outputId": "4e7a0611-2726-4726-b384-08ee4d90a162"
      },
      "source": [
        "# Permuted MNIST MLP\n",
        "final_mlp.fit(permuted_X_train_mlp, y_train_mlp, epochs=5)\n",
        "permuted_test_results_mlp = final_mlp.evaluate(permuted_X_test_mlp, y_test_mlp, verbose=1)\n",
        "\n",
        "print(f'Loss (Test Set): {permuted_test_results_mlp[0]}')\n",
        "print(f'Accuracy (Test Set): {permuted_test_results_mlp[1] * 100}%')"
      ],
      "execution_count": null,
      "outputs": [
        {
          "name": "stdout",
          "output_type": "stream",
          "text": [
            "Epoch 1/5\n",
            "1719/1719 [==============================] - 9s 5ms/step - loss: 0.2805 - accuracy: 0.9109\n",
            "Epoch 2/5\n",
            "1719/1719 [==============================] - 9s 5ms/step - loss: 0.1596 - accuracy: 0.9512\n",
            "Epoch 3/5\n",
            "1719/1719 [==============================] - 8s 5ms/step - loss: 0.1246 - accuracy: 0.9620\n",
            "Epoch 4/5\n",
            "1719/1719 [==============================] - 9s 5ms/step - loss: 0.1072 - accuracy: 0.9668\n",
            "Epoch 5/5\n",
            "1719/1719 [==============================] - 9s 5ms/step - loss: 0.0939 - accuracy: 0.9703\n",
            "313/313 [==============================] - 1s 3ms/step - loss: 0.0934 - accuracy: 0.9708\n",
            "Loss (Test Set): 0.0934186652302742\n",
            "Accuracy (Test Set): 97.079998254776%\n"
          ]
        }
      ]
    },
    {
      "cell_type": "code",
      "metadata": {
        "colab": {
          "base_uri": "https://localhost:8080/"
        },
        "id": "2ghNFZsT34Kq",
        "outputId": "82f514d8-f67e-4134-b8ea-c3f5736849ed"
      },
      "source": [
        "# Permuted Fashion MNIST MLP\n",
        "final_mlp_f.fit(permuted_X_train_mlp_f, y_train_mlp_f, epochs=5)\n",
        "permuted_test_results_mlp_f = final_mlp_f.evaluate(permuted_X_test_mlp_f, y_test_mlp_f, verbose=1)\n",
        "\n",
        "print(f'Loss (Test Set): {permuted_test_results_mlp_f[0]}')\n",
        "print(f'Accuracy (Test Set): {permuted_test_results_mlp_f[1] * 100}%')"
      ],
      "execution_count": null,
      "outputs": [
        {
          "name": "stdout",
          "output_type": "stream",
          "text": [
            "Epoch 1/5\n",
            "1719/1719 [==============================] - 8s 5ms/step - loss: 0.4961 - accuracy: 0.8202\n",
            "Epoch 2/5\n",
            "1719/1719 [==============================] - 8s 5ms/step - loss: 0.3782 - accuracy: 0.8619\n",
            "Epoch 3/5\n",
            "1719/1719 [==============================] - 8s 5ms/step - loss: 0.3461 - accuracy: 0.8712\n",
            "Epoch 4/5\n",
            "1719/1719 [==============================] - 8s 5ms/step - loss: 0.3271 - accuracy: 0.8791\n",
            "Epoch 5/5\n",
            "1719/1719 [==============================] - 8s 5ms/step - loss: 0.3111 - accuracy: 0.8847\n",
            "313/313 [==============================] - 1s 3ms/step - loss: 0.3716 - accuracy: 0.8663\n",
            "Loss (Test Set): 0.3715995252132416\n",
            "Accuracy (Test Set): 86.62999868392944%\n"
          ]
        }
      ]
    },
    {
      "cell_type": "markdown",
      "metadata": {
        "id": "nvxDImbw5MNH"
      },
      "source": [
        "## Task 2 - CNN"
      ]
    },
    {
      "cell_type": "code",
      "metadata": {
        "id": "cqUk0C2w5OjS"
      },
      "source": [
        "permutation_cnn = random.sample(range(784), 784)"
      ],
      "execution_count": null,
      "outputs": []
    },
    {
      "cell_type": "code",
      "metadata": {
        "id": "_RjKsvV074UK"
      },
      "source": [
        "\n",
        "permuted_cnn_train = X_train_cnn.reshape(55000, 784)[:, permutation_cnn]\n",
        "permuted_cnn_test = X_test_cnn.reshape(10000, 784)[:, permutation_cnn]\n",
        "\n",
        "permuted_cnn_train_f = X_train_cnn_f.reshape(55000, 784)[:, permutation_cnn]\n",
        "permuted_cnn_test_f = X_test_cnn_f.reshape(10000, 784)[:, permutation_cnn]\n",
        "\n",
        "permuted_cnn_train = permuted_cnn_train.reshape(55000, 28, 28, 1)\n",
        "permuted_cnn_test =  permuted_cnn_test.reshape(10000, 28, 28, 1)\n",
        "\n",
        "permuted_cnn_train_f = permuted_cnn_train_f.reshape(55000, 28, 28, 1)\n",
        "permuted_cnn_test_f =  permuted_cnn_test_f.reshape(10000, 28, 28, 1)"
      ],
      "execution_count": null,
      "outputs": []
    },
    {
      "cell_type": "code",
      "metadata": {
        "colab": {
          "base_uri": "https://localhost:8080/"
        },
        "id": "ZWgGIXmJ75mx",
        "outputId": "ea265acf-135f-414c-c3a6-a6295f13f04e"
      },
      "source": [
        "final_cnn.fit(permuted_cnn_train, y_train_cnn, epochs=5)\n",
        "permuted_test_results_cnn = final_cnn.evaluate(permuted_cnn_test, y_test_cnn, verbose=1)\n",
        "\n",
        "print(f'Loss (Test Set): {permuted_test_results_cnn[0]}')\n",
        "print(f'Accuracy (Test Set): {permuted_test_results_cnn[1] * 100}%')"
      ],
      "execution_count": null,
      "outputs": [
        {
          "name": "stdout",
          "output_type": "stream",
          "text": [
            "Epoch 1/5\n",
            "1719/1719 [==============================] - 14s 8ms/step - loss: 0.6722 - accuracy: 0.7875\n",
            "Epoch 2/5\n",
            "1719/1719 [==============================] - 14s 8ms/step - loss: 0.3283 - accuracy: 0.9057\n",
            "Epoch 3/5\n",
            "1719/1719 [==============================] - 14s 8ms/step - loss: 0.2597 - accuracy: 0.9239\n",
            "Epoch 4/5\n",
            "1719/1719 [==============================] - 14s 8ms/step - loss: 0.2121 - accuracy: 0.9351\n",
            "Epoch 5/5\n",
            "1719/1719 [==============================] - 14s 8ms/step - loss: 0.1868 - accuracy: 0.9430\n",
            "313/313 [==============================] - 1s 4ms/step - loss: 0.1788 - accuracy: 0.9559\n",
            "Loss (Test Set): 0.17884358763694763\n",
            "Accuracy (Test Set): 95.59000134468079%\n"
          ]
        }
      ]
    },
    {
      "cell_type": "code",
      "metadata": {
        "colab": {
          "base_uri": "https://localhost:8080/"
        },
        "id": "fpelr3KuvHkY",
        "outputId": "2cc0631c-33c4-4825-d546-99a10944de6c"
      },
      "source": [
        "final_cnn_f.fit(permuted_cnn_train_f, y_train_cnn_f, epochs=5)\n",
        "permuted_test_results_cnn_f = final_cnn_f.evaluate(permuted_cnn_test_f, y_test_cnn_f, verbose=1)\n",
        "\n",
        "print(f'Loss (Test Set): {permuted_test_results_cnn_f[0]}')\n",
        "print(f'Accuracy (Test Set): {permuted_test_results_cnn_f[1] * 100}%')"
      ],
      "execution_count": null,
      "outputs": [
        {
          "name": "stdout",
          "output_type": "stream",
          "text": [
            "Epoch 1/5\n",
            "1719/1719 [==============================] - 14s 8ms/step - loss: 0.7121 - accuracy: 0.7428\n",
            "Epoch 2/5\n",
            "1719/1719 [==============================] - 14s 8ms/step - loss: 0.5198 - accuracy: 0.8222\n",
            "Epoch 3/5\n",
            "1719/1719 [==============================] - 14s 8ms/step - loss: 0.4617 - accuracy: 0.8402\n",
            "Epoch 4/5\n",
            "1719/1719 [==============================] - 14s 8ms/step - loss: 0.4288 - accuracy: 0.8509\n",
            "Epoch 5/5\n",
            "1719/1719 [==============================] - 14s 8ms/step - loss: 0.4047 - accuracy: 0.8611\n",
            "313/313 [==============================] - 2s 5ms/step - loss: 0.3816 - accuracy: 0.8660\n",
            "Loss (Test Set): 0.38161513209342957\n",
            "Accuracy (Test Set): 86.59999966621399%\n"
          ]
        }
      ]
    },
    {
      "cell_type": "markdown",
      "metadata": {
        "id": "UOG-cMS1ZogT"
      },
      "source": [
        "## Task 3\n"
      ]
    },
    {
      "cell_type": "code",
      "metadata": {
        "id": "PJFRlyBk_E9f"
      },
      "source": [
        "def difference_func(h_pred,m_pred,y_h,y_m):\n",
        "  tmp = h_pred * 60 + np.transpose(m_pred )# in minute\n",
        "  tmp2 = y_h * 60 + y_m\n",
        "  diff_one = np.maximum(tmp,tmp2) - np.minimum(tmp,tmp2)\n",
        "  diff_two = np.minimum(tmp,tmp2) + 720 - np.maximum(tmp,tmp2)\n",
        "  return np.minimum(diff_one,diff_two)"
      ],
      "execution_count": null,
      "outputs": []
    },
    {
      "cell_type": "code",
      "metadata": {
        "colab": {
          "base_uri": "https://localhost:8080/"
        },
        "id": "Kd7ct2tkZ-UN",
        "outputId": "113bd2b6-e439-4e60-cbe4-e344604bf885"
      },
      "source": [
        "from google.colab import drive\n",
        "drive.mount(\"/content/drive/\")"
      ],
      "execution_count": 1,
      "outputs": [
        {
          "output_type": "stream",
          "name": "stdout",
          "text": [
            "Mounted at /content/drive/\n"
          ]
        }
      ]
    },
    {
      "cell_type": "code",
      "metadata": {
        "id": "TiWr8g4mbxkN"
      },
      "source": [
        "import tensorflow as tf\n",
        "from tensorflow import keras\n",
        "from sklearn.model_selection import train_test_split\n",
        "from tensorflow.keras import layers\n",
        "import numpy as np\n",
        "import matplotlib.pyplot as plt"
      ],
      "execution_count": null,
      "outputs": []
    },
    {
      "cell_type": "code",
      "metadata": {
        "id": "k1zxOgqo1lH8"
      },
      "source": [
        "images = np.load(\"/content/drive/MyDrive/images.npy\") # Georgi\n",
        "labels = np.load(\"/content/drive/MyDrive/labels.npy\")"
      ],
      "execution_count": null,
      "outputs": []
    },
    {
      "cell_type": "code",
      "metadata": {
        "id": "BrJ8VgsSZxQd"
      },
      "source": [
        "images = np.load(\"/content/drive/MyDrive/data/images.npy\")\n",
        "labels = np.load(\"/content/drive/MyDrive/data/labels.npy\")"
      ],
      "execution_count": 18,
      "outputs": []
    },
    {
      "cell_type": "code",
      "metadata": {
        "id": "QwElcOuJS46H"
      },
      "source": [
        "np.random.seed(1938266)\n",
        "\n",
        "indices = np.random.permutation(images.shape[0])\n",
        "train_num = int(images.shape[0] * 0.8)\n",
        "permuted_images = images[indices,:,:]\n",
        "permuted_labels = labels[indices,:]\n",
        "\n",
        "train_images = permuted_images[0:train_num,:,:]\n",
        "train_labels = permuted_labels[0:train_num,:]\n",
        "\n",
        "test_images = permuted_images[train_num:,:,:]\n",
        "test_labels = permuted_labels[train_num:,:]\n",
        "\n",
        "valid_images = train_images[0:500,:,:]\n",
        "valid_labels = train_labels[0:500,:]\n",
        "\n",
        "train_images = train_images[500:,:,:]\n",
        "train_labels = train_labels[500:,:]\n",
        "\n",
        "train_images = train_images / 255.0\n",
        "test_images = test_images / 255.0\n",
        "valid_images = valid_images / 255.0\n",
        "\n",
        "train_images= train_images.reshape(train_images.shape[0],150,150,1)\n",
        "test_images  = test_images.reshape(test_images.shape[0],150,150,1)\n",
        "valid_images = valid_images.reshape(valid_images.shape[0],150,150,1)\n",
        "\n",
        "train_labels = train_labels.astype(\"float32\")\n",
        "test_labels = test_labels.astype(\"float32\")\n",
        "valid_labels = valid_labels.astype(\"float32\")\n",
        "\n",
        "train_hours = train_labels[:,0]\n",
        "train_minutes = train_labels[:,1] / 60.0\n",
        "test_hours = test_labels[:,0]\n",
        "test_minutes = test_labels[:,1] / 60.0\n",
        "valid_hours = valid_labels[:,0] \n",
        "valid_minutes = valid_labels[:,1] / 60.0"
      ],
      "execution_count": 19,
      "outputs": []
    },
    {
      "cell_type": "markdown",
      "metadata": {
        "id": "SNMSW4SSaGdu"
      },
      "source": [
        "## Regression CNN"
      ]
    },
    {
      "cell_type": "code",
      "metadata": {
        "id": "4YV0POiOEKK0"
      },
      "source": [
        "### For regression\n",
        "y_train_ttm_reg = (train_hours + train_minutes) / 12\n",
        "y_test_ttm_reg = (test_hours + test_minutes) / 12\n",
        "y_valid_ttm_reg= (valid_hours + valid_minutes) / 12"
      ],
      "execution_count": null,
      "outputs": []
    },
    {
      "cell_type": "code",
      "metadata": {
        "colab": {
          "base_uri": "https://localhost:8080/",
          "height": 1000
        },
        "id": "vXSBSHkZThb4",
        "outputId": "c2aeb4a9-210e-47df-8839-a344e6864444"
      },
      "source": [
        "np.random.seed(1938266)\n",
        "\n",
        "# Regression CNN\n",
        "\n",
        "input_shape=(images.shape[1], images.shape[2], 1)\n",
        "\n",
        "ttm_reg = keras.models.Sequential()\n",
        "ttm_reg.add(keras.layers.Conv2D(activation='relu', filters=32, kernel_size=(3,3), strides = (2,2),input_shape=input_shape))\n",
        "ttm_reg.add(keras.layers.MaxPooling2D(pool_size=2))\n",
        "ttm_reg.add(keras.layers.Conv2D(filters=32, kernel_size=(3,3), activation='relu'))\n",
        "ttm_reg.add(keras.layers.Conv2D(filters=32 ,kernel_size=(3,3), activation='relu'))\n",
        "ttm_reg.add(keras.layers.MaxPooling2D(pool_size=2))\n",
        "ttm_reg.add(keras.layers.Conv2D(filters=64, kernel_size=(3,3), activation='relu'))\n",
        "ttm_reg.add(keras.layers.Conv2D(filters=64, kernel_size=(3,3), activation='relu'))\n",
        "\n",
        "\n",
        "ttm_reg.add(keras.layers.Flatten())\n",
        "ttm_reg.add(keras.layers.Dense(units=256, activation='relu'))\n",
        "ttm_reg.add(keras.layers.Dense(units=256, activation='relu'))\n",
        "ttm_reg.add(keras.layers.Dense(units=256, activation='relu'))\n",
        "ttm_reg.add(keras.layers.Dense(units=256, activation='relu'))\n",
        "ttm_reg.add(keras.layers.Dropout(0.1))\n",
        "ttm_reg.add(keras.layers.Dense(units=128, activation='relu'))\n",
        "ttm_reg.add(keras.layers.Dense(units=64, activation='relu'))\n",
        "ttm_reg.add(keras.layers.Dense(units=1, activation=\"softplus\"))\n",
        "early_stop = keras.callbacks.EarlyStopping(monitor = \"val_loss\", patience = 10)\n",
        "ttm_reg.compile(loss='mse', optimizer=\"adam\", metrics=['mae'])\n",
        "ttm_reg.fit(train_images, y_train_ttm_reg, epochs=40, batch_size = 512, validation_data = (valid_images,y_valid_ttm_reg), callbacks = [early_stop])"
      ],
      "execution_count": null,
      "outputs": [
        {
          "name": "stdout",
          "output_type": "stream",
          "text": [
            "Epoch 1/40\n",
            "28/28 [==============================] - 37s 215ms/step - loss: 0.0915 - mae: 0.2580 - val_loss: 0.0828 - val_mae: 0.2477\n",
            "Epoch 2/40\n",
            "28/28 [==============================] - 5s 167ms/step - loss: 0.0842 - mae: 0.2510 - val_loss: 0.0858 - val_mae: 0.2536\n",
            "Epoch 3/40\n",
            "28/28 [==============================] - 5s 167ms/step - loss: 0.0842 - mae: 0.2511 - val_loss: 0.0825 - val_mae: 0.2481\n",
            "Epoch 4/40\n",
            "28/28 [==============================] - 5s 166ms/step - loss: 0.0836 - mae: 0.2503 - val_loss: 0.0828 - val_mae: 0.2490\n",
            "Epoch 5/40\n",
            "28/28 [==============================] - 5s 167ms/step - loss: 0.0838 - mae: 0.2507 - val_loss: 0.0824 - val_mae: 0.2479\n",
            "Epoch 6/40\n",
            "28/28 [==============================] - 5s 168ms/step - loss: 0.0840 - mae: 0.2509 - val_loss: 0.0827 - val_mae: 0.2489\n",
            "Epoch 7/40\n",
            "28/28 [==============================] - 5s 166ms/step - loss: 0.0841 - mae: 0.2508 - val_loss: 0.0824 - val_mae: 0.2480\n",
            "Epoch 8/40\n",
            "28/28 [==============================] - 5s 170ms/step - loss: 0.0835 - mae: 0.2502 - val_loss: 0.0825 - val_mae: 0.2484\n",
            "Epoch 9/40\n",
            "28/28 [==============================] - 5s 171ms/step - loss: 0.0835 - mae: 0.2501 - val_loss: 0.0824 - val_mae: 0.2483\n",
            "Epoch 10/40\n",
            "28/28 [==============================] - 5s 168ms/step - loss: 0.0811 - mae: 0.2444 - val_loss: 0.0749 - val_mae: 0.2313\n",
            "Epoch 11/40\n",
            "28/28 [==============================] - 5s 168ms/step - loss: 0.0705 - mae: 0.2186 - val_loss: 0.0671 - val_mae: 0.2073\n",
            "Epoch 12/40\n",
            "28/28 [==============================] - 5s 167ms/step - loss: 0.0627 - mae: 0.1997 - val_loss: 0.0636 - val_mae: 0.1965\n",
            "Epoch 13/40\n",
            "28/28 [==============================] - 5s 168ms/step - loss: 0.0561 - mae: 0.1852 - val_loss: 0.0581 - val_mae: 0.1822\n",
            "Epoch 14/40\n",
            "28/28 [==============================] - 5s 169ms/step - loss: 0.0490 - mae: 0.1678 - val_loss: 0.0527 - val_mae: 0.1775\n",
            "Epoch 15/40\n",
            "28/28 [==============================] - 5s 169ms/step - loss: 0.0425 - mae: 0.1529 - val_loss: 0.0422 - val_mae: 0.1489\n",
            "Epoch 16/40\n",
            "28/28 [==============================] - 5s 167ms/step - loss: 0.0344 - mae: 0.1334 - val_loss: 0.0356 - val_mae: 0.1283\n",
            "Epoch 17/40\n",
            "28/28 [==============================] - 5s 168ms/step - loss: 0.0271 - mae: 0.1140 - val_loss: 0.0345 - val_mae: 0.1240\n",
            "Epoch 18/40\n",
            "28/28 [==============================] - 5s 170ms/step - loss: 0.0209 - mae: 0.0977 - val_loss: 0.0267 - val_mae: 0.1082\n",
            "Epoch 19/40\n",
            "28/28 [==============================] - 5s 169ms/step - loss: 0.0188 - mae: 0.0901 - val_loss: 0.0208 - val_mae: 0.0942\n",
            "Epoch 20/40\n",
            "28/28 [==============================] - 5s 168ms/step - loss: 0.0150 - mae: 0.0803 - val_loss: 0.0200 - val_mae: 0.0863\n",
            "Epoch 21/40\n",
            "28/28 [==============================] - 5s 166ms/step - loss: 0.0104 - mae: 0.0663 - val_loss: 0.0137 - val_mae: 0.0683\n",
            "Epoch 22/40\n",
            "28/28 [==============================] - 5s 168ms/step - loss: 0.0078 - mae: 0.0579 - val_loss: 0.0146 - val_mae: 0.0703\n",
            "Epoch 23/40\n",
            "28/28 [==============================] - 5s 169ms/step - loss: 0.0140 - mae: 0.0742 - val_loss: 0.0171 - val_mae: 0.0757\n",
            "Epoch 24/40\n",
            "28/28 [==============================] - 5s 167ms/step - loss: 0.0085 - mae: 0.0601 - val_loss: 0.0163 - val_mae: 0.0720\n",
            "Epoch 25/40\n",
            "17/28 [=================>............] - ETA: 1s - loss: 0.0072 - mae: 0.0528"
          ]
        },
        {
          "ename": "KeyboardInterrupt",
          "evalue": "ignored",
          "output_type": "error",
          "traceback": [
            "\u001b[0;31m---------------------------------------------------------------------------\u001b[0m",
            "\u001b[0;31mKeyboardInterrupt\u001b[0m                         Traceback (most recent call last)",
            "\u001b[0;32m<ipython-input-9-d2ae721b67e3>\u001b[0m in \u001b[0;36m<module>\u001b[0;34m()\u001b[0m\n\u001b[1;32m     26\u001b[0m \u001b[0mearly_stop\u001b[0m \u001b[0;34m=\u001b[0m \u001b[0mkeras\u001b[0m\u001b[0;34m.\u001b[0m\u001b[0mcallbacks\u001b[0m\u001b[0;34m.\u001b[0m\u001b[0mEarlyStopping\u001b[0m\u001b[0;34m(\u001b[0m\u001b[0mmonitor\u001b[0m \u001b[0;34m=\u001b[0m \u001b[0;34m\"val_loss\"\u001b[0m\u001b[0;34m,\u001b[0m \u001b[0mpatience\u001b[0m \u001b[0;34m=\u001b[0m \u001b[0;36m10\u001b[0m\u001b[0;34m)\u001b[0m\u001b[0;34m\u001b[0m\u001b[0;34m\u001b[0m\u001b[0m\n\u001b[1;32m     27\u001b[0m \u001b[0mttm_reg\u001b[0m\u001b[0;34m.\u001b[0m\u001b[0mcompile\u001b[0m\u001b[0;34m(\u001b[0m\u001b[0mloss\u001b[0m\u001b[0;34m=\u001b[0m\u001b[0;34m'mse'\u001b[0m\u001b[0;34m,\u001b[0m \u001b[0moptimizer\u001b[0m\u001b[0;34m=\u001b[0m\u001b[0;34m\"adam\"\u001b[0m\u001b[0;34m,\u001b[0m \u001b[0mmetrics\u001b[0m\u001b[0;34m=\u001b[0m\u001b[0;34m[\u001b[0m\u001b[0;34m'mae'\u001b[0m\u001b[0;34m]\u001b[0m\u001b[0;34m)\u001b[0m\u001b[0;34m\u001b[0m\u001b[0;34m\u001b[0m\u001b[0m\n\u001b[0;32m---> 28\u001b[0;31m \u001b[0mttm_reg\u001b[0m\u001b[0;34m.\u001b[0m\u001b[0mfit\u001b[0m\u001b[0;34m(\u001b[0m\u001b[0mtrain_images\u001b[0m\u001b[0;34m,\u001b[0m \u001b[0my_train_ttm_reg\u001b[0m\u001b[0;34m,\u001b[0m \u001b[0mepochs\u001b[0m\u001b[0;34m=\u001b[0m\u001b[0;36m40\u001b[0m\u001b[0;34m,\u001b[0m \u001b[0mbatch_size\u001b[0m \u001b[0;34m=\u001b[0m \u001b[0;36m512\u001b[0m\u001b[0;34m,\u001b[0m \u001b[0mvalidation_data\u001b[0m \u001b[0;34m=\u001b[0m \u001b[0;34m(\u001b[0m\u001b[0mvalid_images\u001b[0m\u001b[0;34m,\u001b[0m\u001b[0my_valid_ttm_reg\u001b[0m\u001b[0;34m)\u001b[0m\u001b[0;34m,\u001b[0m \u001b[0mcallbacks\u001b[0m \u001b[0;34m=\u001b[0m \u001b[0;34m[\u001b[0m\u001b[0mearly_stop\u001b[0m\u001b[0;34m]\u001b[0m\u001b[0;34m)\u001b[0m\u001b[0;34m\u001b[0m\u001b[0;34m\u001b[0m\u001b[0m\n\u001b[0m",
            "\u001b[0;32m/usr/local/lib/python3.7/dist-packages/keras/utils/traceback_utils.py\u001b[0m in \u001b[0;36merror_handler\u001b[0;34m(*args, **kwargs)\u001b[0m\n\u001b[1;32m     62\u001b[0m     \u001b[0mfiltered_tb\u001b[0m \u001b[0;34m=\u001b[0m \u001b[0;32mNone\u001b[0m\u001b[0;34m\u001b[0m\u001b[0;34m\u001b[0m\u001b[0m\n\u001b[1;32m     63\u001b[0m     \u001b[0;32mtry\u001b[0m\u001b[0;34m:\u001b[0m\u001b[0;34m\u001b[0m\u001b[0;34m\u001b[0m\u001b[0m\n\u001b[0;32m---> 64\u001b[0;31m       \u001b[0;32mreturn\u001b[0m \u001b[0mfn\u001b[0m\u001b[0;34m(\u001b[0m\u001b[0;34m*\u001b[0m\u001b[0margs\u001b[0m\u001b[0;34m,\u001b[0m \u001b[0;34m**\u001b[0m\u001b[0mkwargs\u001b[0m\u001b[0;34m)\u001b[0m\u001b[0;34m\u001b[0m\u001b[0;34m\u001b[0m\u001b[0m\n\u001b[0m\u001b[1;32m     65\u001b[0m     \u001b[0;32mexcept\u001b[0m \u001b[0mException\u001b[0m \u001b[0;32mas\u001b[0m \u001b[0me\u001b[0m\u001b[0;34m:\u001b[0m  \u001b[0;31m# pylint: disable=broad-except\u001b[0m\u001b[0;34m\u001b[0m\u001b[0;34m\u001b[0m\u001b[0m\n\u001b[1;32m     66\u001b[0m       \u001b[0mfiltered_tb\u001b[0m \u001b[0;34m=\u001b[0m \u001b[0m_process_traceback_frames\u001b[0m\u001b[0;34m(\u001b[0m\u001b[0me\u001b[0m\u001b[0;34m.\u001b[0m\u001b[0m__traceback__\u001b[0m\u001b[0;34m)\u001b[0m\u001b[0;34m\u001b[0m\u001b[0;34m\u001b[0m\u001b[0m\n",
            "\u001b[0;32m/usr/local/lib/python3.7/dist-packages/keras/engine/training.py\u001b[0m in \u001b[0;36mfit\u001b[0;34m(self, x, y, batch_size, epochs, verbose, callbacks, validation_split, validation_data, shuffle, class_weight, sample_weight, initial_epoch, steps_per_epoch, validation_steps, validation_batch_size, validation_freq, max_queue_size, workers, use_multiprocessing)\u001b[0m\n\u001b[1;32m   1214\u001b[0m                 _r=1):\n\u001b[1;32m   1215\u001b[0m               \u001b[0mcallbacks\u001b[0m\u001b[0;34m.\u001b[0m\u001b[0mon_train_batch_begin\u001b[0m\u001b[0;34m(\u001b[0m\u001b[0mstep\u001b[0m\u001b[0;34m)\u001b[0m\u001b[0;34m\u001b[0m\u001b[0;34m\u001b[0m\u001b[0m\n\u001b[0;32m-> 1216\u001b[0;31m               \u001b[0mtmp_logs\u001b[0m \u001b[0;34m=\u001b[0m \u001b[0mself\u001b[0m\u001b[0;34m.\u001b[0m\u001b[0mtrain_function\u001b[0m\u001b[0;34m(\u001b[0m\u001b[0miterator\u001b[0m\u001b[0;34m)\u001b[0m\u001b[0;34m\u001b[0m\u001b[0;34m\u001b[0m\u001b[0m\n\u001b[0m\u001b[1;32m   1217\u001b[0m               \u001b[0;32mif\u001b[0m \u001b[0mdata_handler\u001b[0m\u001b[0;34m.\u001b[0m\u001b[0mshould_sync\u001b[0m\u001b[0;34m:\u001b[0m\u001b[0;34m\u001b[0m\u001b[0;34m\u001b[0m\u001b[0m\n\u001b[1;32m   1218\u001b[0m                 \u001b[0mcontext\u001b[0m\u001b[0;34m.\u001b[0m\u001b[0masync_wait\u001b[0m\u001b[0;34m(\u001b[0m\u001b[0;34m)\u001b[0m\u001b[0;34m\u001b[0m\u001b[0;34m\u001b[0m\u001b[0m\n",
            "\u001b[0;32m/usr/local/lib/python3.7/dist-packages/tensorflow/python/util/traceback_utils.py\u001b[0m in \u001b[0;36merror_handler\u001b[0;34m(*args, **kwargs)\u001b[0m\n\u001b[1;32m    148\u001b[0m     \u001b[0mfiltered_tb\u001b[0m \u001b[0;34m=\u001b[0m \u001b[0;32mNone\u001b[0m\u001b[0;34m\u001b[0m\u001b[0;34m\u001b[0m\u001b[0m\n\u001b[1;32m    149\u001b[0m     \u001b[0;32mtry\u001b[0m\u001b[0;34m:\u001b[0m\u001b[0;34m\u001b[0m\u001b[0;34m\u001b[0m\u001b[0m\n\u001b[0;32m--> 150\u001b[0;31m       \u001b[0;32mreturn\u001b[0m \u001b[0mfn\u001b[0m\u001b[0;34m(\u001b[0m\u001b[0;34m*\u001b[0m\u001b[0margs\u001b[0m\u001b[0;34m,\u001b[0m \u001b[0;34m**\u001b[0m\u001b[0mkwargs\u001b[0m\u001b[0;34m)\u001b[0m\u001b[0;34m\u001b[0m\u001b[0;34m\u001b[0m\u001b[0m\n\u001b[0m\u001b[1;32m    151\u001b[0m     \u001b[0;32mexcept\u001b[0m \u001b[0mException\u001b[0m \u001b[0;32mas\u001b[0m \u001b[0me\u001b[0m\u001b[0;34m:\u001b[0m\u001b[0;34m\u001b[0m\u001b[0;34m\u001b[0m\u001b[0m\n\u001b[1;32m    152\u001b[0m       \u001b[0mfiltered_tb\u001b[0m \u001b[0;34m=\u001b[0m \u001b[0m_process_traceback_frames\u001b[0m\u001b[0;34m(\u001b[0m\u001b[0me\u001b[0m\u001b[0;34m.\u001b[0m\u001b[0m__traceback__\u001b[0m\u001b[0;34m)\u001b[0m\u001b[0;34m\u001b[0m\u001b[0;34m\u001b[0m\u001b[0m\n",
            "\u001b[0;32m/usr/local/lib/python3.7/dist-packages/tensorflow/python/eager/def_function.py\u001b[0m in \u001b[0;36m__call__\u001b[0;34m(self, *args, **kwds)\u001b[0m\n\u001b[1;32m    908\u001b[0m \u001b[0;34m\u001b[0m\u001b[0m\n\u001b[1;32m    909\u001b[0m       \u001b[0;32mwith\u001b[0m \u001b[0mOptionalXlaContext\u001b[0m\u001b[0;34m(\u001b[0m\u001b[0mself\u001b[0m\u001b[0;34m.\u001b[0m\u001b[0m_jit_compile\u001b[0m\u001b[0;34m)\u001b[0m\u001b[0;34m:\u001b[0m\u001b[0;34m\u001b[0m\u001b[0;34m\u001b[0m\u001b[0m\n\u001b[0;32m--> 910\u001b[0;31m         \u001b[0mresult\u001b[0m \u001b[0;34m=\u001b[0m \u001b[0mself\u001b[0m\u001b[0;34m.\u001b[0m\u001b[0m_call\u001b[0m\u001b[0;34m(\u001b[0m\u001b[0;34m*\u001b[0m\u001b[0margs\u001b[0m\u001b[0;34m,\u001b[0m \u001b[0;34m**\u001b[0m\u001b[0mkwds\u001b[0m\u001b[0;34m)\u001b[0m\u001b[0;34m\u001b[0m\u001b[0;34m\u001b[0m\u001b[0m\n\u001b[0m\u001b[1;32m    911\u001b[0m \u001b[0;34m\u001b[0m\u001b[0m\n\u001b[1;32m    912\u001b[0m       \u001b[0mnew_tracing_count\u001b[0m \u001b[0;34m=\u001b[0m \u001b[0mself\u001b[0m\u001b[0;34m.\u001b[0m\u001b[0mexperimental_get_tracing_count\u001b[0m\u001b[0;34m(\u001b[0m\u001b[0;34m)\u001b[0m\u001b[0;34m\u001b[0m\u001b[0;34m\u001b[0m\u001b[0m\n",
            "\u001b[0;32m/usr/local/lib/python3.7/dist-packages/tensorflow/python/eager/def_function.py\u001b[0m in \u001b[0;36m_call\u001b[0;34m(self, *args, **kwds)\u001b[0m\n\u001b[1;32m    940\u001b[0m       \u001b[0;31m# In this case we have created variables on the first call, so we run the\u001b[0m\u001b[0;34m\u001b[0m\u001b[0;34m\u001b[0m\u001b[0;34m\u001b[0m\u001b[0m\n\u001b[1;32m    941\u001b[0m       \u001b[0;31m# defunned version which is guaranteed to never create variables.\u001b[0m\u001b[0;34m\u001b[0m\u001b[0;34m\u001b[0m\u001b[0;34m\u001b[0m\u001b[0m\n\u001b[0;32m--> 942\u001b[0;31m       \u001b[0;32mreturn\u001b[0m \u001b[0mself\u001b[0m\u001b[0;34m.\u001b[0m\u001b[0m_stateless_fn\u001b[0m\u001b[0;34m(\u001b[0m\u001b[0;34m*\u001b[0m\u001b[0margs\u001b[0m\u001b[0;34m,\u001b[0m \u001b[0;34m**\u001b[0m\u001b[0mkwds\u001b[0m\u001b[0;34m)\u001b[0m  \u001b[0;31m# pylint: disable=not-callable\u001b[0m\u001b[0;34m\u001b[0m\u001b[0;34m\u001b[0m\u001b[0m\n\u001b[0m\u001b[1;32m    943\u001b[0m     \u001b[0;32melif\u001b[0m \u001b[0mself\u001b[0m\u001b[0;34m.\u001b[0m\u001b[0m_stateful_fn\u001b[0m \u001b[0;32mis\u001b[0m \u001b[0;32mnot\u001b[0m \u001b[0;32mNone\u001b[0m\u001b[0;34m:\u001b[0m\u001b[0;34m\u001b[0m\u001b[0;34m\u001b[0m\u001b[0m\n\u001b[1;32m    944\u001b[0m       \u001b[0;31m# Release the lock early so that multiple threads can perform the call\u001b[0m\u001b[0;34m\u001b[0m\u001b[0;34m\u001b[0m\u001b[0;34m\u001b[0m\u001b[0m\n",
            "\u001b[0;32m/usr/local/lib/python3.7/dist-packages/tensorflow/python/eager/function.py\u001b[0m in \u001b[0;36m__call__\u001b[0;34m(self, *args, **kwargs)\u001b[0m\n\u001b[1;32m   3129\u001b[0m        filtered_flat_args) = self._maybe_define_function(args, kwargs)\n\u001b[1;32m   3130\u001b[0m     return graph_function._call_flat(\n\u001b[0;32m-> 3131\u001b[0;31m         filtered_flat_args, captured_inputs=graph_function.captured_inputs)  # pylint: disable=protected-access\n\u001b[0m\u001b[1;32m   3132\u001b[0m \u001b[0;34m\u001b[0m\u001b[0m\n\u001b[1;32m   3133\u001b[0m   \u001b[0;34m@\u001b[0m\u001b[0mproperty\u001b[0m\u001b[0;34m\u001b[0m\u001b[0;34m\u001b[0m\u001b[0m\n",
            "\u001b[0;32m/usr/local/lib/python3.7/dist-packages/tensorflow/python/eager/function.py\u001b[0m in \u001b[0;36m_call_flat\u001b[0;34m(self, args, captured_inputs, cancellation_manager)\u001b[0m\n\u001b[1;32m   1958\u001b[0m       \u001b[0;31m# No tape is watching; skip to running the function.\u001b[0m\u001b[0;34m\u001b[0m\u001b[0;34m\u001b[0m\u001b[0;34m\u001b[0m\u001b[0m\n\u001b[1;32m   1959\u001b[0m       return self._build_call_outputs(self._inference_function.call(\n\u001b[0;32m-> 1960\u001b[0;31m           ctx, args, cancellation_manager=cancellation_manager))\n\u001b[0m\u001b[1;32m   1961\u001b[0m     forward_backward = self._select_forward_and_backward_functions(\n\u001b[1;32m   1962\u001b[0m         \u001b[0margs\u001b[0m\u001b[0;34m,\u001b[0m\u001b[0;34m\u001b[0m\u001b[0;34m\u001b[0m\u001b[0m\n",
            "\u001b[0;32m/usr/local/lib/python3.7/dist-packages/tensorflow/python/eager/function.py\u001b[0m in \u001b[0;36mcall\u001b[0;34m(self, ctx, args, cancellation_manager)\u001b[0m\n\u001b[1;32m    601\u001b[0m               \u001b[0minputs\u001b[0m\u001b[0;34m=\u001b[0m\u001b[0margs\u001b[0m\u001b[0;34m,\u001b[0m\u001b[0;34m\u001b[0m\u001b[0;34m\u001b[0m\u001b[0m\n\u001b[1;32m    602\u001b[0m               \u001b[0mattrs\u001b[0m\u001b[0;34m=\u001b[0m\u001b[0mattrs\u001b[0m\u001b[0;34m,\u001b[0m\u001b[0;34m\u001b[0m\u001b[0;34m\u001b[0m\u001b[0m\n\u001b[0;32m--> 603\u001b[0;31m               ctx=ctx)\n\u001b[0m\u001b[1;32m    604\u001b[0m         \u001b[0;32melse\u001b[0m\u001b[0;34m:\u001b[0m\u001b[0;34m\u001b[0m\u001b[0;34m\u001b[0m\u001b[0m\n\u001b[1;32m    605\u001b[0m           outputs = execute.execute_with_cancellation(\n",
            "\u001b[0;32m/usr/local/lib/python3.7/dist-packages/tensorflow/python/eager/execute.py\u001b[0m in \u001b[0;36mquick_execute\u001b[0;34m(op_name, num_outputs, inputs, attrs, ctx, name)\u001b[0m\n\u001b[1;32m     57\u001b[0m     \u001b[0mctx\u001b[0m\u001b[0;34m.\u001b[0m\u001b[0mensure_initialized\u001b[0m\u001b[0;34m(\u001b[0m\u001b[0;34m)\u001b[0m\u001b[0;34m\u001b[0m\u001b[0;34m\u001b[0m\u001b[0m\n\u001b[1;32m     58\u001b[0m     tensors = pywrap_tfe.TFE_Py_Execute(ctx._handle, device_name, op_name,\n\u001b[0;32m---> 59\u001b[0;31m                                         inputs, attrs, num_outputs)\n\u001b[0m\u001b[1;32m     60\u001b[0m   \u001b[0;32mexcept\u001b[0m \u001b[0mcore\u001b[0m\u001b[0;34m.\u001b[0m\u001b[0m_NotOkStatusException\u001b[0m \u001b[0;32mas\u001b[0m \u001b[0me\u001b[0m\u001b[0;34m:\u001b[0m\u001b[0;34m\u001b[0m\u001b[0;34m\u001b[0m\u001b[0m\n\u001b[1;32m     61\u001b[0m     \u001b[0;32mif\u001b[0m \u001b[0mname\u001b[0m \u001b[0;32mis\u001b[0m \u001b[0;32mnot\u001b[0m \u001b[0;32mNone\u001b[0m\u001b[0;34m:\u001b[0m\u001b[0;34m\u001b[0m\u001b[0;34m\u001b[0m\u001b[0m\n",
            "\u001b[0;31mKeyboardInterrupt\u001b[0m: "
          ]
        }
      ]
    },
    {
      "cell_type": "code",
      "metadata": {
        "id": "6JR3xHzFDWo-"
      },
      "source": [
        "def difference_func(pred,y):\n",
        "  pred = np.transpose(pred)\n",
        "  diff_one = np.maximum(pred,y) - np.minimum(pred,y)\n",
        "  diff_two = np.minimum(pred,y) + 1 - np.maximum(pred,y)\n",
        "  return np.minimum(diff_one,diff_two)"
      ],
      "execution_count": null,
      "outputs": []
    },
    {
      "cell_type": "code",
      "metadata": {
        "id": "Q-af2rhmBbzv"
      },
      "source": [
        "reg_predictions = ttm_reg.predict(test_images)"
      ],
      "execution_count": null,
      "outputs": []
    },
    {
      "cell_type": "code",
      "metadata": {
        "colab": {
          "base_uri": "https://localhost:8080/"
        },
        "id": "j0GPUyFTH64v",
        "outputId": "e77b52bb-59eb-4628-a4c9-918adfbfb348"
      },
      "source": [
        "reg_predictions = ttm_reg.predict(test_images)\n",
        "result = difference_func(reg_predictions,y_test_ttm_reg)\n",
        "np.mean(result) * 60 * 12"
      ],
      "execution_count": null,
      "outputs": [
        {
          "name": "stdout",
          "output_type": "stream",
          "text": [
            "[[0.01087105 0.02134579 0.00501794 ... 0.00364137 0.05280444 0.00298819]]\n"
          ]
        }
      ]
    },
    {
      "cell_type": "code",
      "metadata": {
        "colab": {
          "base_uri": "https://localhost:8080/"
        },
        "id": "0lguKhg7IKNY",
        "outputId": "d041b975-c774-42c8-b3b6-5b93acb6a510"
      },
      "source": [
        "np.mean(result) * 60 * 12"
      ],
      "execution_count": null,
      "outputs": [
        {
          "data": {
            "text/plain": [
              "40.311176776885986"
            ]
          },
          "execution_count": 39,
          "metadata": {},
          "output_type": "execute_result"
        }
      ]
    },
    {
      "cell_type": "markdown",
      "metadata": {
        "id": "akzUkxl7TmPC"
      },
      "source": [
        "## Classification CNN"
      ]
    },
    {
      "cell_type": "code",
      "metadata": {
        "id": "VV3l51PITpl_"
      },
      "source": [
        "np.random.seed(1938266)\n",
        "# Data Classification\n",
        "from sklearn.preprocessing import LabelEncoder\n",
        "\n",
        "def convert_minutes(hours, minutes):\n",
        "    if minutes <= .50:\n",
        "        minutes = '.00'\n",
        "    else:\n",
        "      minutes = \".00\"\n",
        "      h = int(hours) + 1\n",
        "    \n",
        "    return hours, minutes\n",
        "\n",
        "y_train_ttm_cl = np.empty(13900, dtype=float)\n",
        "y_test_ttm_cl = np.empty(3600, dtype=float)\n",
        "y_valid_ttm_cl = np.empty(500, dtype=float)\n",
        "\n",
        "for i in range(len(train_hours)):\n",
        "    hours, minutes = convert_minutes(train_hours[i], train_minutes[i])\n",
        "\n",
        "    y_train_ttm_cl[i] = hours + float(minutes)\n",
        "    \n",
        "for i in range(len(test_hours)):\n",
        "    hours, minutes = convert_minutes(test_hours[i], test_minutes[i])\n",
        "    y_test_ttm_cl[i] = hours + float(minutes) \n",
        "    \n",
        "for i in range(len(valid_hours)):   \n",
        "    hours, minutes = convert_minutes(valid_hours[i], valid_minutes[i])\n",
        "    y_valid_ttm_cl[i] = hours + float(minutes)\n",
        "\n",
        "encoder = LabelEncoder()\n",
        "y_test_ttm_encoded = encoder.fit_transform(y_test_ttm_cl)\n",
        "y_train_ttm_encoded = encoder.fit_transform(y_train_ttm_cl)\n",
        "y_valid_ttm_encoded = encoder.fit_transform(y_valid_ttm_cl)"
      ],
      "execution_count": null,
      "outputs": []
    },
    {
      "cell_type": "code",
      "metadata": {
        "id": "IMaE-Z9vWYNb"
      },
      "source": [
        "from sklearn.preprocessing import OneHotEncoder\n",
        "onehot_encoder = OneHotEncoder(sparse=False)\n",
        "onehot_encoded = onehot_encoder.fit_transform(y_train_ttm_encoded.reshape(-1, 1))\n",
        "onehot_encoded_valid = onehot_encoder.fit_transform(y_valid_ttm_encoded.reshape(-1, 1))"
      ],
      "execution_count": null,
      "outputs": []
    },
    {
      "cell_type": "code",
      "metadata": {
        "colab": {
          "base_uri": "https://localhost:8080/"
        },
        "id": "V72AnRdVWCNh",
        "outputId": "8303a8be-9f97-4495-e8d5-7a231ebe5b7d"
      },
      "source": [
        "np.random.seed(9999)\n",
        "\n",
        "\n",
        "# Classification CNN\n",
        "input_shape=(images.shape[1], images.shape[2], 1)\n",
        "\n",
        "ttm_cl = keras.models.Sequential()\n",
        "ttm_cl.add(keras.layers.Conv2D(kernel_size=(5,5), strides = (2,2), activation=\"relu\", filters=32))\n",
        "ttm_cl.add(keras.layers.Conv2D(activation=\"relu\", filters=32, kernel_size=(3,3), input_shape=input_shape))\n",
        "ttm_cl.add(keras.layers.MaxPooling2D(pool_size=2))\n",
        "ttm_cl.add(keras.layers.Conv2D(kernel_size=(3,3), activation=\"relu\", filters=32))\n",
        "ttm_cl.add(keras.layers.Conv2D(kernel_size=(3,3), activation=\"relu\", filters=32))\n",
        "ttm_cl.add(keras.layers.MaxPooling2D(pool_size=2))\n",
        "ttm_cl.add(keras.layers.Conv2D(kernel_size=(3,3), activation=\"relu\", filters=64))\n",
        "ttm_cl.add(keras.layers.Conv2D(kernel_size=(3,3), activation=\"relu\", filters=64))\n",
        "\n",
        "\n",
        "ttm_cl.add(keras.layers.Flatten())\n",
        "ttm_cl.add(keras.layers.Dense(units=512, activation=\"relu\"))\n",
        "ttm_cl.add(keras.layers.Dense(units=512, activation=\"relu\"))\n",
        "ttm_cl.add(keras.layers.Dense(units=256, activation=\"relu\"))\n",
        "ttm_cl.add(keras.layers.Dense(units=256, activation=\"relu\"))\n",
        "ttm_cl.add(keras.layers.Dense(units=128, activation=\"relu\"))\n",
        "ttm_cl.add(keras.layers.Dense(units=64, activation=\"relu\"))\n",
        "ttm_cl.add(keras.layers.Dense(units=32, activation=\"relu\"))\n",
        "ttm_cl.add(keras.layers.Dense(units=12, activation='softmax')) # for each label\n",
        "\n",
        "optimizer = keras.optimizers.Adam(learning_rate=0.0001)\n",
        "ttm_cl.compile(loss='categorical_crossentropy', optimizer=optimizer, metrics=['accuracy'])\n",
        "\n",
        "early_stop = keras.callbacks.EarlyStopping(monitor = \"val_loss\", patience = 15)\n",
        "\n",
        "ttm_cl.fit(train_images, onehot_encoded , epochs=50, batch_size = 256, validation_data = (valid_images,onehot_encoded_valid), callbacks = [early_stop])\n"
      ],
      "execution_count": null,
      "outputs": [
        {
          "output_type": "stream",
          "name": "stdout",
          "text": [
            "Epoch 1/50\n",
            "55/55 [==============================] - 13s 191ms/step - loss: 2.4850 - accuracy: 0.0812 - val_loss: 2.4849 - val_accuracy: 0.0800\n",
            "Epoch 2/50\n",
            "55/55 [==============================] - 9s 161ms/step - loss: 2.4849 - accuracy: 0.0853 - val_loss: 2.4850 - val_accuracy: 0.0800\n",
            "Epoch 3/50\n",
            "55/55 [==============================] - 9s 161ms/step - loss: 2.4848 - accuracy: 0.0840 - val_loss: 2.4844 - val_accuracy: 0.0860\n",
            "Epoch 4/50\n",
            "55/55 [==============================] - 9s 161ms/step - loss: 2.4838 - accuracy: 0.0877 - val_loss: 2.4833 - val_accuracy: 0.0880\n",
            "Epoch 5/50\n",
            "55/55 [==============================] - 9s 160ms/step - loss: 2.4615 - accuracy: 0.1045 - val_loss: 2.4202 - val_accuracy: 0.1280\n",
            "Epoch 6/50\n",
            "55/55 [==============================] - 9s 160ms/step - loss: 2.3485 - accuracy: 0.1371 - val_loss: 2.2489 - val_accuracy: 0.1960\n",
            "Epoch 7/50\n",
            "55/55 [==============================] - 9s 161ms/step - loss: 2.1467 - accuracy: 0.1919 - val_loss: 2.0641 - val_accuracy: 0.2160\n",
            "Epoch 8/50\n",
            "55/55 [==============================] - 9s 161ms/step - loss: 1.8927 - accuracy: 0.2470 - val_loss: 1.8154 - val_accuracy: 0.2660\n",
            "Epoch 9/50\n",
            "55/55 [==============================] - 9s 161ms/step - loss: 1.7052 - accuracy: 0.2988 - val_loss: 1.6731 - val_accuracy: 0.3000\n",
            "Epoch 10/50\n",
            "55/55 [==============================] - 9s 161ms/step - loss: 1.5660 - accuracy: 0.3498 - val_loss: 1.5836 - val_accuracy: 0.3120\n",
            "Epoch 11/50\n",
            "55/55 [==============================] - 9s 160ms/step - loss: 1.4273 - accuracy: 0.4037 - val_loss: 1.4400 - val_accuracy: 0.3980\n",
            "Epoch 12/50\n",
            "55/55 [==============================] - 9s 161ms/step - loss: 1.3093 - accuracy: 0.4539 - val_loss: 1.3169 - val_accuracy: 0.4160\n",
            "Epoch 13/50\n",
            "55/55 [==============================] - 9s 160ms/step - loss: 1.2222 - accuracy: 0.4905 - val_loss: 1.3671 - val_accuracy: 0.4220\n",
            "Epoch 14/50\n",
            "55/55 [==============================] - 9s 162ms/step - loss: 1.1284 - accuracy: 0.5319 - val_loss: 1.1598 - val_accuracy: 0.4800\n",
            "Epoch 15/50\n",
            "55/55 [==============================] - 9s 161ms/step - loss: 1.0577 - accuracy: 0.5675 - val_loss: 1.1399 - val_accuracy: 0.5100\n",
            "Epoch 16/50\n",
            "55/55 [==============================] - 9s 160ms/step - loss: 0.9611 - accuracy: 0.6089 - val_loss: 1.0559 - val_accuracy: 0.5500\n",
            "Epoch 17/50\n",
            "55/55 [==============================] - 9s 161ms/step - loss: 0.9476 - accuracy: 0.6112 - val_loss: 1.0752 - val_accuracy: 0.5400\n",
            "Epoch 18/50\n",
            "55/55 [==============================] - 9s 161ms/step - loss: 0.8862 - accuracy: 0.6384 - val_loss: 1.0437 - val_accuracy: 0.5600\n",
            "Epoch 19/50\n",
            "55/55 [==============================] - 9s 161ms/step - loss: 0.8187 - accuracy: 0.6704 - val_loss: 0.9242 - val_accuracy: 0.5720\n",
            "Epoch 20/50\n",
            "55/55 [==============================] - 9s 161ms/step - loss: 0.7512 - accuracy: 0.6955 - val_loss: 0.8591 - val_accuracy: 0.6540\n",
            "Epoch 21/50\n",
            "55/55 [==============================] - 9s 161ms/step - loss: 0.6964 - accuracy: 0.7210 - val_loss: 0.9375 - val_accuracy: 0.6060\n",
            "Epoch 22/50\n",
            "55/55 [==============================] - 9s 161ms/step - loss: 0.6782 - accuracy: 0.7289 - val_loss: 0.8837 - val_accuracy: 0.6420\n",
            "Epoch 23/50\n",
            "55/55 [==============================] - 9s 161ms/step - loss: 0.6334 - accuracy: 0.7468 - val_loss: 0.8180 - val_accuracy: 0.6720\n",
            "Epoch 24/50\n",
            "55/55 [==============================] - 9s 160ms/step - loss: 0.5628 - accuracy: 0.7762 - val_loss: 0.8832 - val_accuracy: 0.6360\n",
            "Epoch 25/50\n",
            "55/55 [==============================] - 9s 160ms/step - loss: 0.5513 - accuracy: 0.7819 - val_loss: 0.7316 - val_accuracy: 0.7080\n",
            "Epoch 26/50\n",
            "55/55 [==============================] - 9s 161ms/step - loss: 0.5300 - accuracy: 0.7920 - val_loss: 0.7507 - val_accuracy: 0.6840\n",
            "Epoch 27/50\n",
            "55/55 [==============================] - 9s 161ms/step - loss: 0.4759 - accuracy: 0.8137 - val_loss: 0.7888 - val_accuracy: 0.6800\n",
            "Epoch 28/50\n",
            "55/55 [==============================] - 9s 162ms/step - loss: 0.4443 - accuracy: 0.8250 - val_loss: 0.7819 - val_accuracy: 0.7000\n",
            "Epoch 29/50\n",
            "55/55 [==============================] - 9s 162ms/step - loss: 0.4245 - accuracy: 0.8352 - val_loss: 0.6621 - val_accuracy: 0.7520\n",
            "Epoch 30/50\n",
            "55/55 [==============================] - 9s 162ms/step - loss: 0.4357 - accuracy: 0.8249 - val_loss: 0.6693 - val_accuracy: 0.7220\n",
            "Epoch 31/50\n",
            "55/55 [==============================] - 9s 162ms/step - loss: 0.3601 - accuracy: 0.8636 - val_loss: 0.7052 - val_accuracy: 0.7120\n",
            "Epoch 32/50\n",
            "55/55 [==============================] - 9s 162ms/step - loss: 0.3456 - accuracy: 0.8658 - val_loss: 0.6296 - val_accuracy: 0.7800\n",
            "Epoch 33/50\n",
            "55/55 [==============================] - 9s 162ms/step - loss: 0.3157 - accuracy: 0.8784 - val_loss: 0.6514 - val_accuracy: 0.7460\n",
            "Epoch 34/50\n",
            "55/55 [==============================] - 9s 162ms/step - loss: 0.3078 - accuracy: 0.8805 - val_loss: 0.6736 - val_accuracy: 0.7780\n",
            "Epoch 35/50\n",
            "55/55 [==============================] - 9s 162ms/step - loss: 0.2833 - accuracy: 0.8883 - val_loss: 0.6213 - val_accuracy: 0.7620\n",
            "Epoch 36/50\n",
            "55/55 [==============================] - 9s 163ms/step - loss: 0.2548 - accuracy: 0.9061 - val_loss: 0.6268 - val_accuracy: 0.7660\n",
            "Epoch 37/50\n",
            "55/55 [==============================] - 9s 162ms/step - loss: 0.2659 - accuracy: 0.8976 - val_loss: 0.6269 - val_accuracy: 0.7720\n",
            "Epoch 38/50\n",
            "55/55 [==============================] - 9s 162ms/step - loss: 0.2632 - accuracy: 0.8973 - val_loss: 0.6549 - val_accuracy: 0.7800\n",
            "Epoch 39/50\n",
            "55/55 [==============================] - 9s 162ms/step - loss: 0.2377 - accuracy: 0.9143 - val_loss: 0.7001 - val_accuracy: 0.7780\n",
            "Epoch 40/50\n",
            "55/55 [==============================] - 9s 162ms/step - loss: 0.2295 - accuracy: 0.9160 - val_loss: 0.6259 - val_accuracy: 0.7860\n",
            "Epoch 41/50\n",
            "55/55 [==============================] - 9s 162ms/step - loss: 0.2264 - accuracy: 0.9151 - val_loss: 0.5830 - val_accuracy: 0.7980\n",
            "Epoch 42/50\n",
            "55/55 [==============================] - 9s 162ms/step - loss: 0.2430 - accuracy: 0.9071 - val_loss: 0.5901 - val_accuracy: 0.7980\n",
            "Epoch 43/50\n",
            "55/55 [==============================] - 9s 161ms/step - loss: 0.2025 - accuracy: 0.9266 - val_loss: 0.5908 - val_accuracy: 0.7960\n",
            "Epoch 44/50\n",
            "55/55 [==============================] - 9s 162ms/step - loss: 0.1628 - accuracy: 0.9407 - val_loss: 0.5366 - val_accuracy: 0.8120\n",
            "Epoch 45/50\n",
            "55/55 [==============================] - 9s 162ms/step - loss: 0.1870 - accuracy: 0.9296 - val_loss: 0.5465 - val_accuracy: 0.8040\n",
            "Epoch 46/50\n",
            "55/55 [==============================] - 9s 162ms/step - loss: 0.1427 - accuracy: 0.9517 - val_loss: 0.6000 - val_accuracy: 0.8060\n",
            "Epoch 47/50\n",
            "55/55 [==============================] - 9s 162ms/step - loss: 0.1489 - accuracy: 0.9461 - val_loss: 0.6184 - val_accuracy: 0.7960\n",
            "Epoch 48/50\n",
            "55/55 [==============================] - 9s 162ms/step - loss: 0.1499 - accuracy: 0.9446 - val_loss: 0.5707 - val_accuracy: 0.8180\n",
            "Epoch 49/50\n",
            "55/55 [==============================] - 9s 161ms/step - loss: 0.2100 - accuracy: 0.9212 - val_loss: 0.6370 - val_accuracy: 0.7960\n",
            "Epoch 50/50\n",
            "55/55 [==============================] - 9s 162ms/step - loss: 0.1666 - accuracy: 0.9376 - val_loss: 0.5642 - val_accuracy: 0.8080\n"
          ]
        },
        {
          "output_type": "execute_result",
          "data": {
            "text/plain": [
              "<keras.callbacks.History at 0x7f23bedc5450>"
            ]
          },
          "metadata": {},
          "execution_count": 28
        }
      ]
    },
    {
      "cell_type": "code",
      "metadata": {
        "id": "q8IqAErPLdEz"
      },
      "source": [
        "class_pred = ttm_cl.predict(test_images)"
      ],
      "execution_count": null,
      "outputs": []
    },
    {
      "cell_type": "code",
      "metadata": {
        "id": "TYcwq8Q9aaXD"
      },
      "source": [
        "class_pred = np.argmax(class_pred, axis = 1)"
      ],
      "execution_count": null,
      "outputs": []
    },
    {
      "cell_type": "code",
      "metadata": {
        "id": "DDlnXEGfbEx4"
      },
      "source": [
        "pred_results = encoder.inverse_transform(class_pred)"
      ],
      "execution_count": null,
      "outputs": []
    },
    {
      "cell_type": "code",
      "metadata": {
        "id": "ac1sUT0jMZbl",
        "colab": {
          "base_uri": "https://localhost:8080/"
        },
        "outputId": "209b7945-9f30-4f27-8bc8-9460a3d6e91b"
      },
      "source": [
        "np.sum(class_pred == y_test_ttm_encoded) / len(y_test_ttm_encoded)"
      ],
      "execution_count": null,
      "outputs": [
        {
          "output_type": "execute_result",
          "data": {
            "text/plain": [
              "0.8383333333333334"
            ]
          },
          "metadata": {},
          "execution_count": 39
        }
      ]
    },
    {
      "cell_type": "markdown",
      "metadata": {
        "id": "J8M5hihZy11_"
      },
      "source": [
        "## Two headed Model"
      ]
    },
    {
      "cell_type": "code",
      "metadata": {
        "id": "TbiwAiJU_l8o"
      },
      "source": [
        "from keras.models import Sequential\n",
        "from keras.layers import Convolution2D, MaxPooling2D\n",
        "from keras.layers import Activation, Dropout, Flatten, Dense, BatchNormalization\n"
      ],
      "execution_count": null,
      "outputs": []
    },
    {
      "cell_type": "code",
      "metadata": {
        "id": "lOkXQDEC_rYk"
      },
      "source": [
        "np.random.seed(1938266)\n",
        "\n",
        "inp = layers.Input(shape = (150,150,1))\n",
        "model = layers.Convolution2D(32,kernel_size = (5,5), strides= (2,2), activation = \"relu\")(inp)\n",
        "model = layers.MaxPooling2D(pool_size =2)(model)\n",
        "model = layers.Convolution2D(32,kernel_size = (3,3),activation = \"relu\")(model)\n",
        "model = layers.Convolution2D(32,kernel_size = (3,3),activation = \"relu\")(model)\n",
        "model = layers.MaxPooling2D(pool_size =2)(model)\n",
        "model = layers.Convolution2D(64,kernel_size = (3,3),activation = \"relu\")(model)\n",
        "model = layers.Convolution2D(64,kernel_size = (1,1),activation = \"relu\")(model)\n",
        "model = layers.Flatten()(model)\n",
        "\n",
        "dense = layers.Dense(256,activation = \"relu\")(model)\n",
        "dense = layers.Dense(256,activation = \"relu\")(dense)\n",
        "dense = layers.Dropout(0.1)(dense)\n",
        "dense = layers.Dense(256,activation = \"relu\")(dense)\n",
        "\n",
        "hour = layers.Dense(256,activation = \"relu\")(dense)\n",
        "hour = layers.Dense(128,activation = \"relu\")(hour)\n",
        "hour = layers.Dense(64,activation = \"relu\")(hour)\n",
        "hour = layers.Dense(32,activation = \"relu\")(hour)\n",
        "hour = layers.Dense(16,activation = \"relu\")(hour)\n",
        "hour = layers.Dense(12,activation= \"softmax\", name= \"hour\")(hour)\n",
        "\n",
        "minute = layers.Dense(256,activation = \"relu\")(dense)\n",
        "minute = layers.Dense(256,activation = \"relu\")(minute)\n",
        "minute = layers.Dense(256,activation = \"relu\")(minute)\n",
        "minute = layers.Dense(128,activation = \"relu\")(minute)\n",
        "minute = layers.Dense(64,activation = \"relu\")(minute)\n",
        "minute = layers.Dense(32,activation = \"relu\")(minute)\n",
        "minute = layers.Dense(16,activation = \"relu\")(minute)\n",
        "minute = layers.Dense(1, activation = \"softplus\", name = \"minute\")(minute)\n",
        "\n",
        "model = tf.keras.models.Model(inputs=inp, outputs=[hour, minute])\n",
        "optim = tf.keras.optimizers.Adam()\n",
        "model.compile(loss=['sparse_categorical_crossentropy', 'mse'], optimizer=optim, metrics=['accuracy',\"mae\"])"
      ],
      "execution_count": null,
      "outputs": []
    },
    {
      "cell_type": "code",
      "metadata": {
        "id": "9Sq7oFcB_v9B",
        "colab": {
          "base_uri": "https://localhost:8080/"
        },
        "outputId": "c90583a2-5f2d-4a23-c0a3-16c5b45f7f0e"
      },
      "source": [
        "np.random.seed(1938266)\n",
        "\n",
        "early_stop = keras.callbacks.EarlyStopping(monitor = \"val_loss\", patience = 10)\n",
        "\n",
        "model.fit(train_images, [train_hours,train_minutes], epochs=30, batch_size = 512,\n",
        "         validation_data = (valid_images, [valid_hours,valid_minutes]), callbacks = [early_stop])"
      ],
      "execution_count": null,
      "outputs": [
        {
          "output_type": "stream",
          "name": "stdout",
          "text": [
            "Epoch 1/30\n",
            "28/28 [==============================] - 38s 219ms/step - loss: 2.5749 - hour_loss: 2.4859 - minute_loss: 0.0890 - hour_accuracy: 0.0813 - hour_mae: 5.4253 - minute_accuracy: 0.0073 - minute_mae: 0.2567 - val_loss: 2.5707 - val_hour_loss: 2.4855 - val_minute_loss: 0.0852 - val_hour_accuracy: 0.0800 - val_hour_mae: 5.5397 - val_minute_accuracy: 0.0140 - val_minute_mae: 0.2539\n",
            "Epoch 2/30\n",
            "28/28 [==============================] - 5s 167ms/step - loss: 2.5693 - hour_loss: 2.4850 - minute_loss: 0.0843 - hour_accuracy: 0.0827 - hour_mae: 5.4253 - minute_accuracy: 0.0082 - minute_mae: 0.2512 - val_loss: 2.5701 - val_hour_loss: 2.4845 - val_minute_loss: 0.0856 - val_hour_accuracy: 0.0880 - val_hour_mae: 5.5397 - val_minute_accuracy: 0.0140 - val_minute_mae: 0.2544\n",
            "Epoch 3/30\n",
            "28/28 [==============================] - 5s 168ms/step - loss: 2.5688 - hour_loss: 2.4850 - minute_loss: 0.0838 - hour_accuracy: 0.0813 - hour_mae: 5.4253 - minute_accuracy: 0.0109 - minute_mae: 0.2507 - val_loss: 2.5706 - val_hour_loss: 2.4852 - val_minute_loss: 0.0854 - val_hour_accuracy: 0.0780 - val_hour_mae: 5.5397 - val_minute_accuracy: 0.0000e+00 - val_minute_mae: 0.2539\n",
            "Epoch 4/30\n",
            "28/28 [==============================] - 5s 167ms/step - loss: 2.5690 - hour_loss: 2.4849 - minute_loss: 0.0840 - hour_accuracy: 0.0846 - hour_mae: 5.4253 - minute_accuracy: 0.0094 - minute_mae: 0.2511 - val_loss: 2.5701 - val_hour_loss: 2.4851 - val_minute_loss: 0.0851 - val_hour_accuracy: 0.0780 - val_hour_mae: 5.5397 - val_minute_accuracy: 0.0120 - val_minute_mae: 0.2538\n",
            "Epoch 5/30\n",
            "28/28 [==============================] - 5s 168ms/step - loss: 2.5686 - hour_loss: 2.4850 - minute_loss: 0.0836 - hour_accuracy: 0.0822 - hour_mae: 5.4253 - minute_accuracy: 0.0126 - minute_mae: 0.2503 - val_loss: 2.5704 - val_hour_loss: 2.4853 - val_minute_loss: 0.0851 - val_hour_accuracy: 0.0780 - val_hour_mae: 5.5397 - val_minute_accuracy: 0.0000e+00 - val_minute_mae: 0.2538\n",
            "Epoch 6/30\n",
            "28/28 [==============================] - 5s 168ms/step - loss: 2.5686 - hour_loss: 2.4849 - minute_loss: 0.0837 - hour_accuracy: 0.0818 - hour_mae: 5.4253 - minute_accuracy: 0.0108 - minute_mae: 0.2505 - val_loss: 2.5701 - val_hour_loss: 2.4849 - val_minute_loss: 0.0851 - val_hour_accuracy: 0.0800 - val_hour_mae: 5.5397 - val_minute_accuracy: 0.0120 - val_minute_mae: 0.2539\n",
            "Epoch 7/30\n",
            "28/28 [==============================] - 5s 167ms/step - loss: 2.5680 - hour_loss: 2.4849 - minute_loss: 0.0831 - hour_accuracy: 0.0827 - hour_mae: 5.4253 - minute_accuracy: 0.0123 - minute_mae: 0.2495 - val_loss: 2.5694 - val_hour_loss: 2.4852 - val_minute_loss: 0.0843 - val_hour_accuracy: 0.0760 - val_hour_mae: 5.5397 - val_minute_accuracy: 0.0080 - val_minute_mae: 0.2520\n",
            "Epoch 8/30\n",
            "28/28 [==============================] - 5s 168ms/step - loss: 2.5660 - hour_loss: 2.4848 - minute_loss: 0.0812 - hour_accuracy: 0.0840 - hour_mae: 5.4253 - minute_accuracy: 0.0109 - minute_mae: 0.2442 - val_loss: 2.5658 - val_hour_loss: 2.4846 - val_minute_loss: 0.0811 - val_hour_accuracy: 0.0820 - val_hour_mae: 5.5397 - val_minute_accuracy: 0.0100 - val_minute_mae: 0.2441\n",
            "Epoch 9/30\n",
            "28/28 [==============================] - 5s 168ms/step - loss: 2.5554 - hour_loss: 2.4785 - minute_loss: 0.0769 - hour_accuracy: 0.0925 - hour_mae: 5.4253 - minute_accuracy: 0.0094 - minute_mae: 0.2306 - val_loss: 2.5164 - val_hour_loss: 2.4368 - val_minute_loss: 0.0797 - val_hour_accuracy: 0.1020 - val_hour_mae: 5.5397 - val_minute_accuracy: 0.0100 - val_minute_mae: 0.2377\n",
            "Epoch 10/30\n",
            "28/28 [==============================] - 5s 166ms/step - loss: 2.4701 - hour_loss: 2.3963 - minute_loss: 0.0738 - hour_accuracy: 0.1196 - hour_mae: 5.4253 - minute_accuracy: 0.0096 - minute_mae: 0.2234 - val_loss: 2.4064 - val_hour_loss: 2.3355 - val_minute_loss: 0.0709 - val_hour_accuracy: 0.1300 - val_hour_mae: 5.5397 - val_minute_accuracy: 0.0040 - val_minute_mae: 0.2140\n",
            "Epoch 11/30\n",
            "28/28 [==============================] - 5s 166ms/step - loss: 2.3380 - hour_loss: 2.2658 - minute_loss: 0.0721 - hour_accuracy: 0.1444 - hour_mae: 5.4253 - minute_accuracy: 0.0094 - minute_mae: 0.2192 - val_loss: 2.2649 - val_hour_loss: 2.1947 - val_minute_loss: 0.0703 - val_hour_accuracy: 0.1580 - val_hour_mae: 5.5397 - val_minute_accuracy: 0.0060 - val_minute_mae: 0.2171\n",
            "Epoch 12/30\n",
            "28/28 [==============================] - 5s 168ms/step - loss: 2.1802 - hour_loss: 2.1095 - minute_loss: 0.0707 - hour_accuracy: 0.1696 - hour_mae: 5.4253 - minute_accuracy: 0.0091 - minute_mae: 0.2172 - val_loss: 2.1535 - val_hour_loss: 2.0733 - val_minute_loss: 0.0801 - val_hour_accuracy: 0.2140 - val_hour_mae: 5.5397 - val_minute_accuracy: 0.0100 - val_minute_mae: 0.2300\n",
            "Epoch 13/30\n",
            "28/28 [==============================] - 5s 167ms/step - loss: 1.9831 - hour_loss: 1.9149 - minute_loss: 0.0682 - hour_accuracy: 0.2360 - hour_mae: 5.4253 - minute_accuracy: 0.0095 - minute_mae: 0.2109 - val_loss: 1.9301 - val_hour_loss: 1.8614 - val_minute_loss: 0.0687 - val_hour_accuracy: 0.2580 - val_hour_mae: 5.5397 - val_minute_accuracy: 0.0060 - val_minute_mae: 0.2061\n",
            "Epoch 14/30\n",
            "28/28 [==============================] - 5s 166ms/step - loss: 1.7401 - hour_loss: 1.6755 - minute_loss: 0.0646 - hour_accuracy: 0.3386 - hour_mae: 5.4253 - minute_accuracy: 0.0104 - minute_mae: 0.2010 - val_loss: 1.5541 - val_hour_loss: 1.4887 - val_minute_loss: 0.0654 - val_hour_accuracy: 0.4300 - val_hour_mae: 5.5397 - val_minute_accuracy: 0.0080 - val_minute_mae: 0.2003\n",
            "Epoch 15/30\n",
            "28/28 [==============================] - 5s 166ms/step - loss: 1.3288 - hour_loss: 1.2703 - minute_loss: 0.0585 - hour_accuracy: 0.5010 - hour_mae: 5.4253 - minute_accuracy: 0.0104 - minute_mae: 0.1879 - val_loss: 1.2446 - val_hour_loss: 1.1824 - val_minute_loss: 0.0622 - val_hour_accuracy: 0.5380 - val_hour_mae: 5.5397 - val_minute_accuracy: 0.0100 - val_minute_mae: 0.1928\n",
            "Epoch 16/30\n",
            "28/28 [==============================] - 5s 167ms/step - loss: 1.0420 - hour_loss: 0.9845 - minute_loss: 0.0575 - hour_accuracy: 0.6114 - hour_mae: 5.4253 - minute_accuracy: 0.0109 - minute_mae: 0.1861 - val_loss: 1.1003 - val_hour_loss: 1.0325 - val_minute_loss: 0.0678 - val_hour_accuracy: 0.6100 - val_hour_mae: 5.5397 - val_minute_accuracy: 0.0100 - val_minute_mae: 0.2050\n",
            "Epoch 17/30\n",
            "28/28 [==============================] - 5s 167ms/step - loss: 0.8133 - hour_loss: 0.7582 - minute_loss: 0.0551 - hour_accuracy: 0.6981 - hour_mae: 5.4253 - minute_accuracy: 0.0100 - minute_mae: 0.1810 - val_loss: 1.1377 - val_hour_loss: 1.0807 - val_minute_loss: 0.0570 - val_hour_accuracy: 0.5980 - val_hour_mae: 5.5397 - val_minute_accuracy: 0.0060 - val_minute_mae: 0.1800\n",
            "Epoch 18/30\n",
            "28/28 [==============================] - 5s 167ms/step - loss: 0.7231 - hour_loss: 0.6709 - minute_loss: 0.0521 - hour_accuracy: 0.7393 - hour_mae: 5.4253 - minute_accuracy: 0.0114 - minute_mae: 0.1754 - val_loss: 0.8636 - val_hour_loss: 0.8112 - val_minute_loss: 0.0524 - val_hour_accuracy: 0.7140 - val_hour_mae: 5.5397 - val_minute_accuracy: 0.0060 - val_minute_mae: 0.1755\n",
            "Epoch 19/30\n",
            "28/28 [==============================] - 5s 167ms/step - loss: 0.5745 - hour_loss: 0.5265 - minute_loss: 0.0480 - hour_accuracy: 0.7937 - hour_mae: 5.4253 - minute_accuracy: 0.0115 - minute_mae: 0.1665 - val_loss: 0.8474 - val_hour_loss: 0.7959 - val_minute_loss: 0.0515 - val_hour_accuracy: 0.7140 - val_hour_mae: 5.5397 - val_minute_accuracy: 0.0080 - val_minute_mae: 0.1687\n",
            "Epoch 20/30\n",
            "28/28 [==============================] - 5s 167ms/step - loss: 0.4767 - hour_loss: 0.4299 - minute_loss: 0.0468 - hour_accuracy: 0.8279 - hour_mae: 5.4253 - minute_accuracy: 0.0120 - minute_mae: 0.1642 - val_loss: 0.7304 - val_hour_loss: 0.6791 - val_minute_loss: 0.0513 - val_hour_accuracy: 0.7460 - val_hour_mae: 5.5397 - val_minute_accuracy: 0.0060 - val_minute_mae: 0.1677\n",
            "Epoch 21/30\n",
            "28/28 [==============================] - 5s 166ms/step - loss: 0.3858 - hour_loss: 0.3407 - minute_loss: 0.0451 - hour_accuracy: 0.8699 - hour_mae: 5.4253 - minute_accuracy: 0.0119 - minute_mae: 0.1606 - val_loss: 0.7040 - val_hour_loss: 0.6568 - val_minute_loss: 0.0473 - val_hour_accuracy: 0.7760 - val_hour_mae: 5.5397 - val_minute_accuracy: 0.0080 - val_minute_mae: 0.1596\n",
            "Epoch 22/30\n",
            "28/28 [==============================] - 5s 167ms/step - loss: 0.3213 - hour_loss: 0.2786 - minute_loss: 0.0427 - hour_accuracy: 0.8984 - hour_mae: 5.4253 - minute_accuracy: 0.0121 - minute_mae: 0.1556 - val_loss: 0.6508 - val_hour_loss: 0.6058 - val_minute_loss: 0.0450 - val_hour_accuracy: 0.8180 - val_hour_mae: 5.5397 - val_minute_accuracy: 0.0100 - val_minute_mae: 0.1578\n",
            "Epoch 23/30\n",
            "28/28 [==============================] - 5s 168ms/step - loss: 0.2867 - hour_loss: 0.2466 - minute_loss: 0.0401 - hour_accuracy: 0.9054 - hour_mae: 5.4253 - minute_accuracy: 0.0124 - minute_mae: 0.1494 - val_loss: 0.5731 - val_hour_loss: 0.5317 - val_minute_loss: 0.0414 - val_hour_accuracy: 0.8180 - val_hour_mae: 5.5397 - val_minute_accuracy: 0.0080 - val_minute_mae: 0.1457\n",
            "Epoch 24/30\n",
            "28/28 [==============================] - 5s 167ms/step - loss: 0.2280 - hour_loss: 0.1905 - minute_loss: 0.0375 - hour_accuracy: 0.9287 - hour_mae: 5.4253 - minute_accuracy: 0.0122 - minute_mae: 0.1423 - val_loss: 0.5683 - val_hour_loss: 0.5270 - val_minute_loss: 0.0413 - val_hour_accuracy: 0.8460 - val_hour_mae: 5.5397 - val_minute_accuracy: 0.0060 - val_minute_mae: 0.1460\n",
            "Epoch 25/30\n",
            "28/28 [==============================] - 5s 166ms/step - loss: 0.1973 - hour_loss: 0.1609 - minute_loss: 0.0365 - hour_accuracy: 0.9424 - hour_mae: 5.4253 - minute_accuracy: 0.0128 - minute_mae: 0.1401 - val_loss: 0.6143 - val_hour_loss: 0.5696 - val_minute_loss: 0.0447 - val_hour_accuracy: 0.8280 - val_hour_mae: 5.5397 - val_minute_accuracy: 0.0080 - val_minute_mae: 0.1467\n",
            "Epoch 26/30\n",
            "28/28 [==============================] - 5s 166ms/step - loss: 0.1933 - hour_loss: 0.1574 - minute_loss: 0.0359 - hour_accuracy: 0.9409 - hour_mae: 5.4253 - minute_accuracy: 0.0129 - minute_mae: 0.1386 - val_loss: 0.6287 - val_hour_loss: 0.5888 - val_minute_loss: 0.0399 - val_hour_accuracy: 0.8320 - val_hour_mae: 5.5397 - val_minute_accuracy: 0.0080 - val_minute_mae: 0.1411\n",
            "Epoch 27/30\n",
            "28/28 [==============================] - 5s 166ms/step - loss: 0.1734 - hour_loss: 0.1398 - minute_loss: 0.0336 - hour_accuracy: 0.9478 - hour_mae: 5.4253 - minute_accuracy: 0.0129 - minute_mae: 0.1318 - val_loss: 0.6427 - val_hour_loss: 0.6016 - val_minute_loss: 0.0411 - val_hour_accuracy: 0.8220 - val_hour_mae: 5.5397 - val_minute_accuracy: 0.0040 - val_minute_mae: 0.1419\n",
            "Epoch 28/30\n",
            "28/28 [==============================] - 5s 167ms/step - loss: 0.1540 - hour_loss: 0.1221 - minute_loss: 0.0319 - hour_accuracy: 0.9574 - hour_mae: 5.4253 - minute_accuracy: 0.0132 - minute_mae: 0.1285 - val_loss: 0.6253 - val_hour_loss: 0.5881 - val_minute_loss: 0.0372 - val_hour_accuracy: 0.8320 - val_hour_mae: 5.5397 - val_minute_accuracy: 0.0060 - val_minute_mae: 0.1334\n",
            "Epoch 29/30\n",
            "28/28 [==============================] - 5s 167ms/step - loss: 0.1798 - hour_loss: 0.1497 - minute_loss: 0.0301 - hour_accuracy: 0.9468 - hour_mae: 5.4253 - minute_accuracy: 0.0137 - minute_mae: 0.1230 - val_loss: 0.6070 - val_hour_loss: 0.5710 - val_minute_loss: 0.0360 - val_hour_accuracy: 0.8300 - val_hour_mae: 5.5397 - val_minute_accuracy: 0.0080 - val_minute_mae: 0.1259\n",
            "Epoch 30/30\n",
            "28/28 [==============================] - 5s 169ms/step - loss: 0.1527 - hour_loss: 0.1223 - minute_loss: 0.0303 - hour_accuracy: 0.9562 - hour_mae: 5.4253 - minute_accuracy: 0.0132 - minute_mae: 0.1224 - val_loss: 0.5584 - val_hour_loss: 0.5216 - val_minute_loss: 0.0368 - val_hour_accuracy: 0.8480 - val_hour_mae: 5.5397 - val_minute_accuracy: 0.0040 - val_minute_mae: 0.1300\n"
          ]
        },
        {
          "output_type": "execute_result",
          "data": {
            "text/plain": [
              "<keras.callbacks.History at 0x7f2437776990>"
            ]
          },
          "metadata": {},
          "execution_count": 7
        }
      ]
    },
    {
      "cell_type": "code",
      "metadata": {
        "id": "wG5jsjeuM82H"
      },
      "source": [
        "predictions = model.predict(test_images)"
      ],
      "execution_count": null,
      "outputs": []
    },
    {
      "cell_type": "code",
      "metadata": {
        "id": "fcmlbIF1NW4j"
      },
      "source": [
        "hour_p = np.argmax(predictions[0], axis = 1)\n",
        "minutes_p = predictions[1]"
      ],
      "execution_count": null,
      "outputs": []
    },
    {
      "cell_type": "code",
      "metadata": {
        "id": "A0CL_V2AM8EM"
      },
      "source": [
        "def difference_func(h_pred,m_pred,y_h,y_m):\n",
        "  tmp = h_pred * 60 + np.transpose(m_pred )# in minute\n",
        "  tmp2 = y_h * 60 + y_m\n",
        "  diff_one = np.maximum(tmp,tmp2) - np.minimum(tmp,tmp2)\n",
        "  diff_two = np.minimum(tmp,tmp2) + 720 - np.maximum(tmp,tmp2)\n",
        "  return np.minimum(diff_one,diff_two)"
      ],
      "execution_count": null,
      "outputs": []
    },
    {
      "cell_type": "code",
      "metadata": {
        "id": "RZholnBbWY17"
      },
      "source": [
        "error = difference_func(hour_p,minutes_p,test_hours,test_minutes)"
      ],
      "execution_count": null,
      "outputs": []
    },
    {
      "cell_type": "code",
      "metadata": {
        "colab": {
          "base_uri": "https://localhost:8080/"
        },
        "id": "ZQ22UhWNXCUv",
        "outputId": "c981a208-a5d0-4b5c-d060-2e5d2206166b"
      },
      "source": [
        "np.mean(error)  #on average 11.014 minutes mistake"
      ],
      "execution_count": null,
      "outputs": [
        {
          "output_type": "execute_result",
          "data": {
            "text/plain": [
              "11.0148039839246"
            ]
          },
          "metadata": {},
          "execution_count": 25
        }
      ]
    },
    {
      "cell_type": "markdown",
      "metadata": {
        "id": "rT7Qab6Yll-T"
      },
      "source": [
        "## Periodic function CNN \n"
      ]
    },
    {
      "cell_type": "code",
      "metadata": {
        "id": "Aas4DQNReasM"
      },
      "source": [
        "# Make everything in minutes\n",
        "sine_time_train = (train_hours  + train_minutes) \n",
        "sine_time_test = (test_hours  + test_minutes)  \n",
        "sine_time_valid = (valid_hours + valid_minutes) "
      ],
      "execution_count": 20,
      "outputs": []
    },
    {
      "cell_type": "code",
      "metadata": {
        "colab": {
          "base_uri": "https://localhost:8080/"
        },
        "id": "gK6jeFcrZnCO",
        "outputId": "6205ca4e-c390-4a50-9098-99f50c03d371"
      },
      "source": [
        "np.max(sine_time_train)"
      ],
      "execution_count": 6,
      "outputs": [
        {
          "output_type": "execute_result",
          "data": {
            "text/plain": [
              "11.983334"
            ]
          },
          "metadata": {},
          "execution_count": 6
        }
      ]
    },
    {
      "cell_type": "code",
      "metadata": {
        "id": "_MboE6PfeVkV"
      },
      "source": [
        "# Function to make everything in the support of the sine function.\n",
        "def sine_transform(data, max):\n",
        "  tmp = data / max # to normalize\n",
        "  return np.sin(tmp)"
      ],
      "execution_count": 21,
      "outputs": []
    },
    {
      "cell_type": "code",
      "metadata": {
        "id": "BPZkme_CezI-"
      },
      "source": [
        "sine_angle_train = np.empty(13900, dtype=float)\n",
        "sine_angle_test = np.empty(3600, dtype=float)\n",
        "sine_angle_valid = np.empty(500, dtype=float)\n",
        "\n",
        "for i in np.arange(len(sine_angle_train)):\n",
        "  sine_angle_train[i] = sine_transform(sine_time_train[i], np.max(sine_time_train))\n",
        "\n",
        "for i in np.arange(len(sine_angle_test)):\n",
        "  sine_angle_test[i] = sine_transform(sine_time_test[i], np.max(sine_time_test))\n",
        "\n",
        "for i in np.arange(len(sine_angle_valid)):\n",
        "  sine_angle_valid[i] = sine_transform(sine_time_valid[i], np.max(sine_time_valid))"
      ],
      "execution_count": 22,
      "outputs": []
    },
    {
      "cell_type": "code",
      "metadata": {
        "colab": {
          "base_uri": "https://localhost:8080/"
        },
        "id": "3EWJ_5V9Y7pb",
        "outputId": "7a5663b0-03d9-4fac-ffb9-fb63d68788de"
      },
      "source": [
        "np.random.seed(1938266)\n",
        "\n",
        "# Sin Regression CNN\n",
        "\n",
        "input_shape=(images.shape[1], images.shape[2], 1)\n",
        "\n",
        "sin_reg = keras.models.Sequential()\n",
        "sin_reg.add(keras.layers.Conv2D(activation='relu', filters=32, kernel_size=(3,3), strides = (2,2),input_shape=input_shape))\n",
        "sin_reg.add(keras.layers.MaxPooling2D(pool_size=2))\n",
        "sin_reg.add(keras.layers.Conv2D(filters=32, kernel_size=(3,3), activation='relu'))\n",
        "sin_reg.add(keras.layers.Conv2D(filters=32 ,kernel_size=(3,3), activation='relu'))\n",
        "sin_reg.add(keras.layers.MaxPooling2D(pool_size=2))\n",
        "sin_reg.add(keras.layers.Conv2D(filters=64, kernel_size=(3,3), activation='relu'))\n",
        "sin_reg.add(keras.layers.Conv2D(filters=64, kernel_size=(3,3), activation='relu'))\n",
        "\n",
        "\n",
        "sin_reg.add(keras.layers.Flatten())\n",
        "sin_reg.add(keras.layers.Dense(units=512, activation='relu'))\n",
        "sin_reg.add(keras.layers.Dense(units=512, activation='relu'))\n",
        "sin_reg.add(keras.layers.Dense(units=256, activation='relu'))\n",
        "sin_reg.add(keras.layers.Dense(units=256, activation='relu'))\n",
        "sin_reg.add(keras.layers.Dropout(0.2))\n",
        "sin_reg.add(keras.layers.Dense(units=256, activation='relu'))\n",
        "sin_reg.add(keras.layers.Dense(units=256, activation='relu'))\n",
        "sin_reg.add(keras.layers.Dropout(0.2))\n",
        "sin_reg.add(keras.layers.Dense(units=128, activation='relu'))\n",
        "sin_reg.add(keras.layers.Dense(units=64, activation='relu'))\n",
        "sin_reg.add(keras.layers.Dense(units=32, activation='relu'))\n",
        "sin_reg.add(keras.layers.Dense(units=1, activation=\"softplus\"))\n",
        "early_stop = keras.callbacks.EarlyStopping(monitor = \"val_loss\", patience = 10)\n",
        "optimizer = keras.optimizers.Adam(learning_rate=0.001)\n",
        "sin_reg.compile(loss='mse', optimizer= optimizer, metrics=['mae'])\n",
        "sin_reg.fit(train_images, sine_angle_train, epochs=45, batch_size = 512, validation_data = (valid_images,sine_angle_valid), callbacks = [early_stop])"
      ],
      "execution_count": 54,
      "outputs": [
        {
          "output_type": "stream",
          "name": "stdout",
          "text": [
            "Epoch 1/45\n",
            "28/28 [==============================] - 6s 184ms/step - loss: 0.0755 - mae: 0.2307 - val_loss: 0.0611 - val_mae: 0.2144\n",
            "Epoch 2/45\n",
            "28/28 [==============================] - 5s 171ms/step - loss: 0.0622 - mae: 0.2163 - val_loss: 0.0614 - val_mae: 0.2162\n",
            "Epoch 3/45\n",
            "28/28 [==============================] - 5s 171ms/step - loss: 0.0620 - mae: 0.2162 - val_loss: 0.0615 - val_mae: 0.2164\n",
            "Epoch 4/45\n",
            "28/28 [==============================] - 5s 169ms/step - loss: 0.0621 - mae: 0.2162 - val_loss: 0.0611 - val_mae: 0.2147\n",
            "Epoch 5/45\n",
            "28/28 [==============================] - 5s 172ms/step - loss: 0.0621 - mae: 0.2163 - val_loss: 0.0614 - val_mae: 0.2163\n",
            "Epoch 6/45\n",
            "28/28 [==============================] - 5s 171ms/step - loss: 0.0622 - mae: 0.2164 - val_loss: 0.0611 - val_mae: 0.2135\n",
            "Epoch 7/45\n",
            "28/28 [==============================] - 5s 170ms/step - loss: 0.0620 - mae: 0.2159 - val_loss: 0.0611 - val_mae: 0.2135\n",
            "Epoch 8/45\n",
            "28/28 [==============================] - 5s 170ms/step - loss: 0.0617 - mae: 0.2158 - val_loss: 0.0610 - val_mae: 0.2137\n",
            "Epoch 9/45\n",
            "28/28 [==============================] - 5s 171ms/step - loss: 0.0622 - mae: 0.2164 - val_loss: 0.0612 - val_mae: 0.2131\n",
            "Epoch 10/45\n",
            "28/28 [==============================] - 5s 172ms/step - loss: 0.0617 - mae: 0.2157 - val_loss: 0.0610 - val_mae: 0.2151\n",
            "Epoch 11/45\n",
            "28/28 [==============================] - 5s 171ms/step - loss: 0.0609 - mae: 0.2138 - val_loss: 0.0650 - val_mae: 0.2116\n",
            "Epoch 12/45\n",
            "28/28 [==============================] - 5s 171ms/step - loss: 0.0568 - mae: 0.2012 - val_loss: 0.0587 - val_mae: 0.2036\n",
            "Epoch 13/45\n",
            "28/28 [==============================] - 5s 172ms/step - loss: 0.0501 - mae: 0.1817 - val_loss: 0.0446 - val_mae: 0.1648\n",
            "Epoch 14/45\n",
            "28/28 [==============================] - 5s 171ms/step - loss: 0.0391 - mae: 0.1528 - val_loss: 0.0333 - val_mae: 0.1353\n",
            "Epoch 15/45\n",
            "28/28 [==============================] - 5s 169ms/step - loss: 0.0286 - mae: 0.1244 - val_loss: 0.0300 - val_mae: 0.1211\n",
            "Epoch 16/45\n",
            "28/28 [==============================] - 5s 171ms/step - loss: 0.0215 - mae: 0.1028 - val_loss: 0.0221 - val_mae: 0.1042\n",
            "Epoch 17/45\n",
            "28/28 [==============================] - 5s 171ms/step - loss: 0.0162 - mae: 0.0876 - val_loss: 0.0141 - val_mae: 0.0797\n",
            "Epoch 18/45\n",
            "28/28 [==============================] - 5s 171ms/step - loss: 0.0116 - mae: 0.0698 - val_loss: 0.0157 - val_mae: 0.0786\n",
            "Epoch 19/45\n",
            "28/28 [==============================] - 5s 171ms/step - loss: 0.0100 - mae: 0.0638 - val_loss: 0.0117 - val_mae: 0.0679\n",
            "Epoch 20/45\n",
            "28/28 [==============================] - 5s 171ms/step - loss: 0.0076 - mae: 0.0552 - val_loss: 0.0095 - val_mae: 0.0604\n",
            "Epoch 21/45\n",
            "28/28 [==============================] - 5s 170ms/step - loss: 0.0057 - mae: 0.0485 - val_loss: 0.0086 - val_mae: 0.0545\n",
            "Epoch 22/45\n",
            "28/28 [==============================] - 5s 172ms/step - loss: 0.0067 - mae: 0.0521 - val_loss: 0.0078 - val_mae: 0.0523\n",
            "Epoch 23/45\n",
            "28/28 [==============================] - 5s 170ms/step - loss: 0.0056 - mae: 0.0456 - val_loss: 0.0203 - val_mae: 0.0856\n",
            "Epoch 24/45\n",
            "28/28 [==============================] - 5s 171ms/step - loss: 0.0109 - mae: 0.0663 - val_loss: 0.0096 - val_mae: 0.0596\n",
            "Epoch 25/45\n",
            "28/28 [==============================] - 5s 170ms/step - loss: 0.0042 - mae: 0.0419 - val_loss: 0.0077 - val_mae: 0.0497\n",
            "Epoch 26/45\n",
            "28/28 [==============================] - 5s 171ms/step - loss: 0.0038 - mae: 0.0389 - val_loss: 0.0057 - val_mae: 0.0417\n",
            "Epoch 27/45\n",
            "28/28 [==============================] - 5s 170ms/step - loss: 0.0022 - mae: 0.0319 - val_loss: 0.0036 - val_mae: 0.0355\n",
            "Epoch 28/45\n",
            "28/28 [==============================] - 5s 171ms/step - loss: 0.0017 - mae: 0.0285 - val_loss: 0.0046 - val_mae: 0.0358\n",
            "Epoch 29/45\n",
            "28/28 [==============================] - 5s 171ms/step - loss: 0.0014 - mae: 0.0260 - val_loss: 0.0043 - val_mae: 0.0335\n",
            "Epoch 30/45\n",
            "28/28 [==============================] - 5s 170ms/step - loss: 0.0034 - mae: 0.0340 - val_loss: 0.0077 - val_mae: 0.0465\n",
            "Epoch 31/45\n",
            "28/28 [==============================] - 5s 170ms/step - loss: 0.0023 - mae: 0.0315 - val_loss: 0.0074 - val_mae: 0.0375\n",
            "Epoch 32/45\n",
            "28/28 [==============================] - 5s 170ms/step - loss: 0.0012 - mae: 0.0241 - val_loss: 0.0057 - val_mae: 0.0343\n",
            "Epoch 33/45\n",
            "28/28 [==============================] - 5s 171ms/step - loss: 0.0026 - mae: 0.0310 - val_loss: 0.0071 - val_mae: 0.0420\n",
            "Epoch 34/45\n",
            "28/28 [==============================] - 5s 169ms/step - loss: 0.0045 - mae: 0.0390 - val_loss: 0.0067 - val_mae: 0.0400\n",
            "Epoch 35/45\n",
            "28/28 [==============================] - 5s 173ms/step - loss: 0.0015 - mae: 0.0266 - val_loss: 0.0055 - val_mae: 0.0345\n",
            "Epoch 36/45\n",
            "28/28 [==============================] - 5s 170ms/step - loss: 0.0014 - mae: 0.0242 - val_loss: 0.0070 - val_mae: 0.0357\n",
            "Epoch 37/45\n",
            "28/28 [==============================] - 5s 171ms/step - loss: 0.0015 - mae: 0.0243 - val_loss: 0.0077 - val_mae: 0.0370\n"
          ]
        },
        {
          "output_type": "execute_result",
          "data": {
            "text/plain": [
              "<keras.callbacks.History at 0x7fde0d9afb90>"
            ]
          },
          "metadata": {},
          "execution_count": 54
        }
      ]
    },
    {
      "cell_type": "code",
      "metadata": {
        "id": "kJKlpXXleQdL"
      },
      "source": [
        "predictions = sin_reg.predict(test_images)"
      ],
      "execution_count": 55,
      "outputs": []
    },
    {
      "cell_type": "code",
      "metadata": {
        "id": "2rtJemvCf7Fs"
      },
      "source": [
        "def difference_func(pred,y):\n",
        "  pred = np.transpose(pred)\n",
        "  diff_one = np.maximum(pred,y) - np.minimum(pred,y)\n",
        "  diff_two = np.minimum(pred,y) + 1 - np.maximum(pred,y)\n",
        "  return np.minimum(diff_one,diff_two)"
      ],
      "execution_count": 57,
      "outputs": []
    },
    {
      "cell_type": "code",
      "metadata": {
        "id": "YeagAYe7gGch"
      },
      "source": [
        "result = difference_func(predictions,sine_angle_test)"
      ],
      "execution_count": 58,
      "outputs": []
    },
    {
      "cell_type": "code",
      "metadata": {
        "id": "r4PhFhwbgRvJ"
      },
      "source": [
        "result = result.reshape(-1,1)"
      ],
      "execution_count": 59,
      "outputs": []
    },
    {
      "cell_type": "code",
      "metadata": {
        "id": "zUHGpo98fG6M"
      },
      "source": [
        "def go_back(data, max):\n",
        "  out = np.empty(3600, dtype=float)\n",
        "  for i in np.arange(len(data)):\n",
        "    out[i] = np.arcsin(data[i]) * max\n",
        "\n",
        "  return(out)"
      ],
      "execution_count": 60,
      "outputs": []
    },
    {
      "cell_type": "code",
      "metadata": {
        "id": "i-AdIvIjgVcE"
      },
      "source": [
        "go_back = go_back(result, np.max(sine_time_train))"
      ],
      "execution_count": 61,
      "outputs": []
    },
    {
      "cell_type": "code",
      "metadata": {
        "colab": {
          "base_uri": "https://localhost:8080/"
        },
        "id": "LmH5CBWViX5W",
        "outputId": "8f4278f6-ba86-4fd9-d185-459bfb4b9faf"
      },
      "source": [
        "np.mean(go_back) * 60"
      ],
      "execution_count": 63,
      "outputs": [
        {
          "output_type": "execute_result",
          "data": {
            "text/plain": [
              "23.882693734323716"
            ]
          },
          "metadata": {},
          "execution_count": 63
        }
      ]
    }
  ]
}